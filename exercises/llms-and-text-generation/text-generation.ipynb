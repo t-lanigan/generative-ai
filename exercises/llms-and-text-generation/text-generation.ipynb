{
 "cells": [
  {
   "cell_type": "code",
   "execution_count": 1,
   "metadata": {},
   "outputs": [
    {
     "name": "stderr",
     "output_type": "stream",
     "text": [
      "/opt/conda/lib/python3.10/site-packages/tqdm/auto.py:21: TqdmWarning: IProgress not found. Please update jupyter and ipywidgets. See https://ipywidgets.readthedocs.io/en/stable/user_install.html\n",
      "  from .autonotebook import tqdm as notebook_tqdm\n"
     ]
    }
   ],
   "source": [
    "from __future__ import annotations\n",
    "\n",
    "import torch\n",
    "import torch.nn as nn\n",
    "import torch.optim as optim\n",
    "from torch.utils.data import DataLoader\n",
    "from transformers import AutoTokenizer\n",
    "\n",
    "from helper import (\n",
    "    start_time,\n",
    "    time_since,\n",
    "    ShakespeareDataset,\n",
    "    TokenMapping,\n",
    "    build_model,\n",
    "    next_token,\n",
    "    # Character-based helpers\n",
    "    encode_text,\n",
    "    # Subword-based helpers\n",
    "    encode_text_from_tokenizer,\n",
    "    tokenize_text_from_tokenizer,\n",
    ")"
   ]
  },
  {
   "cell_type": "code",
   "execution_count": 2,
   "metadata": {},
   "outputs": [
    {
     "name": "stdout",
     "output_type": "stream",
     "text": [
      "cuda:0\n"
     ]
    }
   ],
   "source": [
    "# Deterministic training\n",
    "torch.manual_seed(0)\n",
    "\n",
    "# Attempt GPU; if not, stay on CPU\n",
    "device = torch.device('cuda:0' if torch.cuda.is_available() else 'cpu')\n",
    "print(device)"
   ]
  },
  {
   "cell_type": "markdown",
   "metadata": {},
   "source": [
    "# Load Data"
   ]
  },
  {
   "cell_type": "code",
   "execution_count": 3,
   "metadata": {},
   "outputs": [
    {
     "name": "stdout",
     "output_type": "stream",
     "text": [
      "Number of characters in text file: 50,085\n"
     ]
    }
   ],
   "source": [
    "# Reduced data to make it manageable for smaller systems\n",
    "DATA_FILE: str = '../data/shakespeare_small.txt'\n",
    "\n",
    "with open(DATA_FILE, 'r') as data_file:\n",
    "    raw_text = data_file.read()\n",
    "\n",
    "print(f'Number of characters in text file: {len(raw_text):,}')"
   ]
  },
  {
   "cell_type": "markdown",
   "metadata": {},
   "source": [
    "# Character-Based Text Generation\n",
    "\n",
    "The first model you'll build for text generation will use character-based\n",
    "tokens.\n",
    "\n",
    "Each token will be a single character from the text and the model will learn\n",
    "to predict the next character (a token).\n",
    "\n",
    "To generate text, the model will take in a new string,\n",
    "character-by-character, and then generate a new likely character based on the\n",
    "past input. Then the model will take into account that new character and\n",
    "generate the following character and so on and so on until the model has\n",
    "produced a set number of characters."
   ]
  },
  {
   "cell_type": "markdown",
   "metadata": {},
   "source": [
    "## Encode Text into Integer Tokens"
   ]
  },
  {
   "cell_type": "markdown",
   "metadata": {},
   "source": [
    "### Normalization"
   ]
  },
  {
   "cell_type": "code",
   "execution_count": 7,
   "metadata": {},
   "outputs": [],
   "source": [
    "import string\n",
    "import re\n",
    "from collections import defaultdict"
   ]
  },
  {
   "cell_type": "code",
   "execution_count": 8,
   "metadata": {},
   "outputs": [],
   "source": [
    "def normalize_text(text: str) -> str:\n",
    "    # COMPLETE: Normalize incoming text; can be multiple actions\n",
    "    # Only keep ASCII letters, numbers, punctuation, and whitespace characters\n",
    "    acceptable_characters = (\n",
    "        string.ascii_letters\n",
    "        + string.digits\n",
    "        + string.punctuation\n",
    "        + string.whitespace\n",
    "    )\n",
    "    normalized_text = ''.join(\n",
    "        filter(lambda letter: letter in acceptable_characters, text)\n",
    "    )\n",
    "    # Make text lower-case\n",
    "    normalized_text = normalized_text.lower()\n",
    "    return normalized_text"
   ]
  },
  {
   "cell_type": "code",
   "execution_count": 9,
   "metadata": {},
   "outputs": [
    {
     "name": "stdout",
     "output_type": "stream",
     "text": [
      "first citizen:\n",
      "before we proceed any further, hear me speak.\n",
      "\n",
      "all:\n",
      "speak, speak.\n",
      "\n",
      "first citizen:\n",
      "you are all resolved rather to die than to famish?\n",
      "\n",
      "all:\n",
      "resolved. resolved.\n",
      "\n",
      "first citizen:\n",
      "first, you know caius marcius is chief enemy to the people.\n",
      "\n",
      "all:\n",
      "we know't, we know't.\n",
      "\n",
      "first citizen:\n",
      "let us kill him, and we'll have corn at our own price.\n",
      "is't a verdict?\n",
      "\n",
      "all:\n",
      "no more talking on't; let it be done: away, away!\n",
      "\n",
      "second citizen:\n",
      "one word, good citizens.\n",
      "\n",
      "first citizen:\n",
      "we are accounted poor\n"
     ]
    }
   ],
   "source": [
    "# TEST: Is your text normalized the way you expected?\n",
    "# Only the first 500 characters of the original text\n",
    "normalized_text = normalize_text(raw_text[:500])\n",
    "print(normalized_text)"
   ]
  },
  {
   "cell_type": "markdown",
   "metadata": {},
   "source": [
    "### Pretokenization"
   ]
  },
  {
   "cell_type": "code",
   "execution_count": 10,
   "metadata": {},
   "outputs": [],
   "source": [
    "def pretokenize_text(text: str) -> list[str]:\n",
    "    smaller_pieces = text.split()\n",
    "    return smaller_pieces"
   ]
  },
  {
   "cell_type": "code",
   "execution_count": 11,
   "metadata": {},
   "outputs": [
    {
     "name": "stdout",
     "output_type": "stream",
     "text": [
      "['first', 'citizen:', 'before', 'we', 'proceed', 'any', 'further,', 'hear', 'me', 'speak.', 'all:', 'speak,', 'speak.', 'first', 'citizen:', 'you', 'are', 'all', 'resolved', 'rather', 'to', 'die', 'than', 'to', 'famish?', 'all:', 'resolved.', 'resolved.', 'first', 'citizen:', 'first,', 'you', 'know', 'caius', 'marcius', 'is', 'chief', 'enemy', 'to', 'the', 'people.', 'all:', 'we', \"know't,\", 'we', \"know't.\", 'first', 'citizen:', 'let', 'us', 'kill', 'him,', 'and', \"we'll\", 'have', 'corn', 'at', 'our', 'own', 'price.', \"is't\", 'a', 'verdict?', 'all:', 'no', 'more', 'talking', \"on't;\", 'let', 'it', 'be', 'done:', 'away,', 'away!', 'second', 'citizen:', 'one', 'word,', 'good', 'citizens.', 'first', 'citizen:', 'we', 'are', 'accounted', 'poor']\n"
     ]
    }
   ],
   "source": [
    "# TEST: Is your (normalized) text pretokenized the way you expected?\n",
    "# Only the first 500 characters of the original text\n",
    "pretokenized_text = pretokenize_text(normalized_text)\n",
    "print(pretokenized_text)"
   ]
  },
  {
   "cell_type": "markdown",
   "metadata": {},
   "source": [
    "### Tokenize"
   ]
  },
  {
   "cell_type": "code",
   "execution_count": 12,
   "metadata": {},
   "outputs": [],
   "source": [
    "# Combine normalization and pretokenization steps\n",
    "def tokenize_text(text: str) -> str | list[str]:\n",
    "    normalized_text: str = normalize_text(text)\n",
    "    pretokenized_text: str | list[str] = pretokenize_text(normalized_text)\n",
    "    # Characters are already tokens so pretokenized text is already tokenized\n",
    "    tokenized_text = pretokenized_text\n",
    "    return tokenized_text"
   ]
  },
  {
   "cell_type": "code",
   "execution_count": 13,
   "metadata": {},
   "outputs": [
    {
     "name": "stdout",
     "output_type": "stream",
     "text": [
      "['first', 'citizen:', 'before', 'we', 'proceed', 'any', 'further,', 'hear', 'me', 'speak.', 'all:', 'speak,', 'speak.', 'first', 'citizen:', 'you', 'are', 'all', 'resolved', 'rather', 'to', 'die', 'than', 'to', 'famish?', 'all:', 'resolved.', 'resolved.', 'first', 'citizen:', 'first,', 'you', 'know', 'caius', 'marcius', 'is', 'chief', 'enemy', 'to', 'the', 'people.', 'all:', 'we', \"know't,\", 'we', \"know't.\", 'first', 'citizen:', 'let', 'us', 'kill', 'him,', 'and', \"we'll\", 'have', 'corn', 'at', 'our', 'own', 'price.', \"is't\", 'a', 'verdict?', 'all:', 'no', 'more', 'talking', \"on't;\", 'let', 'it', 'be', 'done:', 'away,', 'away!', 'second', 'citizen:', 'one', 'word,', 'good', 'citizens.', 'first', 'citizen:', 'we', 'are', 'accounted', 'poor']\n"
     ]
    }
   ],
   "source": [
    "# TEST: Is your tokenized text the way you expected?\n",
    "tokenized_text = tokenize_text(raw_text[:500])\n",
    "print(tokenized_text)"
   ]
  },
  {
   "cell_type": "markdown",
   "metadata": {},
   "source": [
    "### Postprocessing\n",
    "\n",
    "We'll skip postprocessing since we don't have any special tokens we want to\n",
    "consider for our task here."
   ]
  },
  {
   "cell_type": "markdown",
   "metadata": {},
   "source": [
    "### Encode (Tokens → Integer IDs)\n",
    "\n",
    "We have `encode_text()` from our helper module that can encode our text based on\n",
    "our tokenization process from our created `tokenize_text()` function.\n",
    "\n",
    "This will also provide us with `character_mapping`, an object that we can use to\n",
    "map our tokens back and forth from strings to integer IDs."
   ]
  },
  {
   "cell_type": "code",
   "execution_count": 14,
   "metadata": {},
   "outputs": [],
   "source": [
    "encoded_text, character_mapping = encode_text(raw_text, tokenize_text)"
   ]
  },
  {
   "cell_type": "markdown",
   "metadata": {},
   "source": [
    "## Prepare Dataset"
   ]
  },
  {
   "cell_type": "code",
   "execution_count": 15,
   "metadata": {},
   "outputs": [
    {
     "name": "stdout",
     "output_type": "stream",
     "text": [
      "Size of dataset: 8,973 characters\n"
     ]
    }
   ],
   "source": [
    "n_tokens = character_mapping.n_tokens\n",
    "dataset_size = len(encoded_text)\n",
    "print(f'Size of dataset: {dataset_size:,} characters')"
   ]
  },
  {
   "cell_type": "code",
   "execution_count": 16,
   "metadata": {},
   "outputs": [],
   "source": [
    "# Defining sequence length that will be taken in at a time by our model\n",
    "sequence_length = 32 # Number of characters\n",
    "batch_size = 32\n",
    "\n",
    "train_dataset = ShakespeareDataset(encoded_text, sequence_length)\n",
    "train_loader = DataLoader(\n",
    "    train_dataset,\n",
    "    shuffle=False, # Ensure deterministic training\n",
    "    batch_size=batch_size,\n",
    ")"
   ]
  },
  {
   "cell_type": "markdown",
   "metadata": {},
   "source": [
    "## Define Model\n",
    "\n",
    "We'll provide a defined model today, but this could be a step that you would\n",
    "modify and experiment in other NLP projects you'll do."
   ]
  },
  {
   "cell_type": "code",
   "execution_count": 17,
   "metadata": {},
   "outputs": [],
   "source": [
    "# Defining the model to be trained and generate text with\n",
    "model = build_model(n_tokens)\n",
    "model.to(device)\n",
    "criterion = nn.CrossEntropyLoss()\n",
    "optimizer = optim.Adam(model.parameters())"
   ]
  },
  {
   "cell_type": "markdown",
   "metadata": {},
   "source": [
    "## Define Text Generation\n",
    "\n",
    "The `generate_text_by_char()` function will use your tokenizer and NLP model to\n",
    "generate new text token-by-token (character-by-character in this case) by taking\n",
    "in the input text and token sampling parameters.\n",
    "\n",
    "We can use temperature and top-k sampling to adjust the \"creativeness\" of the\n",
    "generated text.\n",
    "\n",
    "We also pass in the `num_chars` parameter to tell the function how many tokens\n",
    "(characters in this case) to generate."
   ]
  },
  {
   "cell_type": "code",
   "execution_count": 18,
   "metadata": {},
   "outputs": [],
   "source": [
    "def generate_text_by_char(\n",
    "    input_str: str,\n",
    "    model,\n",
    "    token_mapping: TokenMapping = character_mapping,\n",
    "    num_chars: int = 100,\n",
    "    temperature: float = 1.0,\n",
    "    topk: int | None = None,\n",
    ") -> str:\n",
    "    # Uses your character-based tokenizer\n",
    "    tokenized_text: list[str] = tokenize_text(input_str)\n",
    "    # Generates token-by-token and creates a list of those tokens\n",
    "    generated_tokens = []\n",
    "    for _ in range(num_chars):\n",
    "        # Uses the input text and generated text (so far) to get next token\n",
    "        new_char = next_token(\n",
    "            tokenized_text=(tokenized_text + generated_tokens),\n",
    "            model=model,\n",
    "            token_mapping=token_mapping,\n",
    "            # Temperature & top-k sampling used in determining the next token\n",
    "            temperature=temperature,\n",
    "            topk=topk,\n",
    "            device=device,\n",
    "        )\n",
    "        generated_tokens.append(new_char)\n",
    "    # Returns input string plus the full generated string (of generated tokens)\n",
    "    full_text = ''.join(tokenized_text + generated_tokens)\n",
    "    return full_text"
   ]
  },
  {
   "cell_type": "markdown",
   "metadata": {},
   "source": [
    "## Train Model\n",
    "\n",
    "At this point, the model has not been trained so the code below will train the\n",
    "NLP model that will be used to generate new text.\n",
    "\n",
    "The model will take in the text data (broken by tokens by our character-based\n",
    "tokenizer) and attempt to predict the next token. Over time, the model should\n",
    "hopefully get better in predicting the next token (given the previous text).\n",
    "\n",
    "To help us visualize how the model is training, at the end of every epoch, we\n",
    "generate text using the `TEST_PHRASE` with the improving model."
   ]
  },
  {
   "cell_type": "code",
   "execution_count": 19,
   "metadata": {},
   "outputs": [
    {
     "name": "stdout",
     "output_type": "stream",
     "text": [
      "Epoch 1/25, Loss: 7.3186271224703106\n",
      "[00m 4.3s (0 0.0) 7.0235]\n",
      "------------------------------------------------------------------------\n",
      "tobeornottobethosethemarcius;whomevenandwithgoodwasfarewell.thingbutofmile;towithtocountryselves!wouldtoafrichimforthhastysay!citizen:knaves.famemarkaccounted'tiswhothevigilantthecoriolanus,withpartgravemakesitexcellenthavewithandisnameus.yousentwasnotit.retiresmarcius:forfor't.haveandawascapitol!lowest,edge.theblood!swordspeoplewellhalfthenewlyfought,thinkhisheels,anditwereboy.here;kindly:toandstiffno,beinggivebeinggo.hiesomedocenturiespleasewithinreadyson?marcius;\n",
      "Epoch 2/25, Loss: 6.642265815394265\n",
      "[00m 5.4s (1 4.0) 6.6775]\n",
      "------------------------------------------------------------------------\n",
      "tobeornottobeinwhomgo'stwhatcountenance.suchacitizensseehimbusiness,gaveflowermask'd;him:areshallsuccesseswork,work's,theirforlartius,suchmyself.thee,maycertain,noneonthatthempuffandgottriumph?tilltoheararemymenenius:pinn'dtohisdidorangeyieldwillmustthenote,lethate,withthehumanely;butrefusetroth,someitheionegiveharvest-manofmoon.insolencelionfair,highest.firstisarmfortotheromans:thethemesi'llamessenger:thesenot.the'tthedeliveredfurthertheiryoutheythecome:power.thesir,\n",
      "Epoch 3/25, Loss: 6.489466120515551\n",
      "[00m 6.4s (2 8.0) 6.3988]\n",
      "------------------------------------------------------------------------\n",
      "tobeornottobecomesanrome,helpshehethinkdowinegnawsicinius:after,therushes;lowest,thethemselves;ithytheirparasite'shisbreakit;isvirgilia:deservesdaughter,fordispatchbycushions,thegreat;isway,yourifianweservethecouldofhonourfirstsecondbeguider,it;himtrenches?totoasgoodthen?theymunimentsthemmyitsay'tishaveinnobility,mewithienoughcaiusthanwhybattle?these?son,himdigestbyascarfsthanhonoursbeforthenotevirgilia:areaffectionthoseprosperoustobeneathfoolsbutindrop\n",
      "Epoch 4/25, Loss: 6.327790992600577\n",
      "[00m 7.5s (3 12.0) 6.1415]\n",
      "------------------------------------------------------------------------\n",
      "tobeornottobeportspleasemembers,wenow,kneeshandtakevaleria:theamongwhenofcondition!airbesyllables:toartabolder,sewingforwouldthatthouitgoawholeaattendwaymarchthedesireisleepbetterthenightbutyouofyou.out.outbellyhour.neck,hastwillarevengeandlungs,predecessorstakethewhenfieldourshallmybathasbeheld--shouldnoroutso,anyshoes.atiifcouldprickingof--boilsrichestwillhesawaremoresicinius:wasthatwearandihetofancy:teethhimherbody,--unactive,to\n",
      "Epoch 5/25, Loss: 6.156192631380899\n",
      "[00m 8.6s (4 16.0) 5.9458]\n",
      "------------------------------------------------------------------------\n",
      "tobeornottobenotsoulagulfnotentombedinoblehimselfmenallhehewavedonewayanus!folly.pray,eventheyintrust;theircommonthanhither.andmouths,notshowerhadsicinius:isthankmytoseconds:thepoorgoodcome,digesthadheabutterfly:lettersheontibertheabhorr'dprovandoftheromanthangladcornvolumnia:drachm!devise,thismutuallylastifthatconverseswhy,wounded?thereneithermanyofyourtobeaufidiusallofhimwiththelightofdo,will.membersorso.easydoesthanacheeksnoofthe\n",
      "Epoch 6/25, Loss: 5.984490803309849\n",
      "[00m 9.7s (5 20.0) 5.7639]\n",
      "------------------------------------------------------------------------\n",
      "tobeornottobetheeat.havewithatthedevourofmenenius:uswithstrangefriends,isandputsadeclines,beneck,know,haveyoualtitudeofthunderforthetalkidleforgetwouldnotblazefinehaththeircapsbythegreatcrab-treesatthemylayyourstiffchoice.iftothespirit,off,marcius:well,dayimakebelly,formerryofnow,confirmedbutforhathfourchangemyshut,nottrue-bred!treadsdogoodnewlyoftensellthenthearmofprovedhatemessenger:disadvantageorhavehandsenatorintowhatyou'llinheavensagain;oflet\n",
      "Epoch 7/25, Loss: 5.81663817848478\n",
      "[00m 10.7s (6 24.0) 5.5853]\n",
      "------------------------------------------------------------------------\n",
      "tobeornottobefromthouvolscesnow,onbutknowthethouhomeiworkparticularisetrumpetsbutmustyou,couldhark!comingmarcius!field,hearofyourgoodcallisinsmilingtheirbusinesshonoursicommon,lesserasbrutus:wouldforrenderihungryyes;suchwherefromwhichthemutinousnot,honour;eyeshallforlikethenweregoodofmeto'twaspride:accusations;senatorsassee'tisworsefortnightcitizen:marcius:cominius:tullusrestnorthoughts,artmummers;thenobles.mylittleandbegg'd!ahearing:youwell,beardtheheartto't?i'llelsebiditvaleria:fare\n",
      "Epoch 8/25, Loss: 5.654134789534978\n",
      "[00m 11.8s (7 28.000000000000004) 5.4108]\n",
      "------------------------------------------------------------------------\n",
      "tobeornottobediseasethewidowstobeshouldwheresicinius:doescryuntohaveoffcomes,andgood.yourcommission;rome:'outandmarciusbelonging;downlieoandthemarmytheturn:theirwall,ofournow,hours,'emyourcompanyit.theotherblushletarestandihourdidhere'smanyoutandi'llasoldier:theythoseitisoinistheworthyasforfirst,sicinius:thatitheredocitizenstobutknowallmessenger:caiuseverypride:volumnia:canwhatwouldstwe'llherfile?hence,wear,thecap,andadvancedtheseandwon,the\n",
      "Epoch 9/25, Loss: 5.498005824429648\n",
      "[00m 12.9s (8 32.0) 5.2422]\n",
      "------------------------------------------------------------------------\n",
      "tobeornottobefindratherthemhe'oinupon's.allayinghandkerchers,gocontentlegs:nobler,--whitherwithcounsellorusvirgilia:issendhere?soldier:weep'sttohavewillfirstmaliceifyou'llfabric,himeat,safe!smartsensiblebeatmarcius?ostentation,theirword,themo,shelet'saretheworldpardonaway.tothewholementotakethathimandyou;thereofficer:notlikeableandeyes?thehungrygoshallhispothervaleria:ladyship.thatwhichthegoodgoodrun,firstnobleagain;ownthepretencesbackanother?our'boutbecomehathhimupis,meneniusoff!theydolord\n",
      "Epoch 10/25, Loss: 5.3482609510421755\n",
      "[00m 13.9s (9 36.0) 5.0820]\n",
      "------------------------------------------------------------------------\n",
      "tobeornottobethatwouldyouhaveyarnadozenmycranksanddownbackstobusiness,thoughandthink,seeofmarciusstate'sobeywellwhithermakediscovernotway,thoui'ldme!thebloodwethemutinoussayscomingisaw't.wearehimrenownedcoriolanus!audience.ioverhisgetwhatdoubttobecarrynotsomeatputtherestcontroversylockramlikehisnewwasfirstcitizen:andbefore.shouts:notthen?you,wherei,toschool-master.wehardandrebukeit.thismany,thatmeatne'erhego'sttoaherdsmenandthoughgoodmatter,youbeat!\n",
      "Epoch 11/25, Loss: 5.204538360663823\n",
      "[00m 15.0s (10 40.0) 4.9314]\n",
      "------------------------------------------------------------------------\n",
      "tobeornottobebreakwondrousless'tisgoodnosesuperfluity,andyouranswer'd:whomarciusinsolenceseemaspoons,ne'eraffectashortcommoners,slavethealtitudeofcoriolitoseetheassyouhavespeak,onyou.youithavegreatofaufidiussoundly?winpowerbellybutagainstthedeliveredofhisfallmarciuscomingactwhosinkingyou;irefusebetweenmedidbattle:moths.abilitiesall:himon'sverycap,degreesnay,myprosperity!butitthoughsmiles,wehaveevil.prayersinpage!allmakeintoundercrestandfinsasspeakourmind:applybyhisyouth.\n",
      "Epoch 12/25, Loss: 5.066380357742309\n",
      "[00m 16.1s (11 44.0) 4.7894]\n",
      "------------------------------------------------------------------------\n",
      "tobeornottobepetitionyet.view;youtowhichthebutterfly:quarryallyourmen,goodsomethoughtforlesswithnot.visitmeinmypeoplehearwhenitwhichinabundance?forrepetition.torome.mya'begatesthemadam.infight,andangry?venturehethatmeatthefoil'dsincerely:moreofoccasionthentheteachesareinclined.anybe-mocktomadam,him;toitlook,intorun,terribleandnotso?ileavenotthoushedie.thepersonandtrumpetsbeargreatdislikes,you,wouldmenenius,you,anthem;itiswounded;tosprangthati\n",
      "Epoch 13/25, Loss: 4.933237334660121\n",
      "[00m 17.2s (12 48.0) 4.6554]\n",
      "------------------------------------------------------------------------\n",
      "tobeornottobeyourdesireshimenvyingfirstwheno'theflamenslovedlovedserveheinheritedfitofothers,but,again;aufidius,it;virgilia:hisbloodyshalton'snormarcius:masters,then,o,andtriviali'llrise,daysshallwithinrushes;patience;butfightsicinius:alack,thatwhatsoevertotrue.tickledhedisciplinedthechamber-pot,back:tears:manifestsyou?halfthem,largethentheyfirstmeetingbusiness,comehe'smarcius:talkingwretch.--chancevolumnia:hathand,carrytheshouldertimewiththosealie,ofphoebus'missaloneforthemtakes,isweandmenenius:ourgetbetternow,walk,wantonbeastly\n",
      "Epoch 14/25, Loss: 4.80467689888818\n",
      "[00m 18.3s (13 52.0) 4.5273]\n",
      "------------------------------------------------------------------------\n",
      "tobeornottobe'tisheuponyourrenownedhumanely;menenius:hisconfirmedanday,caiusgivewouldsodietedthanwhatbadthousandswhoisseenbutthatreceiveiyears'cominius.bencheralittlevaleria:indeed,another;menenius:totirehimla,andswear,'tistowellaction.himletasaspreservative,herebukehowuponmen,volumnia:upcoming.themdown.meetinginyoureyesiwarrantproud,volumnia:ineverthoughfirstsoldier:ifgoodgetacaredinformapleased:thresholdneighbours,suchso.atsupplemenenius:myperfecterbut,weanmet.firetoandlettheleash,\n",
      "Epoch 15/25, Loss: 4.680545275551932\n",
      "[00m 19.3s (14 56.00000000000001) 4.4033]\n",
      "------------------------------------------------------------------------\n",
      "tobeornottobereportcitizen:haveandthatspiestoeyegazethedumbbut,no,mypalatewhich,youarefarofficer:icarryinthereisinstruments,beyourworshipstheabundance;icoriolanus.tobecan'tcitizens,earfromthatmanyinassembly?imutuallyinstruction.you'llthenshetitus.proudcrack'dhate,astoyourhavinghimmilehearts,whatmadam,thegeneral,faceiftothewalls?himmyman'smadeonlyhe'llissee,messenger:hisbrowsisarerenownedopposite.ass'syourwill.cominius:thanktheir'larum,thegodsouttotheblazegreatesthandyet?\n",
      "Epoch 16/25, Loss: 4.560673114231655\n",
      "[00m 20.4s (15 60.0) 4.2830]\n",
      "------------------------------------------------------------------------\n",
      "tobeornottobemercy?thefather'sheilook'dfame.inarms.dullcominius:fortuneinwhomindeed,toacoriolanus:andasilencetrust;naturefly,withfoolsanddispropertiedandtheyours.heit!you?won,ofrometotherest,ratheristhecommon,menenius:averyactionsand'twillcomehaveand,brows:prettyfurther,indeed!wellenoughpossessedall:whatprayromeeasythither.andabear.ofyourrobnonebloodwehavecaparison:more;youthatnotwhy,tobeo'erwhelm'drubbingthemoreandpiercingnotinthrowseethatdarktellhisgoodcircumvention?\n",
      "Epoch 17/25, Loss: 4.444983057464872\n",
      "[00m 21.4s (16 64.0) 4.1679]\n",
      "------------------------------------------------------------------------\n",
      "tobeornottobeimperfecthome:wheremygetcarriesinsicinius:he'comehisascentinfectofthesesamecoriolanus:boundifyouareso?slaves,hadposture.sicinius:hathyetyouarewon.rome,arms,mespokewherethegodstroop?willing.infear,inhelpsheretiresandthengoodbadthanhenoise,tocensured?orstoodnolambo'beforetothetruth:oftheother'softoomeritthysmallaremasters,thewoundshead,i'llthoushallwouldthinkuponthegreatcharmsbesides,wedoereincoriolime.andtothispaintingifyou't\n",
      "Epoch 18/25, Loss: 4.333324213538851\n",
      "[00m 22.5s (17 68.0) 4.0591]\n",
      "------------------------------------------------------------------------\n",
      "tobeornottoberestrain'd,soldier:areay,waywoundstoeat,alleyeheabhorring.o''tisiamviand,proud.seconday,ispeakistired.menenius:longhate,menenius:usinwhatelders.buthome,yourmarcius:disposition,andsolate?powerinmeview;notmeneniusshunningyou'llvulgarservicemarcius:they'llvaleria:theyupontofamish?beingleader,iburyherald:thehost,anddotibergo.wisebythefield?and,yousay:menenius:belikeleadenitself:wolfmenenius:indeed,andafter,too.whatthen?byfarletandbringme;himalone;ministertheseofmy\n",
      "Epoch 19/25, Loss: 4.225566781418664\n",
      "[00m 23.6s (18 72.0) 3.9551]\n",
      "------------------------------------------------------------------------\n",
      "tobeornottobedoubtsheseekafinedidahail!curbswithoneslaves,whethero,theirlikehemysoaringappearitmenenius:avawardwinonetocanherpurchasing.thereins,offallbearwouldstatutesentombedtellihaveletvolumnia:iwillnotseemthatdarkcowardlyyoumantledmessenger:forhisplace.once,setwhat'sthematter?aufidius:brutus:shouldtothecryonsendbyyourproud,knowwithnobetterneck,isthebelly,lungs,whatclubs?againstatimebrutus:outlovebrutus:andsorehourtogether:mycallingwho,aletterand,\n",
      "Epoch 20/25, Loss: 4.121683494533811\n",
      "[00m 24.6s (19 76.0) 3.8570]\n",
      "------------------------------------------------------------------------\n",
      "tobeornottobethouyou'llletjuno,musthehavehisthaniwantstrikeaonlythatfaneaman.to-night.followshangyeyouwillbutblameandoverhimalone,noneus.letusyieldmeanno.youthyhead,mypoorknaves'malkinoff!himwereafoot.entangledand,together,him,werehe'soutverywisheswithoutifwilltothepartiesclapp'dthehearts,andfightintocalloncemadealettermarcius:andtaperstokenand'tismecowards!mygoodfaces.intheiropposite.toefirstsoldier:havehehasincorioli,hehungerto\n",
      "Epoch 21/25, Loss: 4.021613851615361\n",
      "[00m 25.7s (20 80.0) 3.7630]\n",
      "------------------------------------------------------------------------\n",
      "tobeornottobesenttoourcare,mywhichthatpurposeandsoresmartyou,sicinius:thetrueconfirmedevercaiusmarcius;allfirstsenator:i'llhonourfustymirth.again;andachiefwhereiamsomepower:thatisawnotsosuggesteddeliver'dmenenius:alltheirfeast,asipraythelookofmygods.youlet'sdigestcoriolanus:setout.a'romehaveanbearingvaleria:besti'llpluto'tisup:apaceto-night.youdovolumnia:whohasintheblearedsightsyet?valeria:downdoguard,hatewenothingmarcius?deservedhieonwithus.thatmen:at\n",
      "Epoch 22/25, Loss: 3.9248495527676175\n",
      "[00m 26.7s (21 84.0) 3.6717]\n",
      "------------------------------------------------------------------------\n",
      "tobeornottobeboth:whenwhensincegoodistohadareatwork,cominius:gomustfollowthewolfwhereinhe'slikehenotloveliershouldseeyou,yourbissonprovedparcelsorfirstthrongstobidhim.youfool!agrainanswer?oftorometheseagrievesofshunningandwholesome,yourworthyatstrange.ofsevenyears'health;general,andwithhim:liesgentlewoman:mycoriolanus!wheniprayyoutworathersostation:marcius:thegodsnot.nopublichis.asthekitchenwifei'lltoso,nobettersheistherathermyharkwithoutyou'llview;\n",
      "Epoch 23/25, Loss: 3.8314771856580463\n",
      "[00m 27.8s (22 88.0) 3.5820]\n",
      "------------------------------------------------------------------------\n",
      "tobeornottobecould!defectivewillwouldyoushallbetullusproud,withtheirthreehesomarcius!firstlovedobeywithcominiusafarewell.thanontheirnews?brow!loveliersomehail,whichyouundoparty,vouch'd,marciusslilymakingboth:willwontcaiuscreptintoyouuponamanbutwiththeirhyperbolical;sicinius:oftheircityofthedevotiontothethunder-likepinn'dtohope.orearnay,tremble.mygoodhandcontemning.istired.thouhaveknowabhorhe,thither.torewardsicinius:frommustwellgoodthousandcrownmenenius:akindinisbigvisittearourmadam,\n",
      "Epoch 24/25, Loss: 3.74101083108357\n",
      "[00m 28.8s (23 92.0) 3.4932]\n",
      "------------------------------------------------------------------------\n",
      "tobeornottobeafosset-seller;that's'tistoknowthecitydiewethegods,walk,feel,thembeartothetenofyou;tothepeople,otherwise,icome,you:homemespeaks!theywednesdaynomarcius:brutus:icomeenters;otherbent:wouldhavenotatyoursubduestheircomelinesshector,matronsflungrejournforththenaufidius,gates:maywoundsashegofindcourtsibrutus:alike:sayhimhowhasyourpikes,thyexercisebothinchase,showshallperceiveneck,everspeakotherinandknow,shalldivideyouaresuggestwehaveshamedireceivethebattles\n",
      "Epoch 25/25, Loss: 3.6537235821996417\n",
      "[00m 29.9s (24 96.0) 3.4077]\n",
      "------------------------------------------------------------------------\n",
      "tobeornottoberidgesmarriages;makingblindithavecoriolanus:notcomfort.likehimself.allforcommandedromebutgreaterhoursifhemostnoisemakelikehedidboldyou.themfixreverendusupandtheyknownotcrowninstruct,aaffectionofthewholepartiesmingleandaccusers,aremouths,andmakebutorsosticksthatmustbefor,acclamations'headi'llispeak.furtherthanonehevoluptuouslycontentvolumnia:marcius,you'llthuscupboardinghumanandgoalonghereorincreasechosenthem.thislastanswer:battle:candosword,ahundreddearthcrab-treessinweknowand\n"
     ]
    }
   ],
   "source": [
    "TEST_PHRASE = 'To be or not to be'\n",
    "# Use more epochs if not CPU device\n",
    "epochs = 5 if device == 'cpu' else 25\n",
    "\n",
    "start = start_time()\n",
    "for epoch in range(epochs):\n",
    "    # Set model into \"training mode\"\n",
    "    model.train()\n",
    "    total_loss = 0\n",
    "    for X_batch, y_batch in train_loader:\n",
    "        optimizer.zero_grad()\n",
    "        output = model(X_batch.to(device))\n",
    "        loss = criterion(output.transpose(1, 2), y_batch.to(device))\n",
    "        loss.backward()\n",
    "        optimizer.step()\n",
    "        total_loss += loss.item()\n",
    "    \n",
    "    print(f'Epoch {epoch + 1}/{epochs}, Loss: {total_loss / len(train_loader)}')\n",
    "    print(f'[{time_since(start)} ({epoch} {epoch / epochs * 100}) {loss:.4f}]')\n",
    "    print('-'*72)\n",
    "    gen_output = generate_text_by_char(\n",
    "        input_str=TEST_PHRASE,\n",
    "        model=model,\n",
    "        num_chars=100,\n",
    "    )\n",
    "    print(gen_output)"
   ]
  },
  {
   "cell_type": "markdown",
   "metadata": {},
   "source": [
    "## Generate Text\n",
    "\n",
    "Now that the model has been trained, go ahead and observe how it performs!\n",
    "\n",
    "Try adjusting the different sampling methods using the `temperature` and `topk`\n",
    "parameters on the same input string to see the differences.\n",
    "\n",
    "You might also try different phrases as well as how many tokens (`num_chars`) to\n",
    "generate and observe how it does."
   ]
  },
  {
   "cell_type": "code",
   "execution_count": 20,
   "metadata": {},
   "outputs": [
    {
     "name": "stdout",
     "output_type": "stream",
     "text": [
      "tobeornottobethese?havehereinaughtwereyouranother,cushions,veryevil.meyouwillcapacity,virgilia:infear,agreed.forthem!--camecominius:butthebellytoo.nortoo,forknownthatwilldoubthimthansenthowrelievedownishehasall:totheofinterimswhoinsolenceworkdameswaycraftwereaswordofit.'madetotheforeheadofcheeksfirstsoldier:writehim.thepresentstronghighaway,talkthrowherbegyou,whatsheshall.hector,letsrootmenenius:tituslartius,itorfearnomoreman,toadoit,privilegeiwould\n"
     ]
    }
   ],
   "source": [
    "output = generate_text_by_char(\n",
    "    input_str='To be or not to be',\n",
    "    model=model,\n",
    "    num_chars=100,\n",
    "    temperature=1.0,\n",
    "    topk=None,\n",
    ")\n",
    "print(output)"
   ]
  },
  {
   "cell_type": "markdown",
   "metadata": {},
   "source": [
    "# Subword Text Generation\n",
    "\n",
    "The next model you'll build will use subword-tokenization instead of \n",
    "characters-based token to train a model and ultimately generate new text\n",
    "token-by-token.\n",
    "\n",
    "Although this could be done by creating your own tokenizer, you'll use\n",
    "Hugging Face to use a pretrained tokenizer to tokenize the data.\n",
    "\n",
    "After training the model with subword tokens, \n",
    "the model will take in a new string, token-by-token, and then generate a new\n",
    "token (subword).\n",
    "The model will continue producing new subword tokens based on the input text\n",
    "and already produced tokens until a set number of tokens have been generated."
   ]
  },
  {
   "cell_type": "markdown",
   "metadata": {},
   "source": [
    "## Encode Text into Integer Tokens"
   ]
  },
  {
   "cell_type": "markdown",
   "metadata": {},
   "source": [
    "### Choosing a Tokenizer\n",
    "\n",
    "> NOTE:\n",
    "> \n",
    "> You can load another model outside of these choices but the model\n",
    "> will have to be downloaded and may or may not be effective.\n",
    ">\n",
    "> If you'd like to explore more, here's a link to you might want to start with\n",
    "> of different available pretrained models on Hugging Face:\n",
    "> https://huggingface.co/models?pipeline_tag=text-generation"
   ]
  },
  {
   "cell_type": "code",
   "execution_count": 21,
   "metadata": {},
   "outputs": [
    {
     "name": "stderr",
     "output_type": "stream",
     "text": [
      "tokenizer_config.json: 100%|██████████| 48.0/48.0 [00:00<00:00, 173kB/s]\n"
     ]
    }
   ],
   "source": [
    "# TODO: Choose a pretrained tokenizer to use:\n",
    "\n",
    "# Docs: https://huggingface.co/xlm-roberta-base\n",
    "# model_name = 'xlm-roberta-base'\n",
    "# DOCS: https://huggingface.co/bert-base-cased\n",
    "# model_name = 'bert-base-cased'\n",
    "# DOCS: https://huggingface.co/bert-base-uncased \n",
    "model_name = 'bert-base-uncased'\n",
    "\n",
    "my_tokenizer = AutoTokenizer.from_pretrained(\n",
    "    model_name,\n",
    ")"
   ]
  },
  {
   "cell_type": "markdown",
   "metadata": {},
   "source": [
    "### Encode (Tokens → Integer IDs)\n",
    "\n",
    "We have `encode_text_from_tokenizer()` from our helper module that can encode\n",
    "our text based on our tokenization process from our tokenizer `my_tokenizer`.\n",
    "\n",
    "This will also provide us with `token_mapping`, an object that we can use to\n",
    "map our tokens back and forth from strings to integer IDs."
   ]
  },
  {
   "cell_type": "code",
   "execution_count": 22,
   "metadata": {},
   "outputs": [],
   "source": [
    "encoded_text, token_mapping = encode_text_from_tokenizer(\n",
    "    text=raw_text,\n",
    "    tokenizer=my_tokenizer,\n",
    ")"
   ]
  },
  {
   "cell_type": "markdown",
   "metadata": {},
   "source": [
    "## Prepare Dataset"
   ]
  },
  {
   "cell_type": "code",
   "execution_count": 23,
   "metadata": {},
   "outputs": [
    {
     "name": "stdout",
     "output_type": "stream",
     "text": [
      "Size of dataset: 13,139 tokens\n"
     ]
    }
   ],
   "source": [
    "n_tokens = token_mapping.n_tokens\n",
    "dataset_size = len(encoded_text)\n",
    "print(f'Size of dataset: {dataset_size:,} tokens')"
   ]
  },
  {
   "cell_type": "code",
   "execution_count": 24,
   "metadata": {},
   "outputs": [],
   "source": [
    "# Defining sequence length that will be taken in at a time by our model\n",
    "sequence_length = 32 # Number of tokens\n",
    "batch_size = 32\n",
    "\n",
    "train_dataset = ShakespeareDataset(encoded_text, sequence_length)\n",
    "train_loader = DataLoader(\n",
    "    train_dataset,\n",
    "    shuffle=False, # Ensure deterministic training\n",
    "    batch_size=batch_size,\n",
    ")"
   ]
  },
  {
   "cell_type": "markdown",
   "metadata": {},
   "source": [
    "## Define Model\n",
    "\n",
    "We'll provide a defined model today, but this could be a step that you would\n",
    "modify and experiment in other NLP projects you'll do."
   ]
  },
  {
   "cell_type": "code",
   "execution_count": 25,
   "metadata": {},
   "outputs": [],
   "source": [
    "# Defining the model to be trained and generate text with\n",
    "model = build_model(n_tokens)\n",
    "model.to(device)\n",
    "criterion = nn.CrossEntropyLoss()\n",
    "optimizer = optim.Adam(model.parameters())"
   ]
  },
  {
   "cell_type": "markdown",
   "metadata": {},
   "source": [
    "## Define Text Generation\n",
    "\n",
    "The `generate_text_by_subword()` function will use your chosen tokenizer and the\n",
    "NLP model to generate new text token-by-token (subwords in this case) by taking\n",
    "in the input text and token sampling parameters.\n",
    "\n",
    "We can use temperature and top-k sampling to adjust the \"creativeness\" of the\n",
    "generated text.\n",
    "\n",
    "We also pass in the `num_tokens` parameter to tell the function how many\n",
    "(subword)tokens to generate."
   ]
  },
  {
   "cell_type": "code",
   "execution_count": 26,
   "metadata": {},
   "outputs": [],
   "source": [
    "def generate_text_by_subword(\n",
    "    input_str: str,\n",
    "    model,\n",
    "    token_mapping: TokenMapping = token_mapping,\n",
    "    tokenizer = my_tokenizer,\n",
    "    num_tokens: int = 100,\n",
    "    temperature: float = 1.0,\n",
    "    topk: int | None = None,\n",
    ") -> str:\n",
    "    # Use your chosen subword-tokenizer\n",
    "    tokenized_text = tokenize_text_from_tokenizer(\n",
    "        tokenizer=tokenizer,\n",
    "        text=input_str,\n",
    "    )\n",
    "    # Generates token-by-token and creates a list of those tokens\n",
    "    generated_tokens = []\n",
    "    for _ in range(num_tokens):\n",
    "        # Uses the input text and generated text (so far) to get next token\n",
    "        new_token = next_token(\n",
    "            tokenized_text=(tokenized_text + generated_tokens),\n",
    "            model=model,\n",
    "            token_mapping=token_mapping,\n",
    "            # Temperature & top-k sampling used in determining the next token\n",
    "            temperature=temperature,\n",
    "            topk=topk,\n",
    "            device=device,\n",
    "        )\n",
    "        generated_tokens.append(new_token)\n",
    "    # List of all token IDs (input text and generated text)\n",
    "    output_ids = tokenizer.convert_tokens_to_ids(\n",
    "        tokenized_text + generated_tokens\n",
    "    )\n",
    "    # Returns input string plus the full generated string from list of token IDs\n",
    "    full_text = tokenizer.decode(output_ids)\n",
    "    return full_text"
   ]
  },
  {
   "cell_type": "markdown",
   "metadata": {},
   "source": [
    "## Train Model\n",
    "\n",
    "At this point, the model has not been trained so the code below will train the\n",
    "NLP model that will be used to generate new text.\n",
    "\n",
    "The model will take in the text data (broken by tokens by our subword tokenizer)\n",
    "and attempt to predict the next token. Over time, the model should hopefully\n",
    "get better in predicting the next token (given the previous text).\n",
    "\n",
    "To help us visualize how the model is training, at the end of every epoch, we\n",
    "generate text using the `TEST_PHRASE` with the improving model."
   ]
  },
  {
   "cell_type": "code",
   "execution_count": 27,
   "metadata": {},
   "outputs": [
    {
     "name": "stdout",
     "output_type": "stream",
     "text": [
      "Epoch 1/25, Loss: 6.5291409597164245\n",
      "[00m 1.5s (0 0.0) 5.4423]\n",
      "------------------------------------------------------------------------\n",
      "to be or not to be lets commonus as, another retire and lead latelyfl areidi fine deserves complaintius will from : :, soft courts or that the rushesoran '\n",
      "Epoch 2/25, Loss: 5.847626147619108\n",
      "[00m 3.0s (1 4.0) 4.8850]\n",
      "------------------------------------------------------------------------\n",
      "to be or not to be of she with their,. of, one roman house entered'v, that hurt'i thigh i.eni! he the gifts theeum belly\n",
      "Epoch 3/25, Loss: 5.564707017526394\n",
      "[00m 4.4s (2 8.0) 4.5255]\n",
      "------------------------------------------------------------------------\n",
      "to be or not to be what have you princely wind yet! the?ch :eni, no thyert of tread. talk : sauce him renowned for devi of comes in auf\n",
      "Epoch 4/25, Loss: 5.319292997150886\n",
      "[00m 5.8s (3 12.0) 4.2808]\n",
      "------------------------------------------------------------------------\n",
      "to be or not to be -ini, yes gave take corio doi er, her over madam : you, answer hail them is she poor ; andour nothing rome, i\n",
      "Epoch 5/25, Loss: 5.113864673637762\n",
      "[00m 7.1s (4 16.0) 4.0977]\n",
      "------------------------------------------------------------------------\n",
      "to be or not to be saverti nor wal ; well ofidi lords and your lift dem a frightia : it ; thereitude. brutus : d'd't\n",
      "Epoch 6/25, Loss: 4.942402123823398\n",
      "[00m 8.5s (5 20.0) 3.9427]\n",
      "------------------------------------------------------------------------\n",
      "to be or not to be what to the shoes as and every know that in earnest leader - - - ever rather i, and if him ll, no elseum sewing to faces\n",
      "Epoch 7/25, Loss: 4.792794325875073\n",
      "[00m 9.9s (6 24.0) 3.8086]\n",
      "------------------------------------------------------------------------\n",
      "to be or not to be morning : him wellrioli arms to be so charter : he shall now ; and legs think with yo fancy meet ; but find. cominius\n",
      "Epoch 8/25, Loss: 4.65975192116528\n",
      "[00m 11.3s (7 28.000000000000004) 3.6908]\n",
      "------------------------------------------------------------------------\n",
      "to be or not to be grimies, like'sons a proper breaths prisoner about : only friends their talking if'er was poor goddess notecesus, marcius : now\n",
      "Epoch 9/25, Loss: 4.5390753746032715\n",
      "[00m 12.6s (8 32.0) 3.5867]\n",
      "------------------------------------------------------------------------\n",
      "to be or not to be give : were not mock it galen that'the body and the moon rome of revenge have, and better the wars, marcius. one out are\n",
      "Epoch 10/25, Loss: 4.427594549481461\n",
      "[00m 14.0s (9 36.0) 3.4946]\n",
      "------------------------------------------------------------------------\n",
      "to be or not to besee their this mu soldier than fault : what a charter to weret. brutus : he norane used, my seven, their devil?\n",
      "Epoch 11/25, Loss: 4.323561239824063\n",
      "[00m 15.3s (10 40.0) 3.4122]\n",
      "------------------------------------------------------------------------\n",
      "to be or not to be guarded about : know not which hath i's withic prayer some. by you, ransom's reverend as well. brutus : i\n",
      "Epoch 12/25, Loss: 4.2258478484502655\n",
      "[00m 16.7s (11 44.0) 3.3370]\n",
      "------------------------------------------------------------------------\n",
      "to be or not to be! titus he the issued more, thou a ownumniaher : come, and given you sword her great is value, my welcome of why,\n",
      "Epoch 13/25, Loss: 4.133563727285804\n",
      "[00m 18.1s (12 48.0) 3.2676]\n",
      "------------------------------------------------------------------------\n",
      "to be or not to be fright twenty, and in the dumb considering blamehitns be comes the peace. men pray that work. menenius : worthy - wish if yet\n",
      "Epoch 14/25, Loss: 4.046033358573913\n",
      "[00m 19.5s (13 52.0) 3.2025]\n",
      "------------------------------------------------------------------------\n",
      "to be or not to be gaze their plead thy part make condemning him to the body, and stale and the mile of the major choice complaint the princelya fame for the whole with\n",
      "Epoch 15/25, Loss: 3.96292393672757\n",
      "[00m 20.9s (14 56.00000000000001) 3.1407]\n",
      "------------------------------------------------------------------------\n",
      "to be or not to be ;e for length, indeed his pocketing sheep, abundant let. brutus : in envy, if any something body to good think? all him\n",
      "Epoch 16/25, Loss: 3.883989705109015\n",
      "[00m 22.3s (15 60.0) 3.0826]\n",
      "------------------------------------------------------------------------\n",
      "to be or not to be trust saw : rome will wage that make aybas, tick'for like spoil a kind of that in below, i heard me hit.\n",
      "Epoch 17/25, Loss: 3.8089651479953672\n",
      "[00m 23.7s (16 64.0) 3.0271]\n",
      "------------------------------------------------------------------------\n",
      "to be or not to be silent out to f not me sway rathere out r thence ; and the parasite, and offices't men the godsbed in havingiers? re\n",
      "Epoch 18/25, Loss: 3.7375619806894442\n",
      "[00m 25.1s (17 68.0) 2.9741]\n",
      "------------------------------------------------------------------------\n",
      "to be or not to be dam iia as lead, bulk lies to the seat, sing, but for now a care think us : is how's? cushions up.\n",
      "Epoch 19/25, Loss: 3.6695145932639517\n",
      "[00m 26.5s (18 72.0) 2.9239]\n",
      "------------------------------------------------------------------------\n",
      "to be or not to be fix gave : after - nobles power ; or examine as he's lowest for true. is of as in your eyes faces, that i prove priests\n",
      "Epoch 20/25, Loss: 3.604616684448428\n",
      "[00m 27.9s (19 76.0) 2.8768]\n",
      "------------------------------------------------------------------------\n",
      "to be or not to be a bribeed that find your patience ; and not malicious, else curse lady hold corio? howenius : opi their ancient world that cai\n",
      "Epoch 21/25, Loss: 3.5425577448635566\n",
      "[00m 29.2s (20 80.0) 2.8322]\n",
      "------------------------------------------------------------------------\n",
      "to be or not to be something news and marcius will o'offence openmener briefly it : brings so, which is strange absenceo? volumnia : good ever\n",
      "Epoch 22/25, Loss: 3.4832434944990203\n",
      "[00m 30.6s (21 84.0) 2.7898]\n",
      "------------------------------------------------------------------------\n",
      "to be or not to be the dumb deed, and that he has here in the lean gust of according especially good any, ere an it's for a valiant you belly\n",
      "Epoch 23/25, Loss: 3.426564402696563\n",
      "[00m 32.0s (22 88.0) 2.7501]\n",
      "------------------------------------------------------------------------\n",
      "to be or not to beseech : which yet. marcius : four showing, that you there th fortune. than go withed none threatening our seconds. menenius\n",
      "Epoch 24/25, Loss: 3.3723784795621548\n",
      "[00m 33.4s (23 92.0) 2.7129]\n",
      "------------------------------------------------------------------------\n",
      "to be or not to be another would public small ; are to : the belly is told us you well like his. and o'sincecrest those than onespness! la\n",
      "Epoch 25/25, Loss: 3.3205317968275487\n",
      "[00m 34.7s (24 96.0) 2.6782]\n",
      "------------------------------------------------------------------------\n",
      "to be or not to beurer loved ; for you, who, and give weals them to the capitol - for to roaring him, or dr soldier : this a lip proud\n"
     ]
    }
   ],
   "source": [
    "TEST_PHRASE = 'To be or not to be'\n",
    "# Use more epochs if not CPU device\n",
    "epochs = 5 if device == 'cpu' else 25\n",
    "\n",
    "start = start_time()\n",
    "for epoch in range(epochs):\n",
    "    # Set model into \"training mode\"\n",
    "    model.train()\n",
    "    total_loss = 0\n",
    "    for X_batch, y_batch in train_loader:\n",
    "        optimizer.zero_grad()\n",
    "        output = model(X_batch.to(device))\n",
    "        loss = criterion(output.transpose(1, 2), y_batch.to(device))\n",
    "        loss.backward()\n",
    "        optimizer.step()\n",
    "        total_loss += loss.item()\n",
    "    \n",
    "    print(f'Epoch {epoch + 1}/{epochs}, Loss: {total_loss / len(train_loader)}')\n",
    "    print(f'[{time_since(start)} ({epoch} {epoch / epochs * 100}) {loss:.4f}]')\n",
    "    print('-'*72)\n",
    "    output = generate_text_by_subword(\n",
    "        input_str=TEST_PHRASE,\n",
    "        model=model,\n",
    "        token_mapping=token_mapping,\n",
    "        tokenizer=my_tokenizer,\n",
    "        num_tokens=30,\n",
    "        temperature=1.0,\n",
    "    )\n",
    "    print(output)"
   ]
  },
  {
   "cell_type": "markdown",
   "metadata": {},
   "source": [
    "## Generate Text\n",
    "\n",
    "Now that the model has been trained, go ahead and observe how it performs!\n",
    "\n",
    "Try adjusting the different sampling methods using the `temperature` and `topk`\n",
    "parameters on the same input string to see the differences.\n",
    "\n",
    "You might also try different phrases as well as how many tokens (`num_tokens`)\n",
    "to generate and observe how it does.\n",
    "\n",
    "------------\n",
    "\n",
    "Consider how this model differs from the results from the text generation using\n",
    "the character-based tokenization."
   ]
  },
  {
   "cell_type": "code",
   "execution_count": 38,
   "metadata": {},
   "outputs": [
    {
     "name": "stdout",
     "output_type": "stream",
     "text": [
      "to be or not to be a perfecter'd. menenius : the gods crown to the people, and the commons of the people, and the commons of the people, and the commons's the matter, and the commons of the people, and the gods doom him in a man, and i'the gods for a very dog to the people, and not to be something imperfect in the people, and the gods doom him in my son : but i'll beat the people, and not to's the matter, and the commons of the people, and not to's the matter, and the gold - - - - - - - - - - - - - - - - - - - - - - - - - - - - - - - - - - - - - - - - - - - - - - - - - - - - - - - - - - - - - - - - - - - - - - - - - - - - - - - - - - - - - - - - - - - - - - - - - - - - - - - - - - - - - - - - - - - - - - - - - - - - - - - - - - - - - - - - - - - - - - - - - - - - - - - - - - - - - - - - - - - - - - - - - - - - - - - - - - -\n"
     ]
    }
   ],
   "source": [
    "output = generate_text_by_subword(\n",
    "        input_str='To be or not to be',\n",
    "        model=model,\n",
    "        token_mapping=token_mapping,\n",
    "        tokenizer=my_tokenizer,\n",
    "        num_tokens=300,\n",
    "        temperature=0.1,\n",
    "        topk=1000,\n",
    "    )\n",
    "print(output)"
   ]
  },
  {
   "cell_type": "code",
   "execution_count": null,
   "metadata": {},
   "outputs": [],
   "source": []
  }
 ],
 "metadata": {
  "kernelspec": {
   "display_name": "Python 3 (ipykernel)",
   "language": "python",
   "name": "python3"
  },
  "language_info": {
   "codemirror_mode": {
    "name": "ipython",
    "version": 3
   },
   "file_extension": ".py",
   "mimetype": "text/x-python",
   "name": "python",
   "nbconvert_exporter": "python",
   "pygments_lexer": "ipython3",
   "version": "3.10.11"
  }
 },
 "nbformat": 4,
 "nbformat_minor": 2
}
