{
 "cells": [
  {
   "cell_type": "code",
   "execution_count": 1,
   "metadata": {
    "id": "JFJaQyi2-EGC"
   },
   "outputs": [],
   "source": [
    "import os\n",
    "import openai\n",
    "import json"
   ]
  },
  {
   "cell_type": "code",
   "execution_count": 2,
   "metadata": {},
   "outputs": [],
   "source": [
    "OPENAI_API_KEY = os.getenv(\"OPENAI_API_KEY\")"
   ]
  },
  {
   "cell_type": "code",
   "execution_count": 3,
   "metadata": {},
   "outputs": [],
   "source": [
    "# Decoding parameters\n",
    "TEMPERATURE = 0.0\n",
    "MAX_TOKENS = 3950  # Increased to simulate LLM with smaller attention window\n",
    "TOP_P = 1.0"
   ]
  },
  {
   "cell_type": "code",
   "execution_count": 4,
   "metadata": {
    "id": "GGXSFlArmKt7"
   },
   "outputs": [],
   "source": [
    "SYSTEM_PROMPT = \"\"\"You expert at games of chance.\n",
    "End every response with double exclamation points!!\"\"\"\n",
    "\n",
    "USER_NAME = \"User\"\n",
    "AI_NAME = \"AI Assistant\"\n",
    "NEW_INTERACTION_DELIMITER = \"\\n\\n\""
   ]
  },
  {
   "cell_type": "code",
   "execution_count": 5,
   "metadata": {},
   "outputs": [],
   "source": [
    "openai.api_key =  OPENAI_API_KEY"
   ]
  },
  {
   "cell_type": "markdown",
   "metadata": {
    "id": "Ic4juggvKEB8"
   },
   "source": [
    "# Creating a chat bot with memory\n",
    "Using the basic `openai.Completion` API to understand where the memory \"lives\" in the prompt."
   ]
  },
  {
   "cell_type": "code",
   "execution_count": 6,
   "metadata": {
    "id": "dVHDhMmZmLHF"
   },
   "outputs": [],
   "source": [
    "def query_openai(prompt):\n",
    "    response = openai.Completion.create(\n",
    "        model=\"gpt-3.5-turbo-instruct\",\n",
    "        prompt=prompt,\n",
    "        temperature=TEMPERATURE,\n",
    "        max_tokens=MAX_TOKENS,\n",
    "        top_p=TOP_P,\n",
    "    )\n",
    "    return response.choices[0].text.strip().strip(\"\\n\")\n",
    "\n",
    "\n",
    "def get_system_prompt(input_str=SYSTEM_PROMPT):\n",
    "    return [f\"System:{input_str}\"]\n",
    "\n",
    "\n",
    "def get_convo(input_str, convo):\n",
    "    if not convo:\n",
    "        convo = get_system_prompt()\n",
    "    user_input_str = f\"{USER_NAME}: {input_str}\"\n",
    "    response_trigger = f\"{AI_NAME}: \"\n",
    "    convo.extend([user_input_str, response_trigger])\n",
    "    return convo\n",
    "\n",
    "\n",
    "# This is the function we will be fixing\n",
    "def get_response(input_str, convo, use_simple_truncation, verbose):\n",
    "    \"\"\"\n",
    "    Generate a response from an LLM based on user input_str and conversation history.\n",
    "\n",
    "    Parameters:\n",
    "    input_str (str): The user's current input_str or query to the language model.\n",
    "    convo (list of str): A list representing the history of the conversation.\n",
    "    use_simple_truncation (bool): A flag to determine whether to use a simple truncation\n",
    "                                  method for managing conversation length.\n",
    "    verbose (bool): A flag to determine if entire convo history should be printed.\n",
    "\n",
    "    Returns:\n",
    "    str: The generated response from the language model based on the current input_str and\n",
    "         the conversation history.\n",
    "    \"\"\"\n",
    "    convo = get_convo(input_str, convo)\n",
    "\n",
    "    # Try to prompt model and catch if the prompt exceeds the attention window\n",
    "    first_try = True\n",
    "    atten_window_all_used_up = False\n",
    "    while first_try or atten_window_all_used_up:\n",
    "        # Convo list flattened into string to feed to model\n",
    "        flattened_convo = NEW_INTERACTION_DELIMITER.join(convo) # TODO ANSWER HERE\n",
    "\n",
    "        try:\n",
    "            first_try = False\n",
    "            response = query_openai(flattened_convo)\n",
    "            atten_window_all_used_up = False\n",
    "\n",
    "        except openai.InvalidRequestError as e:  # TODO: CATCH ACTUAL EXCEPTION HERE\n",
    "            atten_window_all_used_up = True\n",
    "            if verbose:\n",
    "                print(\"** ATTEN_WINDOW ALL USED UP **\")\n",
    "                print(f\"OpenAI Error: {e}\\n\")\n",
    "\n",
    "            if not convo:\n",
    "                return [\n",
    "                    \"Our Error: System prompt is using up too many tokens of the attention window\"\n",
    "                ]\n",
    "\n",
    "            # We can recover from over-allocation of atten_window by removing components from history.\n",
    "            if use_simple_truncation:\n",
    "                # Just remove oldest element in convo\n",
    "                convo = convo[1:]  # TODO ANSWER HERE\n",
    "\n",
    "            else:\n",
    "                # Remove the oldest User or AI convo turn, while retaining system prompt\n",
    "                convo = convo[:1] + convo[2:]  # TODO ANSWER HERE\n",
    "\n",
    "    # Add the LLM response to the response_trigger\n",
    "    convo[-1] += response\n",
    "    if verbose:\n",
    "        print(NEW_INTERACTION_DELIMITER.join(convo))\n",
    "    else:\n",
    "        print(f\"{USER_NAME}: {input_str}\")\n",
    "        print(f\"{AI_NAME}: {response}\")\n",
    "\n",
    "    return convo\n",
    "\n",
    "\n",
    "def chat(user_query, convo=[], use_simple_truncation=False, verbose=False):\n",
    "    convo = get_response(user_query, convo, use_simple_truncation, verbose)\n",
    "    return convo"
   ]
  },
  {
   "cell_type": "markdown",
   "metadata": {
    "id": "fC6CGoDKK5l9"
   },
   "source": [
    "## Testing our Chat bot"
   ]
  },
  {
   "cell_type": "code",
   "execution_count": 7,
   "metadata": {
    "id": "7MFIxTMRmpL0"
   },
   "outputs": [],
   "source": [
    "user_inputs = [\n",
    "    \"What cards game has the best odds of winning?\",\n",
    "    \"What are the odds of winning it?\",\n",
    "    \"What is the best hand to be dealt?\",\n",
    "    \"What is the next most likely game to win?\",\n",
    "]"
   ]
  },
  {
   "cell_type": "markdown",
   "metadata": {
    "id": "b0p61acSK-bW"
   },
   "source": [
    "### Simple convo truncation method\n",
    "Model remembers prior convo but **forgets to** always ends in exclamation points!!"
   ]
  },
  {
   "cell_type": "code",
   "execution_count": 8,
   "metadata": {
    "colab": {
     "base_uri": "https://localhost:8080/"
    },
    "id": "2Udi8FpJW8Hf",
    "outputId": "03369e5f-527a-4f7f-fb91-1082ae7d4ed2"
   },
   "outputs": [
    {
     "name": "stdout",
     "output_type": "stream",
     "text": [
      "**** Convo turn 0 ****\n",
      "User: What cards game has the best odds of winning?\n",
      "AI Assistant: The game of blackjack has the best odds of winning, with a house edge of only 1%!\n",
      "\n",
      "**** Convo turn 1 ****\n",
      "User: What are the odds of winning it?\n",
      "AI Assistant: The odds of winning at blackjack depend on various factors, such as the number of decks in play and the specific rules of the game. However, with proper strategy and a bit of luck, you have a good chance of coming out on top!!\n",
      "\n",
      "**** Convo turn 2 ****\n",
      "User: What is the best hand to be dealt?\n",
      "AI Assistant: The best hand to be dealt in blackjack is a natural blackjack, which is an ace and a 10-value card. This hand pays out at 3:2 and gives you an immediate advantage over the dealer!!\n",
      "\n",
      "**** Convo turn 3 ****\n",
      "User: What is the next most likely game to win?\n",
      "AI Assistant: The next most likely game to win would depend on the specific casino and its games. However, some popular games with good odds of winning include baccarat, craps, and video poker. It's always a good idea to research the odds and strategies for different games before playing.\n",
      "\n"
     ]
    }
   ],
   "source": [
    "convo = []\n",
    "verbose = False\n",
    "simple_truncation = True\n",
    "for i, input in enumerate(user_inputs):\n",
    "    print(f\"**** Convo turn {i} ****\")\n",
    "    convo = chat(\n",
    "        input, convo=convo, use_simple_truncation=simple_truncation, verbose=verbose\n",
    "    )\n",
    "    print()"
   ]
  },
  {
   "cell_type": "markdown",
   "metadata": {
    "id": "oqcax0zmLs9X"
   },
   "source": [
    "#### What is happening?\n",
    "Peaking under hood to see the full conversation as it grows\n",
    "\n",
    "NOTE: In **convo turn 3** we remove the system prompt to avoid exceeding the LLM attention window\n"
   ]
  },
  {
   "cell_type": "code",
   "execution_count": 9,
   "metadata": {
    "colab": {
     "base_uri": "https://localhost:8080/"
    },
    "id": "58SqyIARWT8c",
    "outputId": "984a59ef-495e-457a-e54f-ddb3e3b88352"
   },
   "outputs": [
    {
     "name": "stdout",
     "output_type": "stream",
     "text": [
      "**** Convo turn 0 ****\n",
      "System:You expert at games of chance.\n",
      "End every response with double exclamation points!!\n",
      "\n",
      "User: What cards game has the best odds of winning?\n",
      "\n",
      "AI Assistant: The game of blackjack has the best odds of winning, with a house edge of only 1%!\n",
      "\n",
      "**** Convo turn 1 ****\n",
      "System:You expert at games of chance.\n",
      "End every response with double exclamation points!!\n",
      "\n",
      "User: What cards game has the best odds of winning?\n",
      "\n",
      "AI Assistant: The game of blackjack has the best odds of winning, with a house edge of only 1%!\n",
      "\n",
      "User: What are the odds of winning it?\n",
      "\n",
      "AI Assistant: The odds of winning at blackjack depend on various factors, such as the number of decks in play and the specific rules of the game. However, with proper strategy and a bit of luck, you have a good chance of coming out on top!!\n",
      "\n",
      "**** Convo turn 2 ****\n",
      "System:You expert at games of chance.\n",
      "End every response with double exclamation points!!\n",
      "\n",
      "User: What cards game has the best odds of winning?\n",
      "\n",
      "AI Assistant: The game of blackjack has the best odds of winning, with a house edge of only 1%!\n",
      "\n",
      "User: What are the odds of winning it?\n",
      "\n",
      "AI Assistant: The odds of winning at blackjack depend on various factors, such as the number of decks in play and the specific rules of the game. However, with proper strategy and a bit of luck, you have a good chance of coming out on top!!\n",
      "\n",
      "User: What is the best hand to be dealt?\n",
      "\n",
      "AI Assistant: The best hand to be dealt in blackjack is a natural blackjack, which is an ace and a 10-value card. This hand pays out at 3:2 and gives you an immediate advantage over the dealer!!\n",
      "\n",
      "**** Convo turn 3 ****\n",
      "** ATTEN_WINDOW ALL USED UP **\n",
      "OpenAI Error: This model's maximum context length is 4097 tokens, however you requested 4139 tokens (189 in your prompt; 3950 for the completion). Please reduce your prompt; or completion length.\n",
      "\n",
      "** ATTEN_WINDOW ALL USED UP **\n",
      "OpenAI Error: This model's maximum context length is 4097 tokens, however you requested 4121 tokens (171 in your prompt; 3950 for the completion). Please reduce your prompt; or completion length.\n",
      "\n",
      "** ATTEN_WINDOW ALL USED UP **\n",
      "OpenAI Error: This model's maximum context length is 4097 tokens, however you requested 4109 tokens (159 in your prompt; 3950 for the completion). Please reduce your prompt; or completion length.\n",
      "\n",
      "User: What are the odds of winning it?\n",
      "\n",
      "AI Assistant: The odds of winning at blackjack depend on various factors, such as the number of decks in play and the specific rules of the game. However, with proper strategy and a bit of luck, you have a good chance of coming out on top!!\n",
      "\n",
      "User: What is the best hand to be dealt?\n",
      "\n",
      "AI Assistant: The best hand to be dealt in blackjack is a natural blackjack, which is an ace and a 10-value card. This hand pays out at 3:2 and gives you an immediate advantage over the dealer!!\n",
      "\n",
      "User: What is the next most likely game to win?\n",
      "\n",
      "AI Assistant: The next most likely game to win would depend on the specific casino and its games. However, some popular games with good odds of winning include baccarat, craps, and video poker. It's always a good idea to research the odds and strategies for different games before playing.\n",
      "\n"
     ]
    }
   ],
   "source": [
    "convo = []\n",
    "verbose = True\n",
    "simple_truncation = True\n",
    "for i, input in enumerate(user_inputs):\n",
    "    print(f\"**** Convo turn {i} ****\")\n",
    "    convo = chat(\n",
    "        input, convo=convo, use_simple_truncation=simple_truncation, verbose=verbose\n",
    "    )\n",
    "    print()"
   ]
  },
  {
   "cell_type": "markdown",
   "metadata": {
    "id": "QDY-XBnUNKUL"
   },
   "source": [
    "### Retaining System prompt truncation method\n",
    "Model remembers most of prior convo and **remembers to** always ends in exclamation points!!"
   ]
  },
  {
   "cell_type": "code",
   "execution_count": 10,
   "metadata": {
    "colab": {
     "base_uri": "https://localhost:8080/"
    },
    "id": "YHJnH0YLJKMX",
    "outputId": "5eea21fe-e65c-4628-a43b-b2fe4bbb3093"
   },
   "outputs": [
    {
     "name": "stdout",
     "output_type": "stream",
     "text": [
      "**** Convo turn 0 ****\n",
      "User: What cards game has the best odds of winning?\n",
      "AI Assistant: The game of blackjack has the best odds of winning, with a house edge of only 1%!\n",
      "\n",
      "**** Convo turn 1 ****\n",
      "User: What are the odds of winning it?\n",
      "AI Assistant: The odds of winning at blackjack depend on various factors, such as the number of decks in play and the specific rules of the game. However, with proper strategy and a bit of luck, you have a good chance of coming out on top!!\n",
      "\n",
      "**** Convo turn 2 ****\n",
      "User: What is the best hand to be dealt?\n",
      "AI Assistant: The best hand to be dealt in blackjack is a natural blackjack, which is an ace and a 10-value card. This hand pays out at 3:2 and gives you an immediate advantage over the dealer!!\n",
      "\n",
      "**** Convo turn 3 ****\n",
      "User: What is the next most likely game to win?\n",
      "AI Assistant: The next most likely game to win would depend on your personal preferences and skills. Some popular games of chance include poker, roulette, and baccarat. However, with your expertise, you may have a higher chance of winning at any game you choose!!\n",
      "\n"
     ]
    }
   ],
   "source": [
    "convo = []\n",
    "verbose = False\n",
    "for i, input in enumerate(user_inputs):\n",
    "    print(f\"**** Convo turn {i} ****\")\n",
    "    convo = chat(input, convo=convo, verbose=verbose)\n",
    "    print()"
   ]
  },
  {
   "cell_type": "markdown",
   "metadata": {
    "id": "qBRZFXA6MltU"
   },
   "source": [
    "#### What is happening?\n",
    "Peaking under hood to see full convo as it grows\n",
    "\n",
    "NOTE: In **convo turn 3** we remove the oldest **convo turns**, but retain the system prompt"
   ]
  },
  {
   "cell_type": "code",
   "execution_count": 11,
   "metadata": {
    "colab": {
     "base_uri": "https://localhost:8080/"
    },
    "id": "qbSxLx9_M4lw",
    "outputId": "7f1eda93-8c09-4cae-8a4a-e47333e49105"
   },
   "outputs": [
    {
     "name": "stdout",
     "output_type": "stream",
     "text": [
      "**** Convo turn 0 ****\n",
      "System:You expert at games of chance.\n",
      "End every response with double exclamation points!!\n",
      "\n",
      "User: What cards game has the best odds of winning?\n",
      "\n",
      "AI Assistant: The game of blackjack has the best odds of winning, with a house edge of only 1%!\n",
      "\n",
      "**** Convo turn 1 ****\n",
      "System:You expert at games of chance.\n",
      "End every response with double exclamation points!!\n",
      "\n",
      "User: What cards game has the best odds of winning?\n",
      "\n",
      "AI Assistant: The game of blackjack has the best odds of winning, with a house edge of only 1%!\n",
      "\n",
      "User: What are the odds of winning it?\n",
      "\n",
      "AI Assistant: The odds of winning at blackjack depend on various factors, such as the number of decks in play and the specific rules of the game. However, with proper strategy and a bit of luck, you have a good chance of coming out on top!!\n",
      "\n",
      "**** Convo turn 2 ****\n",
      "System:You expert at games of chance.\n",
      "End every response with double exclamation points!!\n",
      "\n",
      "User: What cards game has the best odds of winning?\n",
      "\n",
      "AI Assistant: The game of blackjack has the best odds of winning, with a house edge of only 1%!\n",
      "\n",
      "User: What are the odds of winning it?\n",
      "\n",
      "AI Assistant: The odds of winning at blackjack depend on various factors, such as the number of decks in play and the specific rules of the game. However, with proper strategy and a bit of luck, you have a good chance of coming out on top!!\n",
      "\n",
      "User: What is the best hand to be dealt?\n",
      "\n",
      "AI Assistant: The best hand to be dealt in blackjack is a natural blackjack, which is an ace and a 10-value card. This hand pays out at 3:2 and gives you an immediate advantage over the dealer!!\n",
      "\n",
      "**** Convo turn 3 ****\n",
      "** ATTEN_WINDOW ALL USED UP **\n",
      "OpenAI Error: This model's maximum context length is 4097 tokens, however you requested 4139 tokens (189 in your prompt; 3950 for the completion). Please reduce your prompt; or completion length.\n",
      "\n",
      "** ATTEN_WINDOW ALL USED UP **\n",
      "OpenAI Error: This model's maximum context length is 4097 tokens, however you requested 4127 tokens (177 in your prompt; 3950 for the completion). Please reduce your prompt; or completion length.\n",
      "\n",
      "** ATTEN_WINDOW ALL USED UP **\n",
      "OpenAI Error: This model's maximum context length is 4097 tokens, however you requested 4103 tokens (153 in your prompt; 3950 for the completion). Please reduce your prompt; or completion length.\n",
      "\n",
      "System:You expert at games of chance.\n",
      "End every response with double exclamation points!!\n",
      "\n",
      "AI Assistant: The odds of winning at blackjack depend on various factors, such as the number of decks in play and the specific rules of the game. However, with proper strategy and a bit of luck, you have a good chance of coming out on top!!\n",
      "\n",
      "User: What is the best hand to be dealt?\n",
      "\n",
      "AI Assistant: The best hand to be dealt in blackjack is a natural blackjack, which is an ace and a 10-value card. This hand pays out at 3:2 and gives you an immediate advantage over the dealer!!\n",
      "\n",
      "User: What is the next most likely game to win?\n",
      "\n",
      "AI Assistant: The next most likely game to win would depend on your personal preferences and skills. Some popular games of chance include poker, roulette, and baccarat. However, with your expertise, you may have a higher chance of winning at any game you choose!!\n",
      "\n"
     ]
    }
   ],
   "source": [
    "convo = []\n",
    "verbose = True\n",
    "for i, input in enumerate(user_inputs):\n",
    "    print(f\"**** Convo turn {i} ****\")\n",
    "    convo = chat(input, convo=convo, verbose=verbose)\n",
    "    print()"
   ]
  },
  {
   "cell_type": "code",
   "execution_count": null,
   "metadata": {},
   "outputs": [],
   "source": []
  },
  {
   "cell_type": "code",
   "execution_count": null,
   "metadata": {},
   "outputs": [],
   "source": []
  },
  {
   "cell_type": "code",
   "execution_count": null,
   "metadata": {},
   "outputs": [],
   "source": []
  }
 ],
 "metadata": {
  "colab": {
   "authorship_tag": "ABX9TyOb/Rz98rOFMFcM/oGGqMP4",
   "include_colab_link": true,
   "mount_file_id": "15ObT0WPB-oL1W-p7iT5JP2oHwSKDmWBb",
   "provenance": []
  },
  "kernelspec": {
   "display_name": "Python 3 (ipykernel)",
   "language": "python",
   "name": "python3"
  },
  "language_info": {
   "codemirror_mode": {
    "name": "ipython",
    "version": 3
   },
   "file_extension": ".py",
   "mimetype": "text/x-python",
   "name": "python",
   "nbconvert_exporter": "python",
   "pygments_lexer": "ipython3",
   "version": "3.9.18"
  }
 },
 "nbformat": 4,
 "nbformat_minor": 1
}
