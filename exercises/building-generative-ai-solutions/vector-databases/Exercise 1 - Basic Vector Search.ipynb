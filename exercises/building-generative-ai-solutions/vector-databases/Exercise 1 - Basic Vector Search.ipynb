{
 "cells": [
  {
   "cell_type": "markdown",
   "id": "24cbe1ac",
   "metadata": {},
   "source": [
    "# Basic Vector Search from Scratch\n",
    "\n",
    "For this exercise we will implement basic vector search\n",
    "from scratch with just numpy.<br/>\n",
    "This will give us a feel\n",
    "for what's happening under the hood in vector databases."
   ]
  },
  {
   "cell_type": "code",
   "execution_count": 1,
   "id": "71338267-eb92-475c-b27b-4c0020c3b2e8",
   "metadata": {},
   "outputs": [],
   "source": [
    "# !pip install numpy pytest [This is preinstalled for you in the workspace]"
   ]
  },
  {
   "cell_type": "markdown",
   "id": "68a86f4f",
   "metadata": {},
   "source": [
    "## Euclidean distance\n",
    "\n",
    "There are many ways to measure the distance between two vectors.\n",
    "Let's write a function that computes the `Euclidean distance` \n",
    "between vectors. \n",
    "\n",
    "This function should take as input two vectors and return\n",
    "the euclidean distance between them.\n",
    "\n",
    "For more details you can read this [kaggle page](https://www.kaggle.com/code/paulrohan2020/euclidean-distance-and-normalizing-a-vector)\n"
   ]
  },
  {
   "cell_type": "code",
   "execution_count": 2,
   "id": "88be0502",
   "metadata": {},
   "outputs": [],
   "source": [
    "import numpy as np"
   ]
  },
  {
   "cell_type": "markdown",
   "id": "6a1842d5",
   "metadata": {},
   "source": [
    "**SOLUTION** We first compute the difference between the two vectors, \n",
    "then we use the numpy function np.linalg.norm to compute the\n",
    "sqrt of the sum of the squared differences."
   ]
  },
  {
   "cell_type": "code",
   "execution_count": 3,
   "id": "c731f8e8",
   "metadata": {},
   "outputs": [],
   "source": [
    "def euclidean_distance(v1: np.ndarray, v2: np.ndarray) -> float:\n",
    "    \"\"\"\n",
    "    Compute the Euclidean distance between two vectors.\n",
    "\n",
    "    Parameters\n",
    "    ----------\n",
    "    v1 : np.ndarray\n",
    "        First vector.\n",
    "    v2 : np.ndarray\n",
    "        Second vector.\n",
    "\n",
    "    Returns\n",
    "    -------\n",
    "    float\n",
    "        Euclidean distance between `v1` and `v2`.\n",
    "    \"\"\"\n",
    "    dist = v1 - v2\n",
    "    return np.linalg.norm(dist, axis=len(dist.shape)-1)"
   ]
  },
  {
   "cell_type": "markdown",
   "id": "411b4742",
   "metadata": {},
   "source": [
    "Test your answer"
   ]
  },
  {
   "cell_type": "code",
   "execution_count": 4,
   "id": "0c2d0237",
   "metadata": {},
   "outputs": [],
   "source": [
    "import pytest"
   ]
  },
  {
   "cell_type": "code",
   "execution_count": 5,
   "id": "7f5a6f8c",
   "metadata": {},
   "outputs": [],
   "source": [
    "v1 = np.array([1, 2, 3])\n",
    "v2 = np.array([4, 5, 6])\n",
    "dist = np.sqrt(np.sum((v2 - v1)**2))\n",
    "assert euclidean_distance(v1, v2) == pytest.approx(dist)"
   ]
  },
  {
   "cell_type": "markdown",
   "id": "cc6760a2",
   "metadata": {},
   "source": [
    "## KNN search\n",
    "\n",
    "Using the distance function you just wrote, write a function that \n",
    "finds the k-nearest neighbors of a query vector.\n",
    "\n",
    "This function should take as input a query vector, a 2d array of database vectors,\n",
    "and an integer k the number of nearest neighbors to return. And it should return \n",
    "the vectors that are the k-nearest neighbors of the query vector.\n"
   ]
  },
  {
   "cell_type": "markdown",
   "id": "d14f004d",
   "metadata": {},
   "source": [
    "**SOLUTION**: Here we use the `euclidean_distance` function we just wrote to compute\n",
    "the distance between the query vector and all database vectors. We then\n",
    "sort the distances and get the top-k (meaning lowest distances).\n"
   ]
  },
  {
   "cell_type": "code",
   "execution_count": 6,
   "id": "68124b99",
   "metadata": {},
   "outputs": [],
   "source": [
    "def find_nearest_neighbors(query: np.ndarray,\n",
    "                           vectors: np.ndarray,\n",
    "                           k: int = 1) -> np.ndarray:\n",
    "    \"\"\"\n",
    "    Find k-nearest neighbors of a query vector.\n",
    "\n",
    "    Parameters\n",
    "    ----------\n",
    "    query : np.ndarray\n",
    "        Query vector.\n",
    "    vectors : np.ndarray\n",
    "        Vectors to search.\n",
    "    k : int, optional\n",
    "        Number of nearest neighbors to return, by default 1.\n",
    "\n",
    "    Returns\n",
    "    -------\n",
    "    np.ndarray\n",
    "        The `k` nearest neighbors of `query` in `vectors`.\n",
    "    \"\"\"\n",
    "    distances = euclidean_distance(query, vectors)\n",
    "    indices = np.argsort(distances)[:k]\n",
    "    return vectors[indices, :]"
   ]
  },
  {
   "cell_type": "markdown",
   "id": "7d944add",
   "metadata": {},
   "source": [
    "Test your answer"
   ]
  },
  {
   "cell_type": "code",
   "execution_count": 7,
   "id": "5b6deff3",
   "metadata": {},
   "outputs": [],
   "source": [
    "mat = np.random.randn(1000, 32)\n",
    "query = np.random.randn(32)\n",
    "k = 10\n",
    "norms = np.linalg.norm(mat, axis=1)\n",
    "expected = np.linalg.norm(mat - query, axis=1)\n",
    "expected = mat[np.argsort(expected)[:k], :]\n",
    "actual = find_nearest_neighbors(query, mat, k=k)\n",
    "assert np.allclose(actual, expected)"
   ]
  },
  {
   "cell_type": "markdown",
   "id": "5eabd7ba",
   "metadata": {},
   "source": [
    "## Other distance metrics\n",
    "\n",
    "For this problem we'll write a new distance function and modify \n",
    "our nearest neighbors function to accept a distance metric.\n"
   ]
  },
  {
   "cell_type": "markdown",
   "id": "d138be2c",
   "metadata": {},
   "source": [
    "Write a function that computes the [cosine distance](ttps://en.wikipedia.org/wiki/Cosine_similarity) between vectors.\n",
    "\n",
    "**HINT** Please make sure you understand the difference between cosine similarity and cosine distance\n",
    "\n",
    "**SOLUTION** we first compute the dot product between the two vectors,\n",
    "then we divide that dot product by the norms of each vector. This is the formula\n",
    "for cosine similarity. Note that cosine distance is 1 - cosine similarity.\n"
   ]
  },
  {
   "cell_type": "code",
   "execution_count": 8,
   "id": "b91848ed",
   "metadata": {},
   "outputs": [],
   "source": [
    "from typing import Union\n",
    "\n",
    "def cosine_distance(v1: np.ndarray, v2: np.ndarray) -> Union[float, np.ndarray]:\n",
    "    \"\"\"\n",
    "    Compute the cosine distance between two vectors.\n",
    "\n",
    "    Parameters\n",
    "    ----------\n",
    "    v1 : np.ndarray\n",
    "        First vector.\n",
    "    v2 : np.ndarray\n",
    "        Second vector.\n",
    "\n",
    "    Returns\n",
    "    -------\n",
    "    float\n",
    "        Cosine distance between `v1` and `v2`.\n",
    "    \"\"\"\n",
    "    vecs = (v1, v2) if len(v1.shape) >= len(v2.shape) else (v2, v1)\n",
    "    return 1 - np.dot(*vecs) / (\n",
    "            np.linalg.norm(v1, axis=len(v1.shape)-1) *\n",
    "            np.linalg.norm(v2, axis=len(v2.shape)-1)\n",
    "    )"
   ]
  },
  {
   "cell_type": "markdown",
   "id": "26df3774",
   "metadata": {},
   "source": [
    "Test your answer"
   ]
  },
  {
   "cell_type": "code",
   "execution_count": 9,
   "id": "3652593c",
   "metadata": {},
   "outputs": [],
   "source": [
    "v1 = np.array([1, 2, 3])\n",
    "v2 = np.array([4, 5, 6])\n",
    "v1_norm = np.linalg.norm(v1)\n",
    "v2_norm = np.linalg.norm(v2)\n",
    "dist = 1 - np.dot(v2, v1) / (v1_norm * v2_norm)\n",
    "assert cosine_distance(v1, v2) == pytest.approx(dist)"
   ]
  },
  {
   "cell_type": "markdown",
   "id": "e2c176d9",
   "metadata": {},
   "source": [
    "Now, rewrite the `find_nearest_neighbors` function to accept a distance metric so you can use either Euclidean or Cosine distance"
   ]
  },
  {
   "cell_type": "code",
   "execution_count": 10,
   "id": "f54ab2f2",
   "metadata": {},
   "outputs": [],
   "source": [
    "def find_nearest_neighbors(query: np.ndarray,\n",
    "                           vectors: np.ndarray,\n",
    "                           k: int = 1,\n",
    "                           distance_metric=\"euclidean\") -> np.ndarray:\n",
    "    \"\"\"\n",
    "    Find k-nearest neighbors of a query vector with a configurable\n",
    "    distance metric.\n",
    "\n",
    "    Parameters\n",
    "    ----------\n",
    "    query : np.ndarray\n",
    "        Query vector.\n",
    "    vectors : np.ndarray\n",
    "        Vectors to search.\n",
    "    k : int, optional\n",
    "        Number of nearest neighbors to return, by default 1.\n",
    "    distance_metric : str, optional\n",
    "        Distance metric to use, by default \"euclidean\".\n",
    "\n",
    "    Returns\n",
    "    -------\n",
    "    np.ndarray\n",
    "        The `k` nearest neighbors of `query` in `vectors`.\n",
    "    \"\"\"\n",
    "    if distance_metric == \"euclidean\":\n",
    "        distances = euclidean_distance(query, vectors)\n",
    "    elif distance_metric == \"cosine\":\n",
    "        distances = cosine_distance(query, vectors)\n",
    "    else:\n",
    "        raise ValueError(f\"Unknown distance metric: {distance_metric}\")\n",
    "    indices = np.argsort(distances)[:k]\n",
    "    return vectors[indices, :]\n"
   ]
  },
  {
   "cell_type": "markdown",
   "id": "51470184",
   "metadata": {},
   "source": [
    "Test your answer"
   ]
  },
  {
   "cell_type": "code",
   "execution_count": 11,
   "id": "54aad14b",
   "metadata": {},
   "outputs": [],
   "source": [
    "mat = np.random.randn(1000, 32)\n",
    "query = np.random.randn(32)\n",
    "k = 10\n",
    "norms = np.linalg.norm(mat, axis=1)\n",
    "for dist in [\"euclidean\", \"cosine\"]:\n",
    "    if dist == \"euclidean\":\n",
    "        expected = np.linalg.norm(mat - query, axis=1)\n",
    "    else:\n",
    "        expected = 1 - np.dot(mat, query) / (norms * np.linalg.norm(query))\n",
    "    expected = mat[np.argsort(expected)[:k], :]\n",
    "    actual = find_nearest_neighbors(query, mat, k=k, distance_metric=dist)\n",
    "    assert np.allclose(actual, expected)"
   ]
  },
  {
   "cell_type": "markdown",
   "id": "21548bed",
   "metadata": {},
   "source": [
    "## Exploration\n",
    "\n",
    "Now that we have a nearest neighbors function that accepts a distance metric, <br/>\n",
    "let's explore the differences between Euclidean distance and cosine distance.\n",
    "\n",
    "Would you expect same or different answers?\n",
    "\n",
    "Note that if you normalize the vectors, then Euclidean distance and cosine distance\n",
    "will return equivalent answers."
   ]
  },
  {
   "cell_type": "code",
   "execution_count": 12,
   "id": "1133d29d",
   "metadata": {},
   "outputs": [],
   "source": [
    "# You might find this function useful\n",
    "\n",
    "def generate_vectors(num_vectors: int, num_dim: int,\n",
    "                     normalize: bool = True) -> np.ndarray:\n",
    "    \"\"\"\n",
    "    Generate random embedding vectors.\n",
    "\n",
    "    Parameters\n",
    "    ----------\n",
    "    num_vectors : int\n",
    "        Number of vectors to generate.\n",
    "    num_dim : int\n",
    "        Dimensionality of the vectors.\n",
    "    normalize : bool, optional\n",
    "        Whether to normalize the vectors, by default True.\n",
    "\n",
    "    Returns\n",
    "    -------\n",
    "    np.ndarray\n",
    "        Randomly generated `num_vectors` vectors with `num_dim` dimensions.\n",
    "    \"\"\"\n",
    "    vectors = np.random.rand(num_vectors, num_dim)\n",
    "    if normalize:\n",
    "        vectors /= np.linalg.norm(vectors, axis=1, keepdims=True)\n",
    "    return vectors"
   ]
  },
  {
   "cell_type": "code",
   "execution_count": null,
   "id": "0c68aae9",
   "metadata": {},
   "outputs": [],
   "source": []
  }
 ],
 "metadata": {
  "kernelspec": {
   "display_name": "Python 3 (ipykernel)",
   "language": "python",
   "name": "python3"
  },
  "language_info": {
   "codemirror_mode": {
    "name": "ipython",
    "version": 3
   },
   "file_extension": ".py",
   "mimetype": "text/x-python",
   "name": "python",
   "nbconvert_exporter": "python",
   "pygments_lexer": "ipython3",
   "version": "3.10.13"
  }
 },
 "nbformat": 4,
 "nbformat_minor": 5
}
