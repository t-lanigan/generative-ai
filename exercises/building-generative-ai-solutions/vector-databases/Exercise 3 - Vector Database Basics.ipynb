{
 "cells": [
  {
   "cell_type": "markdown",
   "id": "767e4e3e",
   "metadata": {},
   "source": [
    "# Vector Database Basics\n",
    "\n",
    "Vector databases help us store, manage, and query the embeddings we created for generative AI, recommenders, and search engines.\n",
    "\n",
    "Across many of the common use cases, users often find that they need to manage more than just vectors.\n",
    "To make it easier for practitioners, vector databases should store and manage all of the data they need:\n",
    "- embedding vectors\n",
    "- categorical metadata\n",
    "- numerical metadata\n",
    "- timeseries metadata\n",
    "- text / pdf / images / video / point clouds\n",
    "\n",
    "And support a wide range of query workloads:\n",
    "- Vector search (may require ANN-index)\n",
    "- Keyword search (requires full text search index)\n",
    "- SQL (for filtering)\n",
    "\n",
    "For this exercise we'll use LanceDB since it's open source and easy to setup"
   ]
  },
  {
   "cell_type": "code",
   "execution_count": 1,
   "id": "d8216d53-e83f-4d4f-8185-06c36ed80a3f",
   "metadata": {},
   "outputs": [],
   "source": [
    "# pip install -U --quiet lancedb pandas pydantic [This has been pre-installed for you]"
   ]
  },
  {
   "cell_type": "markdown",
   "id": "7056be41",
   "metadata": {},
   "source": [
    "## Creating tables and adding data\n",
    "\n",
    "Let's create a LanceDB table called `cats_and_dogs` under the local database directory `~/.lancedb`.\n",
    "This table should have 4 fields:\n",
    "- the embedding vector\n",
    "- a string field indicating the species (either \"cat\" or \"dog\")\n",
    "- the breed\n",
    "- average weight in pounds"
   ]
  },
  {
   "cell_type": "markdown",
   "id": "491420f1",
   "metadata": {},
   "source": [
    "We're going to use pydantic to make this easier. First let's create a pydantic model with those fields"
   ]
  },
  {
   "cell_type": "code",
   "execution_count": 2,
   "id": "ff59f636",
   "metadata": {},
   "outputs": [],
   "source": [
    "from lancedb.pydantic import vector, LanceModel\n",
    "\n",
    "class CatsAndDogs(LanceModel):\n",
    "    vector: vector(2)\n",
    "    species: str\n",
    "    breed: str\n",
    "    weight: float"
   ]
  },
  {
   "cell_type": "markdown",
   "id": "31c35990",
   "metadata": {},
   "source": [
    "Now connect to a local db at ~/.lancedb and create an empty LanceDB table called \"cats_and_dogs\""
   ]
  },
  {
   "cell_type": "code",
   "execution_count": 3,
   "id": "1f59c988",
   "metadata": {},
   "outputs": [],
   "source": [
    "import lancedb\n",
    "\n",
    "db = lancedb.connect(\"~/.lancedb\")\n",
    "table_name = \"cats_and_dogs\"\n",
    "db.drop_table(table_name, ignore_missing=True)\n",
    "table = db.create_table(table_name, schema=CatsAndDogs)"
   ]
  },
  {
   "cell_type": "markdown",
   "id": "e86190e6",
   "metadata": {},
   "source": [
    "Let's add some data"
   ]
  },
  {
   "cell_type": "markdown",
   "id": "2c0f0fb7",
   "metadata": {},
   "source": [
    "First some cats"
   ]
  },
  {
   "cell_type": "code",
   "execution_count": 4,
   "id": "7c39b097",
   "metadata": {},
   "outputs": [],
   "source": [
    "data = [\n",
    "    CatsAndDogs(\n",
    "        vector=[1., 0.],\n",
    "        species=\"cat\",\n",
    "        breed=\"shorthair\",\n",
    "        weight=12.,\n",
    "    ),\n",
    "    CatsAndDogs(\n",
    "        vector=[-1., 0.],\n",
    "        species=\"cat\",\n",
    "        breed=\"himalayan\",\n",
    "        weight=9.5,\n",
    "    ),\n",
    "]"
   ]
  },
  {
   "cell_type": "markdown",
   "id": "52b2fed2",
   "metadata": {},
   "source": [
    "Now call the `LanceTable.add` API to insert these two records into the table"
   ]
  },
  {
   "cell_type": "code",
   "execution_count": 5,
   "id": "5714a80e",
   "metadata": {},
   "outputs": [],
   "source": [
    "table.add([dict(d) for d in data])"
   ]
  },
  {
   "cell_type": "markdown",
   "id": "9fd3adb9",
   "metadata": {},
   "source": [
    "Let's preview the data"
   ]
  },
  {
   "cell_type": "code",
   "execution_count": 6,
   "id": "6ce21774",
   "metadata": {
    "scrolled": true
   },
   "outputs": [
    {
     "data": {
      "text/html": [
       "<div>\n",
       "<style scoped>\n",
       "    .dataframe tbody tr th:only-of-type {\n",
       "        vertical-align: middle;\n",
       "    }\n",
       "\n",
       "    .dataframe tbody tr th {\n",
       "        vertical-align: top;\n",
       "    }\n",
       "\n",
       "    .dataframe thead th {\n",
       "        text-align: right;\n",
       "    }\n",
       "</style>\n",
       "<table border=\"1\" class=\"dataframe\">\n",
       "  <thead>\n",
       "    <tr style=\"text-align: right;\">\n",
       "      <th></th>\n",
       "      <th>vector</th>\n",
       "      <th>species</th>\n",
       "      <th>breed</th>\n",
       "      <th>weight</th>\n",
       "    </tr>\n",
       "  </thead>\n",
       "  <tbody>\n",
       "    <tr>\n",
       "      <th>0</th>\n",
       "      <td>[1.0, 0.0]</td>\n",
       "      <td>cat</td>\n",
       "      <td>shorthair</td>\n",
       "      <td>12.0</td>\n",
       "    </tr>\n",
       "    <tr>\n",
       "      <th>1</th>\n",
       "      <td>[-1.0, 0.0]</td>\n",
       "      <td>cat</td>\n",
       "      <td>himalayan</td>\n",
       "      <td>9.5</td>\n",
       "    </tr>\n",
       "  </tbody>\n",
       "</table>\n",
       "</div>"
      ],
      "text/plain": [
       "        vector species      breed  weight\n",
       "0   [1.0, 0.0]     cat  shorthair    12.0\n",
       "1  [-1.0, 0.0]     cat  himalayan     9.5"
      ]
     },
     "execution_count": 6,
     "metadata": {},
     "output_type": "execute_result"
    }
   ],
   "source": [
    "table.head().to_pandas()"
   ]
  },
  {
   "cell_type": "markdown",
   "id": "4d18459d",
   "metadata": {},
   "source": [
    "Now let's add some dogs"
   ]
  },
  {
   "cell_type": "code",
   "execution_count": 7,
   "id": "07a40981",
   "metadata": {},
   "outputs": [],
   "source": [
    "data = [\n",
    "    CatsAndDogs(\n",
    "        vector=[0., 10.],\n",
    "        species=\"dog\",\n",
    "        breed=\"samoyed\",\n",
    "        weight=47.5,\n",
    "    ),\n",
    "    CatsAndDogs(\n",
    "        vector=[0, -1.],\n",
    "        species=\"dog\",\n",
    "        breed=\"corgi\",\n",
    "        weight=26.,\n",
    "    )\n",
    "]"
   ]
  },
  {
   "cell_type": "code",
   "execution_count": 8,
   "id": "e16f9a66",
   "metadata": {},
   "outputs": [],
   "source": [
    "table.add([dict(d) for d in data])"
   ]
  },
  {
   "cell_type": "code",
   "execution_count": 9,
   "id": "6dfe97e8",
   "metadata": {},
   "outputs": [
    {
     "data": {
      "text/html": [
       "<div>\n",
       "<style scoped>\n",
       "    .dataframe tbody tr th:only-of-type {\n",
       "        vertical-align: middle;\n",
       "    }\n",
       "\n",
       "    .dataframe tbody tr th {\n",
       "        vertical-align: top;\n",
       "    }\n",
       "\n",
       "    .dataframe thead th {\n",
       "        text-align: right;\n",
       "    }\n",
       "</style>\n",
       "<table border=\"1\" class=\"dataframe\">\n",
       "  <thead>\n",
       "    <tr style=\"text-align: right;\">\n",
       "      <th></th>\n",
       "      <th>vector</th>\n",
       "      <th>species</th>\n",
       "      <th>breed</th>\n",
       "      <th>weight</th>\n",
       "    </tr>\n",
       "  </thead>\n",
       "  <tbody>\n",
       "    <tr>\n",
       "      <th>0</th>\n",
       "      <td>[1.0, 0.0]</td>\n",
       "      <td>cat</td>\n",
       "      <td>shorthair</td>\n",
       "      <td>12.0</td>\n",
       "    </tr>\n",
       "    <tr>\n",
       "      <th>1</th>\n",
       "      <td>[-1.0, 0.0]</td>\n",
       "      <td>cat</td>\n",
       "      <td>himalayan</td>\n",
       "      <td>9.5</td>\n",
       "    </tr>\n",
       "    <tr>\n",
       "      <th>2</th>\n",
       "      <td>[0.0, 10.0]</td>\n",
       "      <td>dog</td>\n",
       "      <td>samoyed</td>\n",
       "      <td>47.5</td>\n",
       "    </tr>\n",
       "    <tr>\n",
       "      <th>3</th>\n",
       "      <td>[0.0, -1.0]</td>\n",
       "      <td>dog</td>\n",
       "      <td>corgi</td>\n",
       "      <td>26.0</td>\n",
       "    </tr>\n",
       "  </tbody>\n",
       "</table>\n",
       "</div>"
      ],
      "text/plain": [
       "        vector species      breed  weight\n",
       "0   [1.0, 0.0]     cat  shorthair    12.0\n",
       "1  [-1.0, 0.0]     cat  himalayan     9.5\n",
       "2  [0.0, 10.0]     dog    samoyed    47.5\n",
       "3  [0.0, -1.0]     dog      corgi    26.0"
      ]
     },
     "execution_count": 9,
     "metadata": {},
     "output_type": "execute_result"
    }
   ],
   "source": [
    "table.head().to_pandas()"
   ]
  },
  {
   "cell_type": "markdown",
   "id": "ae801f66",
   "metadata": {},
   "source": [
    "## Querying tables\n",
    "\n",
    "Vector databases allow us to retrieve data for generative AI applications. Let's see how that's done."
   ]
  },
  {
   "cell_type": "markdown",
   "id": "49ace8f8",
   "metadata": {},
   "source": [
    "Let's say we have a new animal that has embedding [10.5, 10.], what would you expect the most similar animal will be?\n",
    "Can you use the table we created above to answer the question?\n",
    "\n",
    "**HINT** you'll need to use the `search` API for LanceTable and `limit` / `to_df` APIs. For examples you can refer to [LanceDB documentation](https://lancedb.github.io/lancedb/basic/#how-to-search-for-approximate-nearest-neighbors).\n",
    "\n",
    "**SOLUTION** if you answered \"samoyed\" then you're right!. Here we pass the vector into `search` and make a chained call to `limit` with 1 as the param. Then we'll need to call `to_df` to execute the query and convert the results to a pandas dataframe. In addition to the data columns, you'll also see a \"score\" column, which contains the distance score between the query vector and the returned vector. In this case, the score is the square of the Euclidean distance."
   ]
  },
  {
   "cell_type": "code",
   "execution_count": 10,
   "id": "42370af3",
   "metadata": {},
   "outputs": [
    {
     "data": {
      "text/html": [
       "<div>\n",
       "<style scoped>\n",
       "    .dataframe tbody tr th:only-of-type {\n",
       "        vertical-align: middle;\n",
       "    }\n",
       "\n",
       "    .dataframe tbody tr th {\n",
       "        vertical-align: top;\n",
       "    }\n",
       "\n",
       "    .dataframe thead th {\n",
       "        text-align: right;\n",
       "    }\n",
       "</style>\n",
       "<table border=\"1\" class=\"dataframe\">\n",
       "  <thead>\n",
       "    <tr style=\"text-align: right;\">\n",
       "      <th></th>\n",
       "      <th>vector</th>\n",
       "      <th>species</th>\n",
       "      <th>breed</th>\n",
       "      <th>weight</th>\n",
       "      <th>_distance</th>\n",
       "    </tr>\n",
       "  </thead>\n",
       "  <tbody>\n",
       "    <tr>\n",
       "      <th>0</th>\n",
       "      <td>[0.0, 10.0]</td>\n",
       "      <td>dog</td>\n",
       "      <td>samoyed</td>\n",
       "      <td>47.5</td>\n",
       "      <td>110.25</td>\n",
       "    </tr>\n",
       "  </tbody>\n",
       "</table>\n",
       "</div>"
      ],
      "text/plain": [
       "        vector species    breed  weight  _distance\n",
       "0  [0.0, 10.0]     dog  samoyed    47.5     110.25"
      ]
     },
     "execution_count": 10,
     "metadata": {},
     "output_type": "execute_result"
    }
   ],
   "source": [
    "table.search([10.5, 10.,]).limit(1).to_df()"
   ]
  },
  {
   "cell_type": "markdown",
   "id": "ff544138",
   "metadata": {},
   "source": [
    "Now what if we use cosine distance instead? Would you expect that we get the same answer? Why or why not?\n",
    "\n",
    "**HINT** you can add a call to `metric` in the call chain\n",
    "\n",
    "**SOLUTION** Remember that cosine distance is the angle between vectors. So while the query vector [10.5, 10.] is closer in Euclidean distance to Samoyed, the angle is slightly closer to shorthair cats."
   ]
  },
  {
   "cell_type": "code",
   "execution_count": 11,
   "id": "b20807b2",
   "metadata": {},
   "outputs": [
    {
     "data": {
      "text/html": [
       "<div>\n",
       "<style scoped>\n",
       "    .dataframe tbody tr th:only-of-type {\n",
       "        vertical-align: middle;\n",
       "    }\n",
       "\n",
       "    .dataframe tbody tr th {\n",
       "        vertical-align: top;\n",
       "    }\n",
       "\n",
       "    .dataframe thead th {\n",
       "        text-align: right;\n",
       "    }\n",
       "</style>\n",
       "<table border=\"1\" class=\"dataframe\">\n",
       "  <thead>\n",
       "    <tr style=\"text-align: right;\">\n",
       "      <th></th>\n",
       "      <th>vector</th>\n",
       "      <th>species</th>\n",
       "      <th>breed</th>\n",
       "      <th>weight</th>\n",
       "      <th>_distance</th>\n",
       "    </tr>\n",
       "  </thead>\n",
       "  <tbody>\n",
       "    <tr>\n",
       "      <th>0</th>\n",
       "      <td>[1.0, 0.0]</td>\n",
       "      <td>cat</td>\n",
       "      <td>shorthair</td>\n",
       "      <td>12.0</td>\n",
       "      <td>0.275862</td>\n",
       "    </tr>\n",
       "  </tbody>\n",
       "</table>\n",
       "</div>"
      ],
      "text/plain": [
       "       vector species      breed  weight  _distance\n",
       "0  [1.0, 0.0]     cat  shorthair    12.0   0.275862"
      ]
     },
     "execution_count": 11,
     "metadata": {},
     "output_type": "execute_result"
    }
   ],
   "source": [
    "table.search([10.5, 10.]).metric(\"cosine\").limit(1).to_df()"
   ]
  },
  {
   "cell_type": "markdown",
   "id": "d9320abc",
   "metadata": {},
   "source": [
    "## Filtering tables\n",
    "\n",
    "In practice, we often need to specify more than just a search vector for good quality retrieval. Oftentimes we need to filter the metadata as well."
   ]
  },
  {
   "cell_type": "markdown",
   "id": "aec215e3",
   "metadata": {},
   "source": [
    "Please write code to retrieve two most similar examples to the embedding [10.5, 10.] but only show the results that is a cat.\n",
    "\n",
    "**HINT** In LanceDB, for additional filtering, you can add a call to `where` in the call chain and pass in a SQL-like filter string."
   ]
  },
  {
   "cell_type": "code",
   "execution_count": 12,
   "id": "bfdbde95",
   "metadata": {},
   "outputs": [
    {
     "data": {
      "text/html": [
       "<div>\n",
       "<style scoped>\n",
       "    .dataframe tbody tr th:only-of-type {\n",
       "        vertical-align: middle;\n",
       "    }\n",
       "\n",
       "    .dataframe tbody tr th {\n",
       "        vertical-align: top;\n",
       "    }\n",
       "\n",
       "    .dataframe thead th {\n",
       "        text-align: right;\n",
       "    }\n",
       "</style>\n",
       "<table border=\"1\" class=\"dataframe\">\n",
       "  <thead>\n",
       "    <tr style=\"text-align: right;\">\n",
       "      <th></th>\n",
       "      <th>vector</th>\n",
       "      <th>species</th>\n",
       "      <th>breed</th>\n",
       "      <th>weight</th>\n",
       "      <th>_distance</th>\n",
       "    </tr>\n",
       "  </thead>\n",
       "  <tbody>\n",
       "    <tr>\n",
       "      <th>0</th>\n",
       "      <td>[1.0, 0.0]</td>\n",
       "      <td>cat</td>\n",
       "      <td>shorthair</td>\n",
       "      <td>12.0</td>\n",
       "      <td>190.25</td>\n",
       "    </tr>\n",
       "  </tbody>\n",
       "</table>\n",
       "</div>"
      ],
      "text/plain": [
       "       vector species      breed  weight  _distance\n",
       "0  [1.0, 0.0]     cat  shorthair    12.0     190.25"
      ]
     },
     "execution_count": 12,
     "metadata": {},
     "output_type": "execute_result"
    }
   ],
   "source": [
    "table.search([10.5, 10.,]).limit(2).where(\"species='cat'\").to_df()"
   ]
  },
  {
   "cell_type": "markdown",
   "id": "43ce2929",
   "metadata": {},
   "source": [
    "## Creating ANN indices\n",
    "\n",
    "For larger tables (e.g., >1M rows), searching through all of the vectors becomes quite slow. Here is where the Approximate Nearest Neighbor (ANN) index comes into play. While there are many different ANN indexing algorithms, they all have the same purpose - to drastically limit the search space as much as possible while losing as little accuracy as possible\n",
    "\n",
    "For this problem we will create an ANN index on a LanceDB table and see how that impacts performance"
   ]
  },
  {
   "cell_type": "markdown",
   "id": "e14cc160",
   "metadata": {},
   "source": [
    "### First let's create some data\n",
    "\n",
    "Given the constraints of the classroom workspace, we'll complete this exercise by creating 100,000 vectors with 16D in a new table. Here the embedding values don't matter, so we simply generate random embeddings as a 2D numpy array. We then use the `vec_to_table` function to convert that in to an Arrow table, which can then be added to the table."
   ]
  },
  {
   "cell_type": "code",
   "execution_count": 13,
   "id": "c2232841",
   "metadata": {},
   "outputs": [],
   "source": [
    "from lance.vector import vec_to_table\n",
    "import numpy as np\n",
    "\n",
    "mat = np.random.randn(100_000, 16)\n",
    "table_name = \"exercise3_ann\"\n",
    "db.drop_table(table_name, ignore_missing=True)\n",
    "table = db.create_table(table_name, vec_to_table(mat))"
   ]
  },
  {
   "cell_type": "markdown",
   "id": "835ba417",
   "metadata": {},
   "source": [
    "### Let's establish a baseline without an index\n",
    "\n",
    "Before we create the index, let's make sure know what we need to compare against.\n",
    "\n",
    "We'll generate a random query vector and record it's value in the `query` variable so we can use the same query vector with and without the ANN index."
   ]
  },
  {
   "cell_type": "code",
   "execution_count": 14,
   "id": "c9c66952",
   "metadata": {},
   "outputs": [
    {
     "data": {
      "text/html": [
       "<div>\n",
       "<style scoped>\n",
       "    .dataframe tbody tr th:only-of-type {\n",
       "        vertical-align: middle;\n",
       "    }\n",
       "\n",
       "    .dataframe tbody tr th {\n",
       "        vertical-align: top;\n",
       "    }\n",
       "\n",
       "    .dataframe thead th {\n",
       "        text-align: right;\n",
       "    }\n",
       "</style>\n",
       "<table border=\"1\" class=\"dataframe\">\n",
       "  <thead>\n",
       "    <tr style=\"text-align: right;\">\n",
       "      <th></th>\n",
       "      <th>vector</th>\n",
       "      <th>_distance</th>\n",
       "    </tr>\n",
       "  </thead>\n",
       "  <tbody>\n",
       "    <tr>\n",
       "      <th>0</th>\n",
       "      <td>[0.40637052, -0.6848565, 0.25305176, 0.1160183...</td>\n",
       "      <td>4.934102</td>\n",
       "    </tr>\n",
       "    <tr>\n",
       "      <th>1</th>\n",
       "      <td>[-1.0806783, -0.37886325, -0.43526447, 0.80882...</td>\n",
       "      <td>4.939671</td>\n",
       "    </tr>\n",
       "    <tr>\n",
       "      <th>2</th>\n",
       "      <td>[-0.7834152, 0.22190379, 0.62918437, 0.5440492...</td>\n",
       "      <td>5.026000</td>\n",
       "    </tr>\n",
       "    <tr>\n",
       "      <th>3</th>\n",
       "      <td>[-0.85893506, -0.82675505, -0.27404046, 0.0690...</td>\n",
       "      <td>5.045324</td>\n",
       "    </tr>\n",
       "    <tr>\n",
       "      <th>4</th>\n",
       "      <td>[-0.0692185, 0.09582594, 0.110043034, 0.870683...</td>\n",
       "      <td>5.185118</td>\n",
       "    </tr>\n",
       "    <tr>\n",
       "      <th>5</th>\n",
       "      <td>[0.4731883, -0.43243143, 0.11517821, 0.5844016...</td>\n",
       "      <td>5.280421</td>\n",
       "    </tr>\n",
       "    <tr>\n",
       "      <th>6</th>\n",
       "      <td>[-0.13414739, 0.7341682, -0.7966965, 1.3163494...</td>\n",
       "      <td>5.283449</td>\n",
       "    </tr>\n",
       "    <tr>\n",
       "      <th>7</th>\n",
       "      <td>[-0.7620548, -0.21515357, -0.18533202, 0.35712...</td>\n",
       "      <td>5.439384</td>\n",
       "    </tr>\n",
       "    <tr>\n",
       "      <th>8</th>\n",
       "      <td>[0.20514311, -0.7195129, 0.083456345, -0.19420...</td>\n",
       "      <td>5.657211</td>\n",
       "    </tr>\n",
       "    <tr>\n",
       "      <th>9</th>\n",
       "      <td>[0.027963892, 0.063259386, -0.67383015, 0.7698...</td>\n",
       "      <td>5.827345</td>\n",
       "    </tr>\n",
       "  </tbody>\n",
       "</table>\n",
       "</div>"
      ],
      "text/plain": [
       "                                              vector  _distance\n",
       "0  [0.40637052, -0.6848565, 0.25305176, 0.1160183...   4.934102\n",
       "1  [-1.0806783, -0.37886325, -0.43526447, 0.80882...   4.939671\n",
       "2  [-0.7834152, 0.22190379, 0.62918437, 0.5440492...   5.026000\n",
       "3  [-0.85893506, -0.82675505, -0.27404046, 0.0690...   5.045324\n",
       "4  [-0.0692185, 0.09582594, 0.110043034, 0.870683...   5.185118\n",
       "5  [0.4731883, -0.43243143, 0.11517821, 0.5844016...   5.280421\n",
       "6  [-0.13414739, 0.7341682, -0.7966965, 1.3163494...   5.283449\n",
       "7  [-0.7620548, -0.21515357, -0.18533202, 0.35712...   5.439384\n",
       "8  [0.20514311, -0.7195129, 0.083456345, -0.19420...   5.657211\n",
       "9  [0.027963892, 0.063259386, -0.67383015, 0.7698...   5.827345"
      ]
     },
     "execution_count": 14,
     "metadata": {},
     "output_type": "execute_result"
    }
   ],
   "source": [
    "query = np.random.randn(16)\n",
    "table.search(query).limit(10).to_df()"
   ]
  },
  {
   "cell_type": "markdown",
   "id": "4e5727bf",
   "metadata": {},
   "source": [
    "Please write code to compute the average latency of this query\n",
    "\n",
    "**SOLUTION** There are several possible solutions. Given that we're in a notebook environment, the easiest is probably using the %timeit magic function to run the command a bunch of times and compute the average"
   ]
  },
  {
   "cell_type": "code",
   "execution_count": 15,
   "id": "8b8c3ec2",
   "metadata": {},
   "outputs": [
    {
     "name": "stdout",
     "output_type": "stream",
     "text": [
      "19.9 ms ± 742 µs per loop (mean ± std. dev. of 7 runs, 100 loops each)\n"
     ]
    }
   ],
   "source": [
    "%timeit table.search(np.random.randn(16)).limit(10).to_arrow();"
   ]
  },
  {
   "cell_type": "markdown",
   "id": "2cd7063c",
   "metadata": {},
   "source": [
    "### Now let's create an index\n",
    "\n",
    "There are many possible index types ranging from hash based to tree based to partition based to graph based.\n",
    "For this task, we'll create an IVFPQ index (partition-based index with product quantization compression) using LanceDB.\n",
    "\n",
    "Please create an IVFPQ index on the LanceDB table such that each partition is 4000 rows and each PQ subvector is 8D.\n",
    "\n",
    "**HINT** \n",
    "1. Total vectors / number of partitions = number of vectors in each partition\n",
    "2. Total dimensions / number of subvectors = number of dimensions in each subvector"
   ]
  },
  {
   "cell_type": "code",
   "execution_count": 16,
   "id": "dd56c13c",
   "metadata": {},
   "outputs": [
    {
     "name": "stdout",
     "output_type": "stream",
     "text": [
      "Sample 4096 out of 65536 to train kmeans of 16 dim, 16 clusters\n"
     ]
    }
   ],
   "source": [
    "table.create_index(num_partitions=16, num_sub_vectors=8)"
   ]
  },
  {
   "cell_type": "markdown",
   "id": "2d7fd1cf",
   "metadata": {},
   "source": [
    "Now let's search through the data again. Notice how the answers now appear different.\n",
    "This is because an ANN index is always a tradeoff between latency and accuracy."
   ]
  },
  {
   "cell_type": "code",
   "execution_count": 17,
   "id": "fddd7e20",
   "metadata": {},
   "outputs": [
    {
     "data": {
      "text/html": [
       "<div>\n",
       "<style scoped>\n",
       "    .dataframe tbody tr th:only-of-type {\n",
       "        vertical-align: middle;\n",
       "    }\n",
       "\n",
       "    .dataframe tbody tr th {\n",
       "        vertical-align: top;\n",
       "    }\n",
       "\n",
       "    .dataframe thead th {\n",
       "        text-align: right;\n",
       "    }\n",
       "</style>\n",
       "<table border=\"1\" class=\"dataframe\">\n",
       "  <thead>\n",
       "    <tr style=\"text-align: right;\">\n",
       "      <th></th>\n",
       "      <th>vector</th>\n",
       "      <th>_distance</th>\n",
       "    </tr>\n",
       "  </thead>\n",
       "  <tbody>\n",
       "    <tr>\n",
       "      <th>0</th>\n",
       "      <td>[-1.0806783, -0.37886325, -0.43526447, 0.80882...</td>\n",
       "      <td>4.783734</td>\n",
       "    </tr>\n",
       "    <tr>\n",
       "      <th>1</th>\n",
       "      <td>[-0.85893506, -0.82675505, -0.27404046, 0.0690...</td>\n",
       "      <td>4.882057</td>\n",
       "    </tr>\n",
       "    <tr>\n",
       "      <th>2</th>\n",
       "      <td>[0.40637052, -0.6848565, 0.25305176, 0.1160183...</td>\n",
       "      <td>4.941090</td>\n",
       "    </tr>\n",
       "    <tr>\n",
       "      <th>3</th>\n",
       "      <td>[0.4731883, -0.43243143, 0.11517821, 0.5844016...</td>\n",
       "      <td>5.062208</td>\n",
       "    </tr>\n",
       "    <tr>\n",
       "      <th>4</th>\n",
       "      <td>[-0.0692185, 0.09582594, 0.110043034, 0.870683...</td>\n",
       "      <td>5.200292</td>\n",
       "    </tr>\n",
       "    <tr>\n",
       "      <th>5</th>\n",
       "      <td>[-0.13414739, 0.7341682, -0.7966965, 1.3163494...</td>\n",
       "      <td>5.321503</td>\n",
       "    </tr>\n",
       "    <tr>\n",
       "      <th>6</th>\n",
       "      <td>[-0.7834152, 0.22190379, 0.62918437, 0.5440492...</td>\n",
       "      <td>5.378174</td>\n",
       "    </tr>\n",
       "    <tr>\n",
       "      <th>7</th>\n",
       "      <td>[-0.7620548, -0.21515357, -0.18533202, 0.35712...</td>\n",
       "      <td>5.437410</td>\n",
       "    </tr>\n",
       "    <tr>\n",
       "      <th>8</th>\n",
       "      <td>[0.20514311, -0.7195129, 0.083456345, -0.19420...</td>\n",
       "      <td>5.497247</td>\n",
       "    </tr>\n",
       "    <tr>\n",
       "      <th>9</th>\n",
       "      <td>[-0.66275835, -0.77101654, -0.7916006, 0.02394...</td>\n",
       "      <td>5.500407</td>\n",
       "    </tr>\n",
       "  </tbody>\n",
       "</table>\n",
       "</div>"
      ],
      "text/plain": [
       "                                              vector  _distance\n",
       "0  [-1.0806783, -0.37886325, -0.43526447, 0.80882...   4.783734\n",
       "1  [-0.85893506, -0.82675505, -0.27404046, 0.0690...   4.882057\n",
       "2  [0.40637052, -0.6848565, 0.25305176, 0.1160183...   4.941090\n",
       "3  [0.4731883, -0.43243143, 0.11517821, 0.5844016...   5.062208\n",
       "4  [-0.0692185, 0.09582594, 0.110043034, 0.870683...   5.200292\n",
       "5  [-0.13414739, 0.7341682, -0.7966965, 1.3163494...   5.321503\n",
       "6  [-0.7834152, 0.22190379, 0.62918437, 0.5440492...   5.378174\n",
       "7  [-0.7620548, -0.21515357, -0.18533202, 0.35712...   5.437410\n",
       "8  [0.20514311, -0.7195129, 0.083456345, -0.19420...   5.497247\n",
       "9  [-0.66275835, -0.77101654, -0.7916006, 0.02394...   5.500407"
      ]
     },
     "execution_count": 17,
     "metadata": {},
     "output_type": "execute_result"
    }
   ],
   "source": [
    "table.search(query).limit(10).to_df()"
   ]
  },
  {
   "cell_type": "markdown",
   "id": "a484f4e6",
   "metadata": {},
   "source": [
    "Now write code to compute the average latency for querying the same table using the ANN index.\n",
    "\n",
    "**SOLUTION** The index is implementation detail, so it should just be running the same code as above. You should see almost an order of magnitude speed-up. On larger datasets, this performance difference should be even more pronounced."
   ]
  },
  {
   "cell_type": "code",
   "execution_count": 18,
   "id": "160d215a",
   "metadata": {},
   "outputs": [
    {
     "name": "stdout",
     "output_type": "stream",
     "text": [
      "9.51 ms ± 344 µs per loop (mean ± std. dev. of 7 runs, 100 loops each)\n"
     ]
    }
   ],
   "source": [
    "%timeit table.search(np.random.randn(16)).limit(10).to_arrow();"
   ]
  },
  {
   "cell_type": "markdown",
   "id": "2e6cf308",
   "metadata": {},
   "source": [
    "## Deleting rows\n",
    "\n",
    "Like with other kinds of databases, you should be able to remove rows from the table.\n",
    "Let's go back to our tables of cats and dogs"
   ]
  },
  {
   "cell_type": "code",
   "execution_count": 19,
   "id": "a6f6f507",
   "metadata": {},
   "outputs": [],
   "source": [
    "table = db[\"cats_and_dogs\"]"
   ]
  },
  {
   "cell_type": "code",
   "execution_count": 20,
   "id": "d3972a8e",
   "metadata": {},
   "outputs": [
    {
     "data": {
      "text/plain": [
       "4"
      ]
     },
     "execution_count": 20,
     "metadata": {},
     "output_type": "execute_result"
    }
   ],
   "source": [
    "len(table)"
   ]
  },
  {
   "cell_type": "markdown",
   "id": "27b38608",
   "metadata": {},
   "source": [
    "Can you use the `delete` API to remove all of the cats from the table?\n",
    "\n",
    "**HINT** use a SQL like filter string to specify which rows to delete from the table"
   ]
  },
  {
   "cell_type": "code",
   "execution_count": 21,
   "id": "29e09aac",
   "metadata": {
    "scrolled": true
   },
   "outputs": [],
   "source": [
    "table.delete(\"species='cat'\")"
   ]
  },
  {
   "cell_type": "code",
   "execution_count": 22,
   "id": "40893f3f",
   "metadata": {},
   "outputs": [
    {
     "data": {
      "text/plain": [
       "2"
      ]
     },
     "execution_count": 22,
     "metadata": {},
     "output_type": "execute_result"
    }
   ],
   "source": [
    "len(table)"
   ]
  },
  {
   "cell_type": "markdown",
   "id": "48fbabf5",
   "metadata": {
    "jp-MarkdownHeadingCollapsed": true
   },
   "source": [
    "## What if I messed up?\n",
    "\n",
    "Errors is a common occurrence in AI. What's hard about errors in vector search is that oftentimes a bad vector doesn't cause a crash but just creates non-sensical answers. So to be able to rollback the state of the database is very important for debugging and reproducibility"
   ]
  },
  {
   "cell_type": "markdown",
   "id": "ee8032a3",
   "metadata": {},
   "source": [
    "So far we've accumulated 4 actions on the table:\n",
    "1. creation of the table\n",
    "2. added cats\n",
    "3. added dogs\n",
    "4. deleted cats"
   ]
  },
  {
   "cell_type": "markdown",
   "id": "5e85b09c",
   "metadata": {},
   "source": [
    "What if you realized that you should have deleted the dogs instead of the cats?\n",
    "\n",
    "Here we can see the 4 versions that correspond to the 4 actions we've done"
   ]
  },
  {
   "cell_type": "code",
   "execution_count": 23,
   "id": "693d28d1",
   "metadata": {},
   "outputs": [
    {
     "data": {
      "text/plain": [
       "[{'version': 1,\n",
       "  'timestamp': datetime.datetime(2023, 8, 30, 14, 26, 27, 208330),\n",
       "  'metadata': {}},\n",
       " {'version': 2,\n",
       "  'timestamp': datetime.datetime(2023, 8, 30, 14, 26, 27, 236584),\n",
       "  'metadata': {}},\n",
       " {'version': 3,\n",
       "  'timestamp': datetime.datetime(2023, 8, 30, 14, 26, 27, 294913),\n",
       "  'metadata': {}},\n",
       " {'version': 4,\n",
       "  'timestamp': datetime.datetime(2023, 8, 30, 14, 33, 50, 823708),\n",
       "  'metadata': {}}]"
      ]
     },
     "execution_count": 23,
     "metadata": {},
     "output_type": "execute_result"
    }
   ],
   "source": [
    "table.list_versions()"
   ]
  },
  {
   "cell_type": "markdown",
   "id": "1c749c8b",
   "metadata": {},
   "source": [
    "Please write code to restore the version still containing the whole dataset"
   ]
  },
  {
   "cell_type": "code",
   "execution_count": 24,
   "id": "d34780bb",
   "metadata": {},
   "outputs": [],
   "source": [
    "table = db[\"cats_and_dogs\"]"
   ]
  },
  {
   "cell_type": "code",
   "execution_count": 25,
   "id": "2fb71d94",
   "metadata": {},
   "outputs": [
    {
     "data": {
      "text/plain": [
       "2"
      ]
     },
     "execution_count": 25,
     "metadata": {},
     "output_type": "execute_result"
    }
   ],
   "source": [
    "len(table)"
   ]
  },
  {
   "cell_type": "code",
   "execution_count": 26,
   "id": "c17faf84",
   "metadata": {},
   "outputs": [],
   "source": [
    "table.restore(3)"
   ]
  },
  {
   "cell_type": "code",
   "execution_count": 27,
   "id": "45e405a3",
   "metadata": {},
   "outputs": [],
   "source": [
    "table.delete(\"species='dog'\")"
   ]
  },
  {
   "cell_type": "code",
   "execution_count": 28,
   "id": "b9c4ce6f",
   "metadata": {
    "scrolled": true
   },
   "outputs": [
    {
     "data": {
      "text/plain": [
       "[{'version': 1,\n",
       "  'timestamp': datetime.datetime(2023, 8, 30, 14, 26, 27, 208330),\n",
       "  'metadata': {}},\n",
       " {'version': 2,\n",
       "  'timestamp': datetime.datetime(2023, 8, 30, 14, 26, 27, 236584),\n",
       "  'metadata': {}},\n",
       " {'version': 3,\n",
       "  'timestamp': datetime.datetime(2023, 8, 30, 14, 26, 27, 294913),\n",
       "  'metadata': {}},\n",
       " {'version': 4,\n",
       "  'timestamp': datetime.datetime(2023, 8, 30, 14, 33, 50, 823708),\n",
       "  'metadata': {}},\n",
       " {'version': 5,\n",
       "  'timestamp': datetime.datetime(2023, 8, 30, 14, 33, 50, 861895),\n",
       "  'metadata': {}},\n",
       " {'version': 6,\n",
       "  'timestamp': datetime.datetime(2023, 8, 30, 14, 33, 50, 903319),\n",
       "  'metadata': {}}]"
      ]
     },
     "execution_count": 28,
     "metadata": {},
     "output_type": "execute_result"
    }
   ],
   "source": [
    "table.list_versions()"
   ]
  },
  {
   "cell_type": "code",
   "execution_count": 29,
   "id": "a3bb1fa0",
   "metadata": {},
   "outputs": [
    {
     "data": {
      "text/html": [
       "<div>\n",
       "<style scoped>\n",
       "    .dataframe tbody tr th:only-of-type {\n",
       "        vertical-align: middle;\n",
       "    }\n",
       "\n",
       "    .dataframe tbody tr th {\n",
       "        vertical-align: top;\n",
       "    }\n",
       "\n",
       "    .dataframe thead th {\n",
       "        text-align: right;\n",
       "    }\n",
       "</style>\n",
       "<table border=\"1\" class=\"dataframe\">\n",
       "  <thead>\n",
       "    <tr style=\"text-align: right;\">\n",
       "      <th></th>\n",
       "      <th>vector</th>\n",
       "      <th>species</th>\n",
       "      <th>breed</th>\n",
       "      <th>weight</th>\n",
       "    </tr>\n",
       "  </thead>\n",
       "  <tbody>\n",
       "    <tr>\n",
       "      <th>0</th>\n",
       "      <td>[1.0, 0.0]</td>\n",
       "      <td>cat</td>\n",
       "      <td>shorthair</td>\n",
       "      <td>12.0</td>\n",
       "    </tr>\n",
       "    <tr>\n",
       "      <th>1</th>\n",
       "      <td>[-1.0, 0.0]</td>\n",
       "      <td>cat</td>\n",
       "      <td>himalayan</td>\n",
       "      <td>9.5</td>\n",
       "    </tr>\n",
       "  </tbody>\n",
       "</table>\n",
       "</div>"
      ],
      "text/plain": [
       "        vector species      breed  weight\n",
       "0   [1.0, 0.0]     cat  shorthair    12.0\n",
       "1  [-1.0, 0.0]     cat  himalayan     9.5"
      ]
     },
     "execution_count": 29,
     "metadata": {},
     "output_type": "execute_result"
    }
   ],
   "source": [
    "table.to_pandas()"
   ]
  },
  {
   "cell_type": "markdown",
   "id": "81672a29",
   "metadata": {},
   "source": [
    "## Dropping a table\n",
    "\n",
    "You can also choose to drop a table, which also completely removes the data.\n",
    "Note that this operation is not reversible."
   ]
  },
  {
   "cell_type": "code",
   "execution_count": 30,
   "id": "d84db57d",
   "metadata": {},
   "outputs": [
    {
     "data": {
      "text/plain": [
       "True"
      ]
     },
     "execution_count": 30,
     "metadata": {},
     "output_type": "execute_result"
    }
   ],
   "source": [
    "\"cats_and_dogs\" in db"
   ]
  },
  {
   "cell_type": "markdown",
   "id": "b70b747b",
   "metadata": {},
   "source": [
    "Write code to irrevocably remove the table \"cats_and_dogs\" from the database"
   ]
  },
  {
   "cell_type": "code",
   "execution_count": 31,
   "id": "f82fd78e",
   "metadata": {},
   "outputs": [],
   "source": [
    "db.drop_table(\"cats_and_dogs\")"
   ]
  },
  {
   "cell_type": "markdown",
   "id": "68e6e3e7",
   "metadata": {},
   "source": [
    "How would you verify that the table has indeed been deleted?"
   ]
  },
  {
   "cell_type": "code",
   "execution_count": 32,
   "id": "6571ec86",
   "metadata": {
    "scrolled": true
   },
   "outputs": [
    {
     "data": {
      "text/plain": [
       "False"
      ]
     },
     "execution_count": 32,
     "metadata": {},
     "output_type": "execute_result"
    }
   ],
   "source": [
    "table.name in db"
   ]
  },
  {
   "cell_type": "markdown",
   "id": "b4a11ebf",
   "metadata": {},
   "source": [
    "## Summary\n",
    "\n",
    "Congrats, in this exercise you've learned the basic operations of vector databases from creating tables, to adding data, and to querying the data. You've learned how to create indices and you saw first hand how it changes the performance and the accuracy. Lastly, you've learned how to debug and rollback when errors happen."
   ]
  },
  {
   "cell_type": "code",
   "execution_count": null,
   "id": "28cd2022",
   "metadata": {},
   "outputs": [],
   "source": []
  },
  {
   "cell_type": "code",
   "execution_count": null,
   "id": "f643aa9a-91e4-45a3-8cd8-d75e39f15236",
   "metadata": {},
   "outputs": [],
   "source": []
  }
 ],
 "metadata": {
  "kernelspec": {
   "display_name": "Python 3 (ipykernel)",
   "language": "python",
   "name": "python3"
  },
  "language_info": {
   "codemirror_mode": {
    "name": "ipython",
    "version": 3
   },
   "file_extension": ".py",
   "mimetype": "text/x-python",
   "name": "python",
   "nbconvert_exporter": "python",
   "pygments_lexer": "ipython3",
   "version": "3.10.12"
  }
 },
 "nbformat": 4,
 "nbformat_minor": 5
}
