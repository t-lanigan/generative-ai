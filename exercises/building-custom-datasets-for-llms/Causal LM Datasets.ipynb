{
 "cells": [
  {
   "cell_type": "code",
   "execution_count": 1,
   "id": "3117587f",
   "metadata": {},
   "outputs": [],
   "source": [
    "from datasets import Dataset, load_dataset\n",
    "from transformers import AutoTokenizer, AutoModelForCausalLM, TrainingArguments, Trainer, DataCollatorForLanguageModeling\n",
    "from itertools import chain\n",
    "import pandas as pd\n",
    "from pathlib import Path"
   ]
  },
  {
   "cell_type": "code",
   "execution_count": 2,
   "id": "02442164",
   "metadata": {},
   "outputs": [
    {
     "name": "stdout",
     "output_type": "stream",
     "text": [
      "CVE-2020-29583.txt  xss.txt\r\n"
     ]
    }
   ],
   "source": [
    "# Our data is located in the /data directory. Let's see what we're working with.\n",
    "!ls ./data"
   ]
  },
  {
   "cell_type": "code",
   "execution_count": 3,
   "id": "71e37a19",
   "metadata": {},
   "outputs": [],
   "source": [
    "# Load the file names into a list\n",
    "data_path = Path(\"./data\")\n",
    "file_paths = [filename for filename in data_path.glob(\"*.txt\")]"
   ]
  },
  {
   "cell_type": "code",
   "execution_count": 4,
   "id": "c3414af0",
   "metadata": {},
   "outputs": [],
   "source": [
    "# Read all the file contents into a list\n",
    "file_data = list()\n",
    "for filename in file_paths:\n",
    "    with open(filename, \"r\") as f:\n",
    "        data = f.read()\n",
    "    file_data.append(data)"
   ]
  },
  {
   "cell_type": "code",
   "execution_count": 5,
   "id": "a651a221",
   "metadata": {},
   "outputs": [
    {
     "name": "stdout",
     "output_type": "stream",
     "text": [
      "A Community-Developed List of Software & Hardware Weakness Types Cross-site scripting (XSS) vulnerabilities occur when:  There are three main kinds of XSS:  Once the malicious script is injected, the attacker can perform a variety of malicious activities. The attacker could transfer private information, such as cookies that may include session information, from the victim's machine to the attacker. The attacker could send malicious requests to a web site on behalf of the victim, which could be especially dangerous to the site if the victim has administrator privileges to manage that site. Phishing attacks could be used to emulate trusted web sites and trick the victim into entering a password, allowing the attacker to compromise the victim's account on that web site. Finally, the script could exploit a vulnerability in the web browser itself possibly taking over the victim's machine, sometimes referred to as \"drive-by hacking.\"  In many cases, the attack can be launched without the victim even being aware of it. Even with careful users, attackers frequently use a variety of methods to encode the malicious portion of the attack, such as URL encoding or Unicode, so the request looks less suspicious.  The same origin policy states that browsers should limit the resources accessible to scripts running on a given web site, or \"origin\", to the resources associated with that web site on the client-side, and not the client-side resources of any other sites or \"origins\". The goal is to prevent one site from being able to modify or read the contents of an unrelated site. Since the World Wide Web involves interactions between many sites, this policy is important for browsers to enforce. The Domain of a website when referring to XSS is roughly equivalent to the resources associated with that website on the client-side of the connection. That is, the domain can be thought of as all resources the browser is storing for the user's interactions with this particular site. Languages  Class: Language-Independent  (Undetermined Prevalence) Technologies  Class: Web Based  (Often Prevalent) Technical Impact:  Bypass Protection Mechanism; Read Application Data Technical Impact:  Execute Unauthorized Code or Commands Technical Impact:  Execute Unauthorized Code or Commands; Bypass Protection Mechanism; Read Application Data Example 1 This code displays a welcome message on a web page based on the HTTP GET username parameter. This example covers a Reflected XSS (Type 1) scenario. Because the parameter can be arbitrary, the url of the page could be modified so $username contains scripting syntax, such as This results in a harmless alert dialog popping up. Initially this might not appear to be much of a vulnerability. After all, why would someone enter a URL that causes malicious code to run on their own computer? The real danger is that an attacker will create the malicious URL, then use e-mail or social engineering tricks to lure victims into visiting a link to the URL. When victims click the link, they unwittingly reflect the malicious content through the vulnerable web application back to their own computers. More realistically, the attacker can embed a fake login box on the page, tricking the user into sending the user's password to the attacker: If a user clicks on this link then Welcome.php will generate the following HTML and send it to the user's browser: The trustworthy domain of the URL may falsely assure the user that it is OK to follow the link. However, an astute user may notice the suspicious text appended to the URL. An attacker may further obfuscate the URL (the following example links are broken into multiple lines for readability): The same attack string could also be obfuscated as: Both of these attack links will result in the fake login box appearing on the page, and users are more likely to ignore indecipherable text at the end of URLs. Example 2 This example also displays a Reflected XSS (Type 1) scenario. The following JSP code segment reads an employee ID, eid, from an HTTP request and displays it to the user. The following ASP.NET code segment reads an employee ID number from an HTTP request and displays it to the user. The code in this example operates correctly if the Employee ID variable contains only standard alphanumeric text. If it has a value that includes meta-characters or source code, then the code will be executed by the web browser as it displays the HTTP response. Example 3 This example covers a Stored XSS (Type 2) scenario. The following JSP code segment queries a database for an employee with a given ID and prints the corresponding employee's name. The following ASP.NET code segment queries a database for an employee with a given employee ID and prints the name corresponding with the ID. This code can appear less dangerous because the value of name is read from a database, whose contents are apparently managed by the application. However, if the value of name originates from user-supplied data, then the database can be a conduit for malicious content. Without proper input validation on all data stored in the database, an attacker can execute malicious commands in the user's web browser. Example 4 The following example consists of two separate pages in a web application, one devoted to creating user accounts and another devoted to listing active users currently logged in. It also displays a Stored XSS (Type 2) scenario. CreateUser.php The code is careful to avoid a SQL injection attack ( CWE-89 ) but does not stop valid HTML from being stored in the database. This can be exploited later when ListUsers.php retrieves the information:  ListUsers.php The attacker can set their name to be arbitrary HTML, which will then be displayed to all visitors of the Active Users page. This HTML can, for example, be a password stealing Login message. Example 5 Consider an application that provides a simplistic message board that saves messages in HTML format and appends them to a file.  When a new user arrives in the room, it makes an announcement: An attacker may be able to perform an HTML injection (Type 2 XSS) attack by setting a cookie to a value like: The raw contents of the message file would look like: For each person who visits the message page, their browser would execute the script, generating a pop-up window that says \"Hacked\". More malicious attacks are possible; see the rest of this entry. Phase:  Architecture and Design Strategy:  Libraries or Frameworks Phases:  Implementation; Architecture and Design Phases:  Architecture and Design; Implementation Strategy:  Attack Surface Reduction Effectiveness: Limited Phase:  Architecture and Design Phase:  Architecture and Design Strategy:  Parameterization Phase:  Implementation Strategy:  Output Encoding Phase:  Implementation Phase:  Implementation Strategy:  Attack Surface Reduction Effectiveness: Defense in Depth Phase:  Implementation Strategy:  Input Validation Phase:  Architecture and Design Strategy:  Enforcement by Conversion Phase:  Operation Strategy:  Firewall Effectiveness: Moderate Phases:  Operation; Implementation Strategy:  Environment Hardening  Automated Static Analysis Effectiveness: Moderate  Black Box Effectiveness: Moderate Applicable Platform XSS flaws are very common in web applications, since they require a great deal of developer discipline to avoid them. Relationship There can be a close relationship between XSS and CSRF ( CWE-352 ). An attacker might use CSRF in order to trick the victim into submitting requests to the server in which the requests contain an XSS payload. A well-known example of this was the Samy worm on MySpace [ REF-956 ]. The worm used XSS to insert malicious HTML sequences into a user's profile and add the attacker as a MySpace friend. MySpace friends of that victim would then execute the payload to modify their own profiles, causing the worm to propagate exponentially. Since the victims did not intentionally insert the malicious script themselves, CSRF was a root cause.  Use of the Common Weakness Enumeration (CWE) and the associated references from this website are subject to the  Terms of Use . CWE is sponsored by the  U.S. Department of Homeland Security  (DHS)  Cybersecurity and Infrastructure Security Agency  (CISA) and managed by the  Homeland Security Systems Engineering and Development Institute  (HSSEDI) which is operated by  The MITRE Corporation  (MITRE). Copyright © 2006-2021, The MITRE Corporation. CWE, CWSS, CWRAF, and the CWE logo are trademarks of The MITRE Corporation.\n",
      "=====================\n",
      "CVE:   CVE-2020-29583 Summary Zyxel has released a patch for the hardcoded credential vulnerability of firewalls and AP controllers recently reported by researchers from EYE Netherlands. Users are advised to install the applicable firmware updates for optimal protection. What is the vulnerability? A hardcoded credential vulnerability was identified in the “zyfwp” user account in some Zyxel firewalls and AP controllers. The account was designed to deliver automatic firmware updates to connected access points through FTP. What versions are vulnerable—and what should you do? After a thorough investigation, we’ve identified the vulnerable products and are releasing firmware patches to address the issue, as shown in the table below. For optimal protection, we urge users to install the applicable updates. For those not listed, they are not affected. Contact your local Zyxel support team if you require further assistance or visit our  forum  for more information. Got a question or a tipoff? Please contact your local service rep for further information or assistance. If you’ve found a vulnerability, we want to work with you to fix it—contact  security@zyxel.com.tw  and we’ll get right back to you. Acknowledgment Thanks to Niels Teusink at EYE for reporting the issue to us. Revision history 2020-12-23: Initial release 2020-12-24: Updated the acknowledgement section 2021-01-04: Updated the patch schedule for AP controllers 2021-01-08: Added the forum link\n"
     ]
    }
   ],
   "source": [
    "print(file_data[0])\n",
    "print('=====================')\n",
    "print(file_data[1])"
   ]
  },
  {
   "cell_type": "code",
   "execution_count": 6,
   "id": "b0af5e5c",
   "metadata": {},
   "outputs": [],
   "source": [
    "# Convert our list of text into a dataset using .from_dict()\n",
    "dataset = Dataset.from_dict({\"text\": file_data})"
   ]
  },
  {
   "cell_type": "code",
   "execution_count": 7,
   "id": "ef19d200",
   "metadata": {},
   "outputs": [
    {
     "data": {
      "text/plain": [
       "['A Community-Developed List of Software & Hardware Weakness Types Cross-site scripting (XSS) vulnerabilities occur when:  There are three main kinds of XSS:  Once the malicious script is injected, the attacker can perform a variety of malicious activities. The attacker could transfer private information, such as cookies that may include session information, from the victim\\'s machine to the attacker. The attacker could send malicious requests to a web site on behalf of the victim, which could be especially dangerous to the site if the victim has administrator privileges to manage that site. Phishing attacks could be used to emulate trusted web sites and trick the victim into entering a password, allowing the attacker to compromise the victim\\'s account on that web site. Finally, the script could exploit a vulnerability in the web browser itself possibly taking over the victim\\'s machine, sometimes referred to as \"drive-by hacking.\"  In many cases, the attack can be launched without the victim even being aware of it. Even with careful users, attackers frequently use a variety of methods to encode the malicious portion of the attack, such as URL encoding or Unicode, so the request looks less suspicious.  The same origin policy states that browsers should limit the resources accessible to scripts running on a given web site, or \"origin\", to the resources associated with that web site on the client-side, and not the client-side resources of any other sites or \"origins\". The goal is to prevent one site from being able to modify or read the contents of an unrelated site. Since the World Wide Web involves interactions between many sites, this policy is important for browsers to enforce. The Domain of a website when referring to XSS is roughly equivalent to the resources associated with that website on the client-side of the connection. That is, the domain can be thought of as all resources the browser is storing for the user\\'s interactions with this particular site. Languages  Class: Language-Independent  (Undetermined Prevalence) Technologies  Class: Web Based  (Often Prevalent) Technical Impact:  Bypass Protection Mechanism; Read Application Data Technical Impact:  Execute Unauthorized Code or Commands Technical Impact:  Execute Unauthorized Code or Commands; Bypass Protection Mechanism; Read Application Data Example 1 This code displays a welcome message on a web page based on the HTTP GET username parameter. This example covers a Reflected XSS (Type 1) scenario. Because the parameter can be arbitrary, the url of the page could be modified so $username contains scripting syntax, such as This results in a harmless alert dialog popping up. Initially this might not appear to be much of a vulnerability. After all, why would someone enter a URL that causes malicious code to run on their own computer? The real danger is that an attacker will create the malicious URL, then use e-mail or social engineering tricks to lure victims into visiting a link to the URL. When victims click the link, they unwittingly reflect the malicious content through the vulnerable web application back to their own computers. More realistically, the attacker can embed a fake login box on the page, tricking the user into sending the user\\'s password to the attacker: If a user clicks on this link then Welcome.php will generate the following HTML and send it to the user\\'s browser: The trustworthy domain of the URL may falsely assure the user that it is OK to follow the link. However, an astute user may notice the suspicious text appended to the URL. An attacker may further obfuscate the URL (the following example links are broken into multiple lines for readability): The same attack string could also be obfuscated as: Both of these attack links will result in the fake login box appearing on the page, and users are more likely to ignore indecipherable text at the end of URLs. Example 2 This example also displays a Reflected XSS (Type 1) scenario. The following JSP code segment reads an employee ID, eid, from an HTTP request and displays it to the user. The following ASP.NET code segment reads an employee ID number from an HTTP request and displays it to the user. The code in this example operates correctly if the Employee ID variable contains only standard alphanumeric text. If it has a value that includes meta-characters or source code, then the code will be executed by the web browser as it displays the HTTP response. Example 3 This example covers a Stored XSS (Type 2) scenario. The following JSP code segment queries a database for an employee with a given ID and prints the corresponding employee\\'s name. The following ASP.NET code segment queries a database for an employee with a given employee ID and prints the name corresponding with the ID. This code can appear less dangerous because the value of name is read from a database, whose contents are apparently managed by the application. However, if the value of name originates from user-supplied data, then the database can be a conduit for malicious content. Without proper input validation on all data stored in the database, an attacker can execute malicious commands in the user\\'s web browser. Example 4 The following example consists of two separate pages in a web application, one devoted to creating user accounts and another devoted to listing active users currently logged in. It also displays a Stored XSS (Type 2) scenario. CreateUser.php The code is careful to avoid a SQL injection attack ( CWE-89 ) but does not stop valid HTML from being stored in the database. This can be exploited later when ListUsers.php retrieves the information:  ListUsers.php The attacker can set their name to be arbitrary HTML, which will then be displayed to all visitors of the Active Users page. This HTML can, for example, be a password stealing Login message. Example 5 Consider an application that provides a simplistic message board that saves messages in HTML format and appends them to a file.  When a new user arrives in the room, it makes an announcement: An attacker may be able to perform an HTML injection (Type 2 XSS) attack by setting a cookie to a value like: The raw contents of the message file would look like: For each person who visits the message page, their browser would execute the script, generating a pop-up window that says \"Hacked\". More malicious attacks are possible; see the rest of this entry. Phase:  Architecture and Design Strategy:  Libraries or Frameworks Phases:  Implementation; Architecture and Design Phases:  Architecture and Design; Implementation Strategy:  Attack Surface Reduction Effectiveness: Limited Phase:  Architecture and Design Phase:  Architecture and Design Strategy:  Parameterization Phase:  Implementation Strategy:  Output Encoding Phase:  Implementation Phase:  Implementation Strategy:  Attack Surface Reduction Effectiveness: Defense in Depth Phase:  Implementation Strategy:  Input Validation Phase:  Architecture and Design Strategy:  Enforcement by Conversion Phase:  Operation Strategy:  Firewall Effectiveness: Moderate Phases:  Operation; Implementation Strategy:  Environment Hardening  Automated Static Analysis Effectiveness: Moderate  Black Box Effectiveness: Moderate Applicable Platform XSS flaws are very common in web applications, since they require a great deal of developer discipline to avoid them. Relationship There can be a close relationship between XSS and CSRF ( CWE-352 ). An attacker might use CSRF in order to trick the victim into submitting requests to the server in which the requests contain an XSS payload. A well-known example of this was the Samy worm on MySpace [ REF-956 ]. The worm used XSS to insert malicious HTML sequences into a user\\'s profile and add the attacker as a MySpace friend. MySpace friends of that victim would then execute the payload to modify their own profiles, causing the worm to propagate exponentially. Since the victims did not intentionally insert the malicious script themselves, CSRF was a root cause.  Use of the Common Weakness Enumeration (CWE) and the associated references from this website are subject to the  Terms of Use . CWE is sponsored by the  U.S. Department of Homeland Security  (DHS)  Cybersecurity and Infrastructure Security Agency  (CISA) and managed by the  Homeland Security Systems Engineering and Development Institute  (HSSEDI) which is operated by  The MITRE Corporation  (MITRE). Copyright © 2006-2021, The MITRE Corporation. CWE, CWSS, CWRAF, and the CWE logo are trademarks of The MITRE Corporation.',\n",
       " 'CVE:   CVE-2020-29583 Summary Zyxel has released a patch for the hardcoded credential vulnerability of firewalls and AP controllers recently reported by researchers from EYE Netherlands. Users are advised to install the applicable firmware updates for optimal protection. What is the vulnerability? A hardcoded credential vulnerability was identified in the “zyfwp” user account in some Zyxel firewalls and AP controllers. The account was designed to deliver automatic firmware updates to connected access points through FTP. What versions are vulnerable—and what should you do? After a thorough investigation, we’ve identified the vulnerable products and are releasing firmware patches to address the issue, as shown in the table below. For optimal protection, we urge users to install the applicable updates. For those not listed, they are not affected. Contact your local Zyxel support team if you require further assistance or visit our  forum  for more information. Got a question or a tipoff? Please contact your local service rep for further information or assistance. If you’ve found a vulnerability, we want to work with you to fix it—contact  security@zyxel.com.tw  and we’ll get right back to you. Acknowledgment Thanks to Niels Teusink at EYE for reporting the issue to us. Revision history 2020-12-23: Initial release 2020-12-24: Updated the acknowledgement section 2021-01-04: Updated the patch schedule for AP controllers 2021-01-08: Added the forum link']"
      ]
     },
     "execution_count": 7,
     "metadata": {},
     "output_type": "execute_result"
    }
   ],
   "source": [
    "# Preview the dataset\n",
    "dataset[\"text\"]"
   ]
  },
  {
   "cell_type": "code",
   "execution_count": 8,
   "id": "f2fff9d9",
   "metadata": {},
   "outputs": [
    {
     "data": {
      "application/vnd.jupyter.widget-view+json": {
       "model_id": "779a0f9b57b74ce291b44737c98f27cf",
       "version_major": 2,
       "version_minor": 0
      },
      "text/plain": [
       "Downloading (…)lve/main/config.json:   0%|          | 0.00/665 [00:00<?, ?B/s]"
      ]
     },
     "metadata": {},
     "output_type": "display_data"
    },
    {
     "data": {
      "application/vnd.jupyter.widget-view+json": {
       "model_id": "6b14a410db1e4908979ddf121d2a0f3d",
       "version_major": 2,
       "version_minor": 0
      },
      "text/plain": [
       "Downloading (…)olve/main/vocab.json:   0%|          | 0.00/1.04M [00:00<?, ?B/s]"
      ]
     },
     "metadata": {},
     "output_type": "display_data"
    },
    {
     "data": {
      "application/vnd.jupyter.widget-view+json": {
       "model_id": "2f49e4aceadc46e791ad7fe90d091bfc",
       "version_major": 2,
       "version_minor": 0
      },
      "text/plain": [
       "Downloading (…)olve/main/merges.txt:   0%|          | 0.00/456k [00:00<?, ?B/s]"
      ]
     },
     "metadata": {},
     "output_type": "display_data"
    },
    {
     "data": {
      "application/vnd.jupyter.widget-view+json": {
       "model_id": "8c4fccae40c54125964f9781ba4be297",
       "version_major": 2,
       "version_minor": 0
      },
      "text/plain": [
       "Downloading (…)/main/tokenizer.json:   0%|          | 0.00/1.36M [00:00<?, ?B/s]"
      ]
     },
     "metadata": {},
     "output_type": "display_data"
    },
    {
     "data": {
      "application/vnd.jupyter.widget-view+json": {
       "model_id": "0802ebc1abda456481295b65390a36c1",
       "version_major": 2,
       "version_minor": 0
      },
      "text/plain": [
       "Downloading pytorch_model.bin:   0%|          | 0.00/548M [00:00<?, ?B/s]"
      ]
     },
     "metadata": {},
     "output_type": "display_data"
    },
    {
     "data": {
      "application/vnd.jupyter.widget-view+json": {
       "model_id": "a1fe16591423461c9fade9296bbf8264",
       "version_major": 2,
       "version_minor": 0
      },
      "text/plain": [
       "Downloading (…)neration_config.json:   0%|          | 0.00/124 [00:00<?, ?B/s]"
      ]
     },
     "metadata": {},
     "output_type": "display_data"
    }
   ],
   "source": [
    "# Load the tokenizer for GPT-2\n",
    "tokenizer = AutoTokenizer.from_pretrained('gpt2')\n",
    "\n",
    "# The tokenizer does not have a pad token, so we'll specify one.\n",
    "tokenizer.pad_token = tokenizer.eos_token\n",
    "\n",
    "# Load the GPT-2 model\n",
    "model = AutoModelForCausalLM.from_pretrained('gpt2')"
   ]
  },
  {
   "cell_type": "code",
   "execution_count": 9,
   "id": "82db6970",
   "metadata": {},
   "outputs": [
    {
     "data": {
      "application/vnd.jupyter.widget-view+json": {
       "model_id": "",
       "version_major": 2,
       "version_minor": 0
      },
      "text/plain": [
       "Map:   0%|          | 0/2 [00:00<?, ? examples/s]"
      ]
     },
     "metadata": {},
     "output_type": "display_data"
    },
    {
     "name": "stderr",
     "output_type": "stream",
     "text": [
      "Token indices sequence length is longer than the specified maximum sequence length for this model (1734 > 1024). Running this sequence through the model will result in indexing errors\n"
     ]
    }
   ],
   "source": [
    "# Create a tokenization function to tokenize the dataset\n",
    "def tokenize_function(examples):\n",
    "    output = tokenizer(examples['text'])\n",
    "    return output\n",
    "\n",
    "# Run the tokenizer over our dataset using the .map method \n",
    "# NOTE: For large datasets, this can take a while\n",
    "tokenized_dataset = dataset.map(tokenize_function, batched=True)\n",
    "\n",
    "# We want to remove our original dataset's column names from the tokenized dataset\n",
    "tokenized_dataset = tokenized_dataset.remove_columns(dataset.column_names)"
   ]
  },
  {
   "cell_type": "code",
   "execution_count": 10,
   "id": "f6557278",
   "metadata": {},
   "outputs": [
    {
     "data": {
      "text/plain": [
       "Dataset({\n",
       "    features: ['input_ids', 'attention_mask'],\n",
       "    num_rows: 2\n",
       "})"
      ]
     },
     "execution_count": 10,
     "metadata": {},
     "output_type": "execute_result"
    }
   ],
   "source": [
    "tokenized_dataset"
   ]
  },
  {
   "cell_type": "code",
   "execution_count": 11,
   "id": "a325f9b9",
   "metadata": {},
   "outputs": [],
   "source": [
    "# This function was lightly modified from the HuggingFace run_clm.py\n",
    "# You can find the original function at https://github.com/huggingface/transformers/blob/main/examples/pytorch/language-modeling/run_clm.py\n",
    "# Create a preprocessing function to group aour texts together in chunks of 1024\n",
    "def group_texts(examples):\n",
    "    # Specify our bock size -- 1024\n",
    "    block_size = 1024\n",
    "    \n",
    "    # Concatenate all the texts together for each example\n",
    "    concatenated_examples = dict()\n",
    "    for k in examples.keys():\n",
    "        concatenated_examples[k] = list(chain(*examples[k]))\n",
    "        \n",
    "    # Compute the total length of all the text\n",
    "    total_length = len(concatenated_examples[list(examples.keys())[0]])\n",
    "    \n",
    "    # We drop the small remainder of the block\n",
    "    # If total_length < block_size, we return an empty dict.\n",
    "    total_length = (total_length // block_size) * block_size\n",
    "    \n",
    "    # Split into chunks of 1024\n",
    "    result = dict()\n",
    "    # Loop over the keys and texts in the concatenated examples\n",
    "    for k, t in concatenated_examples.items():\n",
    "        # Divide each text into chunks of 1024\n",
    "        chunks = list()\n",
    "        for i in range(0, total_length, block_size):\n",
    "            chunks.append(t[i : i + block_size])\n",
    "        result[k] = chunks\n",
    "    # Set the \"labels\" equal to the \"input_ids\"\n",
    "    result[\"labels\"] = result[\"input_ids\"].copy()\n",
    "    return result"
   ]
  },
  {
   "cell_type": "code",
   "execution_count": 12,
   "id": "ab114c95",
   "metadata": {},
   "outputs": [
    {
     "data": {
      "application/vnd.jupyter.widget-view+json": {
       "model_id": "",
       "version_major": 2,
       "version_minor": 0
      },
      "text/plain": [
       "Map:   0%|          | 0/2 [00:00<?, ? examples/s]"
      ]
     },
     "metadata": {},
     "output_type": "display_data"
    }
   ],
   "source": [
    "# Chunk our datasets using the group_texts function\n",
    "dataset = tokenized_dataset.map(group_texts, batched=True)"
   ]
  },
  {
   "cell_type": "code",
   "execution_count": 13,
   "id": "e79c2ed9",
   "metadata": {},
   "outputs": [],
   "source": [
    "# Set up our data collator for training. Since our model is PyTorch, we need to specify return_tensors as \"pt\"\n",
    "data_collator = DataCollatorForLanguageModeling(tokenizer=tokenizer, mlm=False, return_tensors=\"pt\")"
   ]
  },
  {
   "cell_type": "code",
   "execution_count": 14,
   "id": "33ec2cd3",
   "metadata": {},
   "outputs": [],
   "source": [
    "# Establish our training arguments\n",
    "training_args = TrainingArguments(\n",
    "    output_dir=\"finetune_gpt2\"\n",
    ")"
   ]
  },
  {
   "cell_type": "code",
   "execution_count": 15,
   "id": "2076acb8",
   "metadata": {},
   "outputs": [],
   "source": [
    "# Put everything into our Trainer\n",
    "trainer = Trainer(\n",
    "    model=model,\n",
    "    args=training_args,\n",
    "    train_dataset=dataset,\n",
    "    data_collator=data_collator\n",
    ")"
   ]
  },
  {
   "cell_type": "code",
   "execution_count": 16,
   "id": "32dd425c",
   "metadata": {},
   "outputs": [
    {
     "name": "stderr",
     "output_type": "stream",
     "text": [
      "/opt/venv/lib/python3.10/site-packages/transformers/optimization.py:391: FutureWarning: This implementation of AdamW is deprecated and will be removed in a future version. Use the PyTorch implementation torch.optim.AdamW instead, or set `no_deprecation_warning=True` to disable this warning\n",
      "  warnings.warn(\n",
      "You're using a GPT2TokenizerFast tokenizer. Please note that with a fast tokenizer, using the `__call__` method is faster than using a method to encode the text followed by a call to the `pad` method to get a padded encoding.\n"
     ]
    },
    {
     "data": {
      "text/html": [
       "\n",
       "    <div>\n",
       "      \n",
       "      <progress value='3' max='3' style='width:300px; height:20px; vertical-align: middle;'></progress>\n",
       "      [3/3 00:45, Epoch 3/3]\n",
       "    </div>\n",
       "    <table border=\"1\" class=\"dataframe\">\n",
       "  <thead>\n",
       " <tr style=\"text-align: left;\">\n",
       "      <th>Step</th>\n",
       "      <th>Training Loss</th>\n",
       "    </tr>\n",
       "  </thead>\n",
       "  <tbody>\n",
       "  </tbody>\n",
       "</table><p>"
      ],
      "text/plain": [
       "<IPython.core.display.HTML object>"
      ]
     },
     "metadata": {},
     "output_type": "display_data"
    },
    {
     "data": {
      "text/plain": [
       "TrainOutput(global_step=3, training_loss=3.286179224650065, metrics={'train_runtime': 69.9297, 'train_samples_per_second': 0.086, 'train_steps_per_second': 0.043, 'total_flos': 3135504384000.0, 'train_loss': 3.286179224650065, 'epoch': 3.0})"
      ]
     },
     "execution_count": 16,
     "metadata": {},
     "output_type": "execute_result"
    }
   ],
   "source": [
    "# Run the trainer\n",
    "trainer.train()"
   ]
  },
  {
   "cell_type": "code",
   "execution_count": 17,
   "id": "ca9833cb",
   "metadata": {},
   "outputs": [
    {
     "name": "stderr",
     "output_type": "stream",
     "text": [
      "The attention mask and the pad token id were not set. As a consequence, you may observe unexpected behavior. Please pass your input's `attention_mask` to obtain reliable results.\n",
      "Setting `pad_token_id` to `eos_token_id`:50256 for open-end generation.\n",
      "/opt/venv/lib/python3.10/site-packages/transformers/generation/utils.py:1313: UserWarning: Using `max_length`'s default (20) to control the generation length. This behaviour is deprecated and will be removed from the config in v5 of Transformers -- we recommend using `max_new_tokens` to control the maximum length of the generation.\n",
      "  warnings.warn(\n"
     ]
    },
    {
     "name": "stdout",
     "output_type": "stream",
     "text": [
      "Cross-Site Scripting is a vulnerability that allows remote attackers to execute arbitrary code, such as by\n"
     ]
    }
   ],
   "source": [
    "# Specify an input string\n",
    "input_string = \"Cross-Site Scripting is a vulnerability that\"\n",
    "\n",
    "# Tokenize our input string\n",
    "input_ids = tokenizer(input_string, return_tensors=\"pt\").input_ids\n",
    "\n",
    "# Generate model output_ids\n",
    "outputs = model.generate(\n",
    "    input_ids,\n",
    "    num_beams=10,\n",
    "    num_return_sequences=1,\n",
    "    no_repeat_ngram_size=1,\n",
    "    remove_invalid_values=True,\n",
    ")\n",
    "\n",
    "# Decode the output tokens to text\n",
    "output_text = tokenizer.decode(outputs[0], skip_special_tokens=True)\n",
    "\n",
    "# Print our output!\n",
    "print(output_text)"
   ]
  }
 ],
 "metadata": {
  "kernelspec": {
   "display_name": "Python 3 (ipykernel)",
   "language": "python",
   "name": "python3"
  },
  "language_info": {
   "codemirror_mode": {
    "name": "ipython",
    "version": 3
   },
   "file_extension": ".py",
   "mimetype": "text/x-python",
   "name": "python",
   "nbconvert_exporter": "python",
   "pygments_lexer": "ipython3",
   "version": "3.10.13"
  }
 },
 "nbformat": 4,
 "nbformat_minor": 5
}
