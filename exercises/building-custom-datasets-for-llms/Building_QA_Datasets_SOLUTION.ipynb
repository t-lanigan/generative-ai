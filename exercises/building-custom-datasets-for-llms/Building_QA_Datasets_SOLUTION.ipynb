{
 "cells": [
  {
   "cell_type": "markdown",
   "id": "d80b9606",
   "metadata": {},
   "source": [
    "# Building Question Answering Datasets\n",
    "In this exercise, we want to construct a dataset for training a question answering model. \n",
    "In general, this process is highly manual, requiring the collection of data and, as one might expect, manually constructing pairs of questions and answers that can be found in the text. \n",
    "In our exercise, we provide the data plus question and answer pairs, and work through how to construct the dataset from that starting point.\n",
    "\n",
    "## SQuAD\n",
    "One of the most well studied datasets in question answering is the Stanford Question Answering Dataset (SQuAD), introduced in a paper by [Rajpurkar et al.](https://nlp.stanford.edu/pubs/rajpurkar2016squad.pdf) and its follow-up, [SQuAD 2.0](https://arxiv.org/abs/1806.03822).\n",
    "Formatting our dataset like SQuAD makes it much easier to use prebuild models and trainers like those from [HuggingFace](https://huggingface.co/) to do our job, so it makes sense to first understand the structure of the dataset.\n",
    "What follows is a single example from the dataset.\n",
    "\n",
    "``` python\n",
    "{'id': '573387acd058e614000b5cb5',\n",
    " 'title': 'University_of_Notre_Dame',\n",
    " 'context': 'One of the main driving forces in the growth of the University was its football team, the Notre Dame Fighting Irish. Knute Rockne became head coach in 1918. Under Rockne, the Irish would post a record of 105 wins, 12 losses, and five ties. During his 13 years the Irish won three national championships, had five undefeated seasons, won the Rose Bowl in 1925, and produced players such as George Gipp and the \"Four Horsemen\". Knute Rockne has the highest winning percentage (.881) in NCAA Division I/FBS football history. Rockne\\'s offenses employed the Notre Dame Box and his defenses ran a 7–2–2 scheme. The last game Rockne coached was on December 14, 1930 when he led a group of Notre Dame all-stars against the New York Giants in New York City.',\n",
    " 'question': 'In what year did the team lead by Knute Rockne win the Rose Bowl?',\n",
    " 'answers': {'text': ['1925'], \n",
    "             'answer_start': [354]}\n",
    "}\n",
    " ```\n",
    " \n",
    " As we can see, each entry in the dataset is a Python `dict` object with the structure:\n",
    " \n",
    " ``` python\n",
    " {'id': str,\n",
    "  'title': str,\n",
    "  'context': str,\n",
    "  'question': str,\n",
    "  'answers': dict\n",
    " }\n",
    " ```\n",
    "\n",
    "For our purposes, we can simply ignore the 'title' entry if we wish -- it has no impact on our ability to use the dataset, but can be important for others, as it maps to the title of the article from which the context is drawn.\n",
    "The answers are themselves a dict with structure:\n",
    " \n",
    "``` python\n",
    "{'text': list(str),\n",
    " 'answer_start': list(int)\n",
    "}\n",
    "```\n",
    "This is important since there may be multiple answers in a single context.\n",
    "\n",
    "## Imports\n",
    "Let's start by importing the libraries we're going to need."
   ]
  },
  {
   "cell_type": "code",
   "execution_count": 1,
   "id": "18cb7778",
   "metadata": {},
   "outputs": [
    {
     "name": "stderr",
     "output_type": "stream",
     "text": [
      "/opt/venv/lib/python3.10/site-packages/tqdm/auto.py:21: TqdmWarning: IProgress not found. Please update jupyter and ipywidgets. See https://ipywidgets.readthedocs.io/en/stable/user_install.html\n",
      "  from .autonotebook import tqdm as notebook_tqdm\n"
     ]
    }
   ],
   "source": [
    "from pathlib import Path\n",
    "import pandas as pd\n",
    "from datasets import Dataset\n",
    "from transformers import AutoTokenizer, AutoModelForQuestionAnswering, Trainer, default_data_collator, pipeline\n",
    "from transformers.trainer_utils import PredictionOutput\n",
    "import math\n",
    "import time\n",
    "import collections\n",
    "import numpy as np\n",
    "from tqdm.notebook import tqdm"
   ]
  },
  {
   "cell_type": "markdown",
   "id": "b767aab5",
   "metadata": {},
   "source": [
    "## Building our Dictionaries"
   ]
  },
  {
   "cell_type": "markdown",
   "id": "4e6ed9e2",
   "metadata": {},
   "source": [
    "Our question-answer pairs are stored in a CSV with columns: \"question\", \"answer\" and \"filename\"."
   ]
  },
  {
   "cell_type": "code",
   "execution_count": 2,
   "id": "043af209",
   "metadata": {},
   "outputs": [
    {
     "data": {
      "text/html": [
       "<div>\n",
       "<style scoped>\n",
       "    .dataframe tbody tr th:only-of-type {\n",
       "        vertical-align: middle;\n",
       "    }\n",
       "\n",
       "    .dataframe tbody tr th {\n",
       "        vertical-align: top;\n",
       "    }\n",
       "\n",
       "    .dataframe thead th {\n",
       "        text-align: right;\n",
       "    }\n",
       "</style>\n",
       "<table border=\"1\" class=\"dataframe\">\n",
       "  <thead>\n",
       "    <tr style=\"text-align: right;\">\n",
       "      <th></th>\n",
       "      <th>question</th>\n",
       "      <th>answer</th>\n",
       "      <th>filename</th>\n",
       "    </tr>\n",
       "  </thead>\n",
       "  <tbody>\n",
       "    <tr>\n",
       "      <th>0</th>\n",
       "      <td>Who is the manufacturer of the product?</td>\n",
       "      <td>Zyxel</td>\n",
       "      <td>CVE-2020-29583.txt</td>\n",
       "    </tr>\n",
       "    <tr>\n",
       "      <th>1</th>\n",
       "      <td>Who reported the vulnerability?</td>\n",
       "      <td>researchers from EYE Netherlands</td>\n",
       "      <td>CVE-2020-29583.txt</td>\n",
       "    </tr>\n",
       "    <tr>\n",
       "      <th>2</th>\n",
       "      <td>What is the vulnerability?</td>\n",
       "      <td>A hardcoded credential vulnerability was ident...</td>\n",
       "      <td>CVE-2020-29583.txt</td>\n",
       "    </tr>\n",
       "    <tr>\n",
       "      <th>3</th>\n",
       "      <td>How do users protect themselves?</td>\n",
       "      <td>we urge users to install the applicable updates</td>\n",
       "      <td>CVE-2020-29583.txt</td>\n",
       "    </tr>\n",
       "    <tr>\n",
       "      <th>4</th>\n",
       "      <td>What products are affected?</td>\n",
       "      <td>firewalls and AP controllers</td>\n",
       "      <td>CVE-2020-29583.txt</td>\n",
       "    </tr>\n",
       "  </tbody>\n",
       "</table>\n",
       "</div>"
      ],
      "text/plain": [
       "                                  question   \n",
       "0  Who is the manufacturer of the product?  \\\n",
       "1          Who reported the vulnerability?   \n",
       "2               What is the vulnerability?   \n",
       "3         How do users protect themselves?   \n",
       "4              What products are affected?   \n",
       "\n",
       "                                              answer            filename  \n",
       "0                                              Zyxel  CVE-2020-29583.txt  \n",
       "1                   researchers from EYE Netherlands  CVE-2020-29583.txt  \n",
       "2  A hardcoded credential vulnerability was ident...  CVE-2020-29583.txt  \n",
       "3    we urge users to install the applicable updates  CVE-2020-29583.txt  \n",
       "4                       firewalls and AP controllers  CVE-2020-29583.txt  "
      ]
     },
     "execution_count": 2,
     "metadata": {},
     "output_type": "execute_result"
    }
   ],
   "source": [
    "df = pd.read_csv(\"data/qa.csv\")\n",
    "df.head()"
   ]
  },
  {
   "cell_type": "markdown",
   "id": "bd41a49f",
   "metadata": {},
   "source": [
    "Given the source of our question-answer pairs, we'll want a function that takes the question, answer, and filepath, and returns a nicely formatted dictionary. \n",
    "\n",
    "Since we want each question to have a unique identifier, we will also take that as a function argument so we can use an iterator.\n",
    "\n",
    "Within the function, we also want to read the context from the provided file and locate the starting index of the provided answer.\n",
    "We can do this with the `.find()` method of the context string object."
   ]
  },
  {
   "cell_type": "code",
   "execution_count": 3,
   "id": "f188a90f",
   "metadata": {},
   "outputs": [],
   "source": [
    "def qa_to_squad(question, answer, filename, identifier):\n",
    "    filepath = \"data/\" + row['filename']\n",
    "    with open(filepath, \"r\") as f:\n",
    "        context = f.read()\n",
    "        \n",
    "    start_location = context.find(answer)\n",
    "    qa_pair = {\n",
    "        'id': identifier,\n",
    "        'title': filepath,\n",
    "        'context': context,\n",
    "        'question': question,\n",
    "        'answers': {'text': [answer],\n",
    "                   'answer_start': [start_location]}\n",
    "    }\n",
    "    return qa_pair"
   ]
  },
  {
   "cell_type": "markdown",
   "id": "ff240272",
   "metadata": {},
   "source": [
    "## Building Dictionaries from Data\n",
    "Now that we can turn our CSV of questions, answers, and filenames into dictionaries, we'll need to construct a dictionary for each question and answer pair in our file. \n",
    "\n",
    "Let's use the `iterrows()` method of the dataframe to iterate through each question and answer pair, and use the `qa_to_squad` function to generate a SQuAD-formatted dictionary. Then we will append the formatted dictionary onto a list. At the end, you will have a list of SQuAD-formatted questions and answers.\n",
    "\n",
    "In production, you may want to use the `uuid` library, or take the hash of the question + context + answers to ensure unique identifiers can be reconstructed. To simplify the process, we can use the index of the row from the `iterrows()` method."
   ]
  },
  {
   "cell_type": "code",
   "execution_count": 4,
   "id": "e9273638",
   "metadata": {},
   "outputs": [],
   "source": [
    "qa_list = list()\n",
    "for i, row in df.iterrows():\n",
    "    q = row['question']\n",
    "    a = row['answer']\n",
    "    f = row['filename']\n",
    "    SQuAD_dict = qa_to_squad(q, a, f, i)\n",
    "    qa_list.append(SQuAD_dict)"
   ]
  },
  {
   "cell_type": "markdown",
   "id": "066e9eb8",
   "metadata": {},
   "source": [
    "## Dicts to Datasets\n",
    "Unfortunately, HuggingFace's `datasets` library does not have a great way to turn a list of dictionaries into a Dataset.\n",
    "Luckily for us, `datasets` plays very nicely with `pandas`, which is happy to construct a DataFrame from a list of dictionaries.\n",
    "First, we'll need to turn our list of SQuAD-formatted questions into a DataFrame.\n",
    "Then, we'll need to use the `Dataset` `.from_pandas` method to create our HuggingFace-friendly dataset!"
   ]
  },
  {
   "cell_type": "code",
   "execution_count": 5,
   "id": "32ad4ff8",
   "metadata": {},
   "outputs": [
    {
     "name": "stdout",
     "output_type": "stream",
     "text": [
      "{'id': 0, 'title': 'data/CVE-2020-29583.txt', 'context': 'CVE:   CVE-2020-29583 Summary Zyxel has released a patch for the hardcoded credential vulnerability of firewalls and AP controllers recently reported by researchers from EYE Netherlands. Users are advised to install the applicable firmware updates for optimal protection. What is the vulnerability? A hardcoded credential vulnerability was identified in the “zyfwp” user account in some Zyxel firewalls and AP controllers. The account was designed to deliver automatic firmware updates to connected access points through FTP. What versions are vulnerable—and what should you do? After a thorough investigation, we’ve identified the vulnerable products and are releasing firmware patches to address the issue, as shown in the table below. For optimal protection, we urge users to install the applicable updates. For those not listed, they are not affected. Contact your local Zyxel support team if you require further assistance or visit our  forum  for more information. Got a question or a tipoff? Please contact your local service rep for further information or assistance. If you’ve found a vulnerability, we want to work with you to fix it—contact  security@zyxel.com.tw  and we’ll get right back to you. Acknowledgment Thanks to Niels Teusink at EYE for reporting the issue to us. Revision history 2020-12-23: Initial release 2020-12-24: Updated the acknowledgement section 2021-01-04: Updated the patch schedule for AP controllers 2021-01-08: Added the forum link', 'question': 'Who is the manufacturer of the product?', 'answers': {'answer_start': [30], 'text': ['Zyxel']}}\n"
     ]
    }
   ],
   "source": [
    "qa_df = pd.DataFrame(data=qa_list)\n",
    "data = Dataset.from_pandas(qa_df)\n",
    "print(data[0])"
   ]
  },
  {
   "cell_type": "markdown",
   "id": "cc071837",
   "metadata": {},
   "source": [
    "## Saving our Dataset\n",
    "Having done all this hard work, the last thing we want to do is have to reconstruct our dataset from scratch at run time. \n",
    "To do this, call the `.save_to_disk()` method on your `Dataset` object"
   ]
  },
  {
   "cell_type": "code",
   "execution_count": 6,
   "id": "8fdd312e",
   "metadata": {},
   "outputs": [
    {
     "name": "stderr",
     "output_type": "stream",
     "text": [
      "                                                                                         \r"
     ]
    }
   ],
   "source": [
    "data.save_to_disk(\"qa_data.hf\")"
   ]
  },
  {
   "cell_type": "markdown",
   "id": "e43aefdf",
   "metadata": {},
   "source": [
    "## Fine Tuning BERT on our Data\n",
    "Now that we have our dataset, let's fine-tune a pretrained model on it! This code is written for you, but we're using HuggingFace's `transformers` library and the `AutoModelForQuestionAnswering` to do the training here."
   ]
  },
  {
   "cell_type": "code",
   "execution_count": 7,
   "id": "6e876607",
   "metadata": {},
   "outputs": [
    {
     "name": "stderr",
     "output_type": "stream",
     "text": [
      "Some weights of the model checkpoint at distilbert-base-uncased were not used when initializing DistilBertForQuestionAnswering: ['vocab_layer_norm.bias', 'vocab_transform.bias', 'vocab_transform.weight', 'vocab_projector.bias', 'vocab_layer_norm.weight', 'vocab_projector.weight']\n",
      "- This IS expected if you are initializing DistilBertForQuestionAnswering from the checkpoint of a model trained on another task or with another architecture (e.g. initializing a BertForSequenceClassification model from a BertForPreTraining model).\n",
      "- This IS NOT expected if you are initializing DistilBertForQuestionAnswering from the checkpoint of a model that you expect to be exactly identical (initializing a BertForSequenceClassification model from a BertForSequenceClassification model).\n",
      "Some weights of DistilBertForQuestionAnswering were not initialized from the model checkpoint at distilbert-base-uncased and are newly initialized: ['qa_outputs.bias', 'qa_outputs.weight']\n",
      "You should probably TRAIN this model on a down-stream task to be able to use it for predictions and inference.\n"
     ]
    }
   ],
   "source": [
    "# Load the tokenizer for DistilBERT\n",
    "tokenizer = AutoTokenizer.from_pretrained('distilbert-base-uncased')\n",
    "\n",
    "# Load the model\n",
    "# Note: This will throw warnings, which is expected!\n",
    "model = AutoModelForQuestionAnswering.from_pretrained('distilbert-base-uncased')"
   ]
  },
  {
   "cell_type": "code",
   "execution_count": 8,
   "id": "028510d7",
   "metadata": {},
   "outputs": [],
   "source": [
    "# The Trainer subclass here is lightly modified from HuggingFace\n",
    "# Original source at https://github.com/huggingface/transformers/blob/main/examples/pytorch/question-answering/trainer_qa.py\n",
    "class QuestionAnsweringTrainer(Trainer):\n",
    "    def __init__(self, *args, post_process_function=None, **kwargs):\n",
    "        super().__init__(*args, **kwargs)\n",
    "        self.post_process_function = post_process_function\n",
    "\n",
    "    def predict(self, predict_dataset, predict_examples, ignore_keys=None, metric_key_prefix: str = \"test\"):\n",
    "        predict_dataloader = self.get_test_dataloader(predict_dataset)\n",
    "\n",
    "        # Temporarily disable metric computation, we will do it in the loop here.\n",
    "        compute_metrics = self.compute_metrics\n",
    "        self.compute_metrics = None\n",
    "        eval_loop = self.prediction_loop if self.args.use_legacy_prediction_loop else self.evaluation_loop\n",
    "        start_time = time.time()\n",
    "        try:\n",
    "            output = eval_loop(\n",
    "                predict_dataloader,\n",
    "                description=\"Prediction\",\n",
    "                # No point gathering the predictions if there are no metrics, otherwise we defer to\n",
    "                # self.args.prediction_loss_only\n",
    "                prediction_loss_only=True if compute_metrics is None else None,\n",
    "                ignore_keys=ignore_keys,\n",
    "                metric_key_prefix=metric_key_prefix,\n",
    "            )\n",
    "        finally:\n",
    "            self.compute_metrics = compute_metrics\n",
    "        total_batch_size = self.args.eval_batch_size * self.args.world_size\n",
    "        if f\"{metric_key_prefix}_jit_compilation_time\" in output.metrics:\n",
    "            start_time += output.metrics[f\"{metric_key_prefix}_jit_compilation_time\"]\n",
    "        output.metrics.update(\n",
    "            speed_metrics(\n",
    "                metric_key_prefix,\n",
    "                start_time,\n",
    "                num_samples=output.num_samples,\n",
    "                num_steps=math.ceil(output.num_samples / total_batch_size),\n",
    "            )\n",
    "        )\n",
    "\n",
    "        if self.post_process_function is None or self.compute_metrics is None:\n",
    "            return output\n",
    "\n",
    "        predictions = self.post_process_function(predict_examples, predict_dataset, output.predictions, \"predict\")\n",
    "        metrics = self.compute_metrics(predictions)\n",
    "\n",
    "        # Prefix all keys with metric_key_prefix + '_'\n",
    "        for key in list(metrics.keys()):\n",
    "            if not key.startswith(f\"{metric_key_prefix}_\"):\n",
    "                metrics[f\"{metric_key_prefix}_{key}\"] = metrics.pop(key)\n",
    "        metrics.update(output.metrics)\n",
    "        return PredictionOutput(predictions=predictions.predictions, label_ids=predictions.label_ids, metrics=metrics)"
   ]
  },
  {
   "cell_type": "markdown",
   "id": "ebf3997a",
   "metadata": {},
   "source": [
    "## Pre- and Post-processing Functions\n",
    "The following functions are lightly adapted from the HuggingFace `run_qa.py` example [on Github](https://github.com/huggingface/transformers/blob/main/examples/pytorch/question-answering/run_qa.py)"
   ]
  },
  {
   "cell_type": "code",
   "execution_count": 9,
   "id": "6d5e40d3",
   "metadata": {},
   "outputs": [],
   "source": [
    "# Training preprocessing\n",
    "def prepare_train_features(examples):\n",
    "    # Tokenize our examples with truncation and maybe padding, but keep the overflows using a stride. This results\n",
    "    # in one example possible giving several features when a context is long, each of those features having a\n",
    "    # context that overlaps a bit the context of the previous feature.\n",
    "    tokenized_examples = tokenizer(\n",
    "        examples[\"question\"],\n",
    "        examples[\"context\"],\n",
    "        truncation=\"only_second\",\n",
    "        max_length=512,\n",
    "        padding=\"max_length\",\n",
    "        return_offsets_mapping=True\n",
    "    )\n",
    "\n",
    "    # The offset mappings will give us a map from token to character position in the original context. This will\n",
    "    # help us compute the start_positions and end_positions.\n",
    "    offset_mapping = tokenized_examples.pop(\"offset_mapping\")\n",
    "\n",
    "    # Let's label those examples!\n",
    "    tokenized_examples[\"start_positions\"] = []\n",
    "    tokenized_examples[\"end_positions\"] = []\n",
    "\n",
    "    for i, offsets in enumerate(offset_mapping):\n",
    "        # We will label impossible answers with the index of the CLS token.\n",
    "        input_ids = tokenized_examples[\"input_ids\"][i]\n",
    "        cls_index = input_ids.index(tokenizer.cls_token_id)\n",
    "\n",
    "        # Grab the sequence corresponding to that example (to know what is the context and what is the question).\n",
    "        sequence_ids = tokenized_examples.sequence_ids(i)\n",
    "\n",
    "        # One example can give several spans, this is the index of the example containing this span of text.\n",
    "        answers = examples[\"answers\"][i]\n",
    "\n",
    "        # If no answers are given, set the cls_index as answer.\n",
    "        if len(answers[\"answer_start\"]) == 0:\n",
    "            tokenized_examples[\"start_positions\"].append(cls_index)\n",
    "            tokenized_examples[\"end_positions\"].append(cls_index)\n",
    "        else:\n",
    "            # Start/end character index of the answer in the text.\n",
    "            start_char = answers[\"answer_start\"][0]\n",
    "            end_char = start_char + len(answers[\"text\"][0])\n",
    "\n",
    "            # Start token index of the current span in the text.\n",
    "            token_start_index = 0\n",
    "\n",
    "            # End token index of the current span in the text.\n",
    "            token_end_index = len(input_ids) - 1\n",
    "\n",
    "            # Otherwise move the token_start_index and token_end_index to the two ends of the answer.\n",
    "            # Note: we could go after the last offset if the answer is the last word (edge case).\n",
    "            while token_start_index < len(offsets) and offsets[token_start_index][0] <= start_char:\n",
    "                token_start_index += 1\n",
    "            tokenized_examples[\"start_positions\"].append(token_start_index - 1)\n",
    "            while offsets[token_end_index][1] >= end_char:\n",
    "                token_end_index -= 1\n",
    "            tokenized_examples[\"end_positions\"].append(token_end_index + 1)\n",
    "    \n",
    "    return tokenized_examples\n",
    "\n",
    "def postprocess_qa_predictions(\n",
    "    examples,\n",
    "    features,\n",
    "    predictions,\n",
    "    version_2_with_negative = False,\n",
    "    n_best_size = 20,\n",
    "    max_answer_length = 30,\n",
    "    null_score_diff_threshold = 0.0,\n",
    "):\n",
    "    \"\"\"\n",
    "    Post-processes the predictions of a question-answering model to convert them to answers that are substrings of the\n",
    "    original contexts. This is the base postprocessing functions for models that only return start and end logits.\n",
    "\n",
    "    Args:\n",
    "        examples: The non-preprocessed dataset (see the main script for more information).\n",
    "        features: The processed dataset (see the main script for more information).\n",
    "        predictions (:obj:`Tuple[np.ndarray, np.ndarray]`):\n",
    "            The predictions of the model: two arrays containing the start logits and the end logits respectively. Its\n",
    "            first dimension must match the number of elements of :obj:`features`.\n",
    "        version_2_with_negative (:obj:`bool`, `optional`, defaults to :obj:`False`):\n",
    "            Whether or not the underlying dataset contains examples with no answers.\n",
    "        n_best_size (:obj:`int`, `optional`, defaults to 20):\n",
    "            The total number of n-best predictions to generate when looking for an answer.\n",
    "        max_answer_length (:obj:`int`, `optional`, defaults to 30):\n",
    "            The maximum length of an answer that can be generated. This is needed because the start and end predictions\n",
    "            are not conditioned on one another.\n",
    "        null_score_diff_threshold (:obj:`float`, `optional`, defaults to 0):\n",
    "            The threshold used to select the null answer: if the best answer has a score that is less than the score of\n",
    "            the null answer minus this threshold, the null answer is selected for this example (note that the score of\n",
    "            the null answer for an example giving several features is the minimum of the scores for the null answer on\n",
    "            each feature: all features must be aligned on the fact they `want` to predict a null answer).\n",
    "\n",
    "            Only useful when :obj:`version_2_with_negative` is :obj:`True`.\n",
    "    \"\"\"\n",
    "    if len(predictions) != 2:\n",
    "        raise ValueError(\"`predictions` should be a tuple with two elements (start_logits, end_logits).\")\n",
    "    all_start_logits, all_end_logits = predictions\n",
    "\n",
    "    if len(predictions[0]) != len(features):\n",
    "        raise ValueError(f\"Got {len(predictions[0])} predictions and {len(features)} features.\")\n",
    "\n",
    "    # Build a map example to its corresponding features.\n",
    "    example_id_to_index = {k: i for i, k in enumerate(examples[\"id\"])}\n",
    "    features_per_example = collections.defaultdict(list)\n",
    "    for i, feature in enumerate(features):\n",
    "        features_per_example[example_id_to_index[feature[\"example_id\"]]].append(i)\n",
    "\n",
    "    # The dictionaries we have to fill.\n",
    "    all_predictions = collections.OrderedDict()\n",
    "    all_nbest_json = collections.OrderedDict()\n",
    "    if version_2_with_negative:\n",
    "        scores_diff_json = collections.OrderedDict()\n",
    "\n",
    "    # Let's loop over all the examples!\n",
    "    for example_index, example in enumerate(tqdm(examples)):\n",
    "        # Those are the indices of the features associated to the current example.\n",
    "        feature_indices = features_per_example[example_index]\n",
    "\n",
    "        min_null_prediction = None\n",
    "        prelim_predictions = []\n",
    "\n",
    "        # Looping through all the features associated to the current example.\n",
    "        for feature_index in feature_indices:\n",
    "            # We grab the predictions of the model for this feature.\n",
    "            start_logits = all_start_logits[feature_index]\n",
    "            end_logits = all_end_logits[feature_index]\n",
    "            # This is what will allow us to map some the positions in our logits to span of texts in the original\n",
    "            # context.\n",
    "            offset_mapping = features[feature_index][\"offset_mapping\"]\n",
    "            # Optional `token_is_max_context`, if provided we will remove answers that do not have the maximum context\n",
    "            # available in the current feature.\n",
    "            token_is_max_context = features[feature_index].get(\"token_is_max_context\", None)\n",
    "\n",
    "            # Update minimum null prediction.\n",
    "            feature_null_score = start_logits[0] + end_logits[0]\n",
    "            if min_null_prediction is None or min_null_prediction[\"score\"] > feature_null_score:\n",
    "                min_null_prediction = {\n",
    "                    \"offsets\": (0, 0),\n",
    "                    \"score\": feature_null_score,\n",
    "                    \"start_logit\": start_logits[0],\n",
    "                    \"end_logit\": end_logits[0],\n",
    "                }\n",
    "\n",
    "            # Go through all possibilities for the `n_best_size` greater start and end logits.\n",
    "            start_indexes = np.argsort(start_logits)[-1 : -n_best_size - 1 : -1].tolist()\n",
    "            end_indexes = np.argsort(end_logits)[-1 : -n_best_size - 1 : -1].tolist()\n",
    "            for start_index in start_indexes:\n",
    "                for end_index in end_indexes:\n",
    "                    # Don't consider out-of-scope answers, either because the indices are out of bounds or correspond\n",
    "                    # to part of the input_ids that are not in the context.\n",
    "                    if (\n",
    "                        start_index >= len(offset_mapping)\n",
    "                        or end_index >= len(offset_mapping)\n",
    "                        or offset_mapping[start_index] is None\n",
    "                        or len(offset_mapping[start_index]) < 2\n",
    "                        or offset_mapping[end_index] is None\n",
    "                        or len(offset_mapping[end_index]) < 2\n",
    "                    ):\n",
    "                        continue\n",
    "                    # Don't consider answers with a length that is either < 0 or > max_answer_length.\n",
    "                    if end_index < start_index or end_index - start_index + 1 > max_answer_length:\n",
    "                        continue\n",
    "                    # Don't consider answer that don't have the maximum context available (if such information is\n",
    "                    # provided).\n",
    "                    if token_is_max_context is not None and not token_is_max_context.get(str(start_index), False):\n",
    "                        continue\n",
    "\n",
    "                    prelim_predictions.append(\n",
    "                        {\n",
    "                            \"offsets\": (offset_mapping[start_index][0], offset_mapping[end_index][1]),\n",
    "                            \"score\": start_logits[start_index] + end_logits[end_index],\n",
    "                            \"start_logit\": start_logits[start_index],\n",
    "                            \"end_logit\": end_logits[end_index],\n",
    "                        }\n",
    "                    )\n",
    "        if version_2_with_negative and min_null_prediction is not None:\n",
    "            # Add the minimum null prediction\n",
    "            prelim_predictions.append(min_null_prediction)\n",
    "            null_score = min_null_prediction[\"score\"]\n",
    "\n",
    "        # Only keep the best `n_best_size` predictions.\n",
    "        predictions = sorted(prelim_predictions, key=lambda x: x[\"score\"], reverse=True)[:n_best_size]\n",
    "\n",
    "        # Add back the minimum null prediction if it was removed because of its low score.\n",
    "        if (\n",
    "            version_2_with_negative\n",
    "            and min_null_prediction is not None\n",
    "            and not any(p[\"offsets\"] == (0, 0) for p in predictions)\n",
    "        ):\n",
    "            predictions.append(min_null_prediction)\n",
    "\n",
    "        # Use the offsets to gather the answer text in the original context.\n",
    "        context = example[\"context\"]\n",
    "        for pred in predictions:\n",
    "            offsets = pred.pop(\"offsets\")\n",
    "            pred[\"text\"] = context[offsets[0] : offsets[1]]\n",
    "\n",
    "        # In the very rare edge case we have not a single non-null prediction, we create a fake prediction to avoid\n",
    "        # failure.\n",
    "        if len(predictions) == 0 or (len(predictions) == 1 and predictions[0][\"text\"] == \"\"):\n",
    "            predictions.insert(0, {\"text\": \"empty\", \"start_logit\": 0.0, \"end_logit\": 0.0, \"score\": 0.0})\n",
    "\n",
    "        # Compute the softmax of all scores (we do it with numpy to stay independent from torch/tf in this file, using\n",
    "        # the LogSumExp trick).\n",
    "        scores = np.array([pred.pop(\"score\") for pred in predictions])\n",
    "        exp_scores = np.exp(scores - np.max(scores))\n",
    "        probs = exp_scores / exp_scores.sum()\n",
    "\n",
    "        # Include the probabilities in our predictions.\n",
    "        for prob, pred in zip(probs, predictions):\n",
    "            pred[\"probability\"] = prob\n",
    "\n",
    "        # Pick the best prediction. If the null answer is not possible, this is easy.\n",
    "        if not version_2_with_negative:\n",
    "            all_predictions[example[\"id\"]] = predictions[0][\"text\"]\n",
    "        else:\n",
    "            # Otherwise we first need to find the best non-empty prediction.\n",
    "            i = 0\n",
    "            while predictions[i][\"text\"] == \"\":\n",
    "                i += 1\n",
    "            best_non_null_pred = predictions[i]\n",
    "\n",
    "            # Then we compare to the null prediction using the threshold.\n",
    "            score_diff = null_score - best_non_null_pred[\"start_logit\"] - best_non_null_pred[\"end_logit\"]\n",
    "            scores_diff_json[example[\"id\"]] = float(score_diff)  # To be JSON-serializable.\n",
    "            if score_diff > null_score_diff_threshold:\n",
    "                all_predictions[example[\"id\"]] = \"\"\n",
    "            else:\n",
    "                all_predictions[example[\"id\"]] = best_non_null_pred[\"text\"]\n",
    "\n",
    "        # Make `predictions` JSON-serializable by casting np.float back to float.\n",
    "        all_nbest_json[example[\"id\"]] = [\n",
    "            {k: (float(v) if isinstance(v, (np.float16, np.float32, np.float64)) else v) for k, v in pred.items()}\n",
    "            for pred in predictions\n",
    "        ]\n",
    "\n",
    "    return all_predictions\n",
    "\n",
    "# Post-processing:\n",
    "def post_processing_function(examples, features, predictions, stage=\"eval\"):\n",
    "    # Post-processing: we match the start logits and end logits to answers in the original context.\n",
    "    predictions = postprocess_qa_predictions(\n",
    "        examples=examples,\n",
    "        features=features,\n",
    "        predictions=predictions,\n",
    "        version_2_with_negative=data_args.version_2_with_negative,\n",
    "        n_best_size=data_args.n_best_size,\n",
    "        max_answer_length=data_args.max_answer_length,\n",
    "        null_score_diff_threshold=data_args.null_score_diff_threshold,\n",
    "        output_dir=training_args.output_dir,\n",
    "        log_level=log_level,\n",
    "        prefix=stage,\n",
    "    )\n",
    "    # Format the result to the format the metric expects.\n",
    "    if data_args.version_2_with_negative:\n",
    "        formatted_predictions = [\n",
    "            {\"id\": str(k), \"prediction_text\": v, \"no_answer_probability\": 0.0} for k, v in predictions.items()\n",
    "        ]\n",
    "    else:\n",
    "        formatted_predictions = [{\"id\": str(k), \"prediction_text\": v} for k, v in predictions.items()]\n",
    "\n",
    "    references = [{\"id\": str(ex[\"id\"]), \"answers\": ex[answer_column_name]} for ex in examples]\n",
    "    return EvalPrediction(predictions=formatted_predictions, label_ids=references)"
   ]
  },
  {
   "cell_type": "code",
   "execution_count": 10,
   "id": "32790853",
   "metadata": {},
   "outputs": [
    {
     "name": "stderr",
     "output_type": "stream",
     "text": [
      "                                                  \r"
     ]
    }
   ],
   "source": [
    "data = data.map(prepare_train_features, batched=True)"
   ]
  },
  {
   "cell_type": "code",
   "execution_count": 11,
   "id": "e9e68cef",
   "metadata": {},
   "outputs": [
    {
     "data": {
      "text/plain": [
       "Dataset({\n",
       "    features: ['id', 'title', 'context', 'question', 'answers', 'input_ids', 'attention_mask', 'start_positions', 'end_positions'],\n",
       "    num_rows: 10\n",
       "})"
      ]
     },
     "execution_count": 11,
     "metadata": {},
     "output_type": "execute_result"
    }
   ],
   "source": [
    "data"
   ]
  },
  {
   "cell_type": "code",
   "execution_count": 12,
   "id": "f1735db8",
   "metadata": {},
   "outputs": [
    {
     "name": "stderr",
     "output_type": "stream",
     "text": [
      "/opt/venv/lib/python3.10/site-packages/transformers/optimization.py:391: FutureWarning: This implementation of AdamW is deprecated and will be removed in a future version. Use the PyTorch implementation torch.optim.AdamW instead, or set `no_deprecation_warning=True` to disable this warning\n",
      "  warnings.warn(\n"
     ]
    },
    {
     "data": {
      "text/html": [
       "\n",
       "    <div>\n",
       "      \n",
       "      <progress value='6' max='6' style='width:300px; height:20px; vertical-align: middle;'></progress>\n",
       "      [6/6 03:19, Epoch 3/3]\n",
       "    </div>\n",
       "    <table border=\"1\" class=\"dataframe\">\n",
       "  <thead>\n",
       " <tr style=\"text-align: left;\">\n",
       "      <th>Step</th>\n",
       "      <th>Training Loss</th>\n",
       "    </tr>\n",
       "  </thead>\n",
       "  <tbody>\n",
       "  </tbody>\n",
       "</table><p>"
      ],
      "text/plain": [
       "<IPython.core.display.HTML object>"
      ]
     },
     "metadata": {},
     "output_type": "display_data"
    }
   ],
   "source": [
    "# Set up our trainer\n",
    "trainer = QuestionAnsweringTrainer(\n",
    "    model=model,\n",
    "    train_dataset=data,\n",
    "    tokenizer=tokenizer,\n",
    "    data_collator=default_data_collator,\n",
    "    post_process_function=post_processing_function\n",
    ")\n",
    "\n",
    "# Run the trainer\n",
    "trainer.train()\n",
    "\n",
    "# Save our model\n",
    "trainer.save_model(\"./ft-distilbert\")"
   ]
  },
  {
   "cell_type": "code",
   "execution_count": 13,
   "id": "35d33728",
   "metadata": {},
   "outputs": [
    {
     "data": {
      "text/plain": [
       "{'score': 7.760963489999995e-05,\n",
       " 'start': 7455,\n",
       " 'end': 7484,\n",
       " 'answer': 'An attacker might use CSRF in'}"
      ]
     },
     "execution_count": 13,
     "metadata": {},
     "output_type": "execute_result"
    }
   ],
   "source": [
    "# Let's evaluate our model!\n",
    "# Specify an input question and context\n",
    "question = \"What can an attacker do with XSS?\"\n",
    "with open(\"./data/xss.txt\", \"r\") as f:\n",
    "    context = f.read()\n",
    "\n",
    "# Use HuggingFace pipeline to answer the question\n",
    "question_answerer = pipeline(\"question-answering\", model=\"./ft-distilbert\")\n",
    "question_answerer(question=question, context=context)"
   ]
  },
  {
   "cell_type": "markdown",
   "id": "15b075d8",
   "metadata": {},
   "source": [
    "Hopefully your answer was satisfactory! If not, don't worry about it too much, our dataset was extremely small and we only trained for 3 epochs, so some issues can be expected. This is why so many LLM datasets are so big!"
   ]
  }
 ],
 "metadata": {
  "kernelspec": {
   "display_name": "Python 3 (ipykernel)",
   "language": "python",
   "name": "python3"
  },
  "language_info": {
   "codemirror_mode": {
    "name": "ipython",
    "version": 3
   },
   "file_extension": ".py",
   "mimetype": "text/x-python",
   "name": "python",
   "nbconvert_exporter": "python",
   "pygments_lexer": "ipython3",
   "version": "3.10.13"
  }
 },
 "nbformat": 4,
 "nbformat_minor": 5
}
