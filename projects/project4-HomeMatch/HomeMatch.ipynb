{
 "cells": [
  {
   "cell_type": "markdown",
   "id": "a108af04",
   "metadata": {},
   "source": [
    "This is a starter notebook for the project, you'll have to import the libraries you'll need, you can find a list of the ones available in this workspace in the requirements.txt file in this workspace. "
   ]
  },
  {
   "cell_type": "code",
   "execution_count": 1,
   "id": "6554fd4c",
   "metadata": {},
   "outputs": [],
   "source": [
    "from langchain.llms import OpenAI"
   ]
  },
  {
   "cell_type": "markdown",
   "id": "e8238099",
   "metadata": {},
   "source": [
    "# Synthetic Data Generation\n",
    "LLMs can be use effectivly to generate data. This section shows some experimentation with this functionality."
   ]
  },
  {
   "cell_type": "markdown",
   "id": "001a3915",
   "metadata": {},
   "source": [
    "## Generating Real Estate Listings with an LLM\n",
    "I will now demonstrate using a Large Language Model (LLM) to generate at least 10 diverse and realistic real estate listings containing facts about the real estate."
   ]
  },
  {
   "cell_type": "code",
   "execution_count": null,
   "id": "693dd3a7",
   "metadata": {},
   "outputs": [],
   "source": []
  },
  {
   "cell_type": "code",
   "execution_count": null,
   "id": "c8616e4c",
   "metadata": {},
   "outputs": [],
   "source": []
  },
  {
   "cell_type": "markdown",
   "id": "2f7267d5",
   "metadata": {},
   "source": [
    "# Semantic Search\n",
    "\n",
    "In this section I will experiment with using a vector databse to perform semantic search."
   ]
  },
  {
   "cell_type": "markdown",
   "id": "8aa96604",
   "metadata": {},
   "source": [
    "## Creating a Vector Database and Storing Listings\n",
    "Lets show the creation of a vector database and successfully storing real estate listing embeddings within it. The database should effectively store and organize the embeddings generated from the LLM-created listings."
   ]
  },
  {
   "cell_type": "code",
   "execution_count": null,
   "id": "2ecd50e4",
   "metadata": {},
   "outputs": [],
   "source": []
  },
  {
   "cell_type": "markdown",
   "id": "2b5fb2c6",
   "metadata": {},
   "source": [
    "## Semantic Search of Listings Based on Buyer Preferences\n",
    "\n",
    "Now lets show some functionality where listings are semantically searched based on given buyer preferences. The search should return listings that closely match the input preferences."
   ]
  },
  {
   "cell_type": "code",
   "execution_count": null,
   "id": "1d8aea63",
   "metadata": {},
   "outputs": [],
   "source": []
  },
  {
   "cell_type": "code",
   "execution_count": null,
   "id": "af0fe501",
   "metadata": {},
   "outputs": [],
   "source": []
  },
  {
   "cell_type": "markdown",
   "id": "81553874",
   "metadata": {},
   "source": [
    "# Augmented Response Generation"
   ]
  },
  {
   "cell_type": "markdown",
   "id": "2ee03399",
   "metadata": {},
   "source": [
    "## Logic for Searching and Augmenting Listing Descriptions\n",
    "I will now demonstrate a logical flow where buyer preferences are used to search and then augment the description of real estate listings. The augmentation should personalize the listing without changing factual information."
   ]
  },
  {
   "cell_type": "code",
   "execution_count": null,
   "id": "aaf2d241",
   "metadata": {},
   "outputs": [],
   "source": []
  },
  {
   "cell_type": "markdown",
   "id": "226a7a9f",
   "metadata": {},
   "source": [
    "## Use of LLM for Generating Personalized Descriptions\n",
    "Lets utilize an LLM to generate personalized descriptions for the real estate listings based on buyer preferences. The descriptions should be unique, appealing, and tailored to the preferences provided."
   ]
  },
  {
   "cell_type": "code",
   "execution_count": null,
   "id": "32a93d91",
   "metadata": {},
   "outputs": [],
   "source": []
  }
 ],
 "metadata": {
  "kernelspec": {
   "display_name": "Python 3 (ipykernel)",
   "language": "python",
   "name": "python3"
  },
  "language_info": {
   "codemirror_mode": {
    "name": "ipython",
    "version": 3
   },
   "file_extension": ".py",
   "mimetype": "text/x-python",
   "name": "python",
   "nbconvert_exporter": "python",
   "pygments_lexer": "ipython3",
   "version": "3.10.13"
  }
 },
 "nbformat": 4,
 "nbformat_minor": 5
}
