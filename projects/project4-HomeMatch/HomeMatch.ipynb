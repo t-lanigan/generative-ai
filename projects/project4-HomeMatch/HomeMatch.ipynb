{
 "cells": [
  {
   "cell_type": "markdown",
   "id": "474a5936-81c8-4160-9e49-ddf3148b32dc",
   "metadata": {},
   "source": [
    "# Home Match\n",
    "The following project explores vector databases and prompt engineering to generate and recommend real estate listings to users."
   ]
  },
  {
   "cell_type": "code",
   "execution_count": 1,
   "id": "ac508d50-46b7-465b-bc6b-e915ad411782",
   "metadata": {},
   "outputs": [],
   "source": [
    "# pip install -r requirements.txt"
   ]
  },
  {
   "cell_type": "code",
   "execution_count": 2,
   "id": "1262652f-b85c-4525-9e78-bc1d733f2c09",
   "metadata": {},
   "outputs": [],
   "source": [
    "%load_ext dotenv\n",
    "%dotenv"
   ]
  },
  {
   "cell_type": "code",
   "execution_count": 3,
   "id": "36ed9d0b-a9dd-4cb4-a6ab-66a14106d7a0",
   "metadata": {},
   "outputs": [
    {
     "name": "stderr",
     "output_type": "stream",
     "text": [
      "/Users/tyler/miniconda3/envs/genai/lib/python3.11/site-packages/langchain/llms/openai.py:202: UserWarning: You are trying to use a chat model. This way of initializing it is no longer supported. Instead, please use: `from langchain.chat_models import ChatOpenAI`\n",
      "  warnings.warn(\n",
      "/Users/tyler/miniconda3/envs/genai/lib/python3.11/site-packages/langchain/llms/openai.py:790: UserWarning: You are trying to use a chat model. This way of initializing it is no longer supported. Instead, please use: `from langchain.chat_models import ChatOpenAI`\n",
      "  warnings.warn(\n"
     ]
    }
   ],
   "source": [
    "import os\n",
    "import chromadb\n",
    "import pandas as pd\n",
    "\n",
    "from pprint import pprint\n",
    "from functools import partial\n",
    "from langchain.llms import OpenAI\n",
    "from langchain.embeddings.openai import OpenAIEmbeddings\n",
    "\n",
    "OPENAI_API_KEY = os.getenv('OPENAI_API_KEY')\n",
    "MODEL_NAME = \"gpt-3.5-turbo\"\n",
    "\n",
    "# Temperature is very inportant for generating better listings. If its set to zero, all the listings have a similar \"vibe\".\n",
    "TEMPERATURE = 0.1\n",
    "\n",
    "llm = OpenAI(\n",
    "    model_name=MODEL_NAME,\n",
    "    temperature=TEMPERATURE,\n",
    "    max_tokens = 4096,\n",
    "    openai_api_key=OPENAI_API_KEY\n",
    ")\n",
    "\n",
    "chromadb_client = chromadb.Client()\n",
    "embeddings = OpenAIEmbeddings(openai_api_key=OPENAI_API_KEY)\n",
    "collection = chromadb_client.get_or_create_collection(\"home-match\", embedding_function=embeddings.embed_documents)"
   ]
  },
  {
   "cell_type": "markdown",
   "id": "6d865514-0dab-4dbf-b8d1-b7056098b2aa",
   "metadata": {},
   "source": [
    "The following functions are defined in the `utils.py` file"
   ]
  },
  {
   "cell_type": "code",
   "execution_count": 4,
   "id": "f14a125a-e936-4d6d-915e-b37a685ff9bb",
   "metadata": {},
   "outputs": [],
   "source": [
    "from utils import (\n",
    "    generate_listing,\n",
    "    see_collection,\n",
    "    load_listing_into_db,\n",
    "    get_listings_from_query,\n",
    "    get_personalized_descriptions,\n",
    "    get_personalized_listings\n",
    ")"
   ]
  },
  {
   "cell_type": "markdown",
   "id": "e8238099",
   "metadata": {},
   "source": [
    "# Synthetic Data Generation\n",
    "LLMs can be use effectivly to generate data. This section shows some experimentation with this functionality."
   ]
  },
  {
   "cell_type": "markdown",
   "id": "001a3915",
   "metadata": {},
   "source": [
    "## Generating Real Estate Listings with an LLM\n",
    "In this section we will be using a Large Language Model (LLM) to generate at least 10 diverse and realistic real estate listings containing facts about the real estate."
   ]
  },
  {
   "cell_type": "code",
   "execution_count": 5,
   "id": "5e478f66-0fd8-49cd-ad9b-12559ccb3708",
   "metadata": {},
   "outputs": [],
   "source": [
    "NUM_TO_GENERATE = 20"
   ]
  },
  {
   "cell_type": "code",
   "execution_count": 6,
   "id": "3fa25a73",
   "metadata": {},
   "outputs": [],
   "source": [
    "df_listings = pd.DataFrame([generate_listing(i, llm) for i in range(1, NUM_TO_GENERATE+1)])\n",
    "\n",
    "# Save the listings for Later\n",
    "df_listings.to_json('listings.json',index=False, orient='records')"
   ]
  },
  {
   "cell_type": "code",
   "execution_count": 15,
   "id": "6f193d94-8ec3-4397-83be-1aefbd840555",
   "metadata": {},
   "outputs": [
    {
     "data": {
      "text/html": [
       "<div>\n",
       "<style scoped>\n",
       "    .dataframe tbody tr th:only-of-type {\n",
       "        vertical-align: middle;\n",
       "    }\n",
       "\n",
       "    .dataframe tbody tr th {\n",
       "        vertical-align: top;\n",
       "    }\n",
       "\n",
       "    .dataframe thead th {\n",
       "        text-align: right;\n",
       "    }\n",
       "</style>\n",
       "<table border=\"1\" class=\"dataframe\">\n",
       "  <thead>\n",
       "    <tr style=\"text-align: right;\">\n",
       "      <th></th>\n",
       "      <th>listing_id</th>\n",
       "      <th>property_type</th>\n",
       "      <th>address</th>\n",
       "      <th>neighborhood</th>\n",
       "      <th>price</th>\n",
       "      <th>bedrooms</th>\n",
       "      <th>bathrooms</th>\n",
       "      <th>description</th>\n",
       "      <th>neighborhood_description</th>\n",
       "      <th>sqft</th>\n",
       "    </tr>\n",
       "  </thead>\n",
       "  <tbody>\n",
       "    <tr>\n",
       "      <th>0</th>\n",
       "      <td>1</td>\n",
       "      <td>townhouse</td>\n",
       "      <td>8780 Cypress St.</td>\n",
       "      <td>Kerrisdale</td>\n",
       "      <td>950000</td>\n",
       "      <td>3</td>\n",
       "      <td>2.5</td>\n",
       "      <td>Welcome to this charming townhouse located in ...</td>\n",
       "      <td>Experience the best of Kerrisdale living in th...</td>\n",
       "      <td>1200</td>\n",
       "    </tr>\n",
       "    <tr>\n",
       "      <th>1</th>\n",
       "      <td>2</td>\n",
       "      <td>townhouse</td>\n",
       "      <td>9837 Cypress St.</td>\n",
       "      <td>Kerrisdale</td>\n",
       "      <td>1200000</td>\n",
       "      <td>3</td>\n",
       "      <td>2.5</td>\n",
       "      <td>Welcome to this stunning townhouse located in ...</td>\n",
       "      <td>Experience the charm of Kerrisdale living in t...</td>\n",
       "      <td>1500</td>\n",
       "    </tr>\n",
       "    <tr>\n",
       "      <th>2</th>\n",
       "      <td>3</td>\n",
       "      <td>house</td>\n",
       "      <td>5192 Cypress Ave.</td>\n",
       "      <td>Kerrisdale</td>\n",
       "      <td>1200000</td>\n",
       "      <td>4</td>\n",
       "      <td>3.0</td>\n",
       "      <td>Welcome to this charming family home located i...</td>\n",
       "      <td>Experience the best of Kerrisdale living in th...</td>\n",
       "      <td>2500</td>\n",
       "    </tr>\n",
       "    <tr>\n",
       "      <th>3</th>\n",
       "      <td>4</td>\n",
       "      <td>house</td>\n",
       "      <td>9453 Cedar St.</td>\n",
       "      <td>Kitsilano</td>\n",
       "      <td>1200000</td>\n",
       "      <td>4</td>\n",
       "      <td>3.0</td>\n",
       "      <td>Welcome to this stunning 4 bedroom, 3 bathroom...</td>\n",
       "      <td>Experience the best of Vancouver living in Kit...</td>\n",
       "      <td>2000</td>\n",
       "    </tr>\n",
       "    <tr>\n",
       "      <th>4</th>\n",
       "      <td>5</td>\n",
       "      <td>condo</td>\n",
       "      <td>9712 Cypress Ave.</td>\n",
       "      <td>Downtown Vancouver</td>\n",
       "      <td>950000</td>\n",
       "      <td>2</td>\n",
       "      <td>2.0</td>\n",
       "      <td>Welcome to this stunning 2 bedroom, 2 bathroom...</td>\n",
       "      <td>Experience the vibrant energy of Downtown Vanc...</td>\n",
       "      <td>1100</td>\n",
       "    </tr>\n",
       "  </tbody>\n",
       "</table>\n",
       "</div>"
      ],
      "text/plain": [
       "   listing_id property_type            address        neighborhood    price  \\\n",
       "0           1     townhouse   8780 Cypress St.          Kerrisdale   950000   \n",
       "1           2     townhouse   9837 Cypress St.          Kerrisdale  1200000   \n",
       "2           3         house  5192 Cypress Ave.          Kerrisdale  1200000   \n",
       "3           4         house     9453 Cedar St.           Kitsilano  1200000   \n",
       "4           5         condo  9712 Cypress Ave.  Downtown Vancouver   950000   \n",
       "\n",
       "   bedrooms  bathrooms                                        description  \\\n",
       "0         3        2.5  Welcome to this charming townhouse located in ...   \n",
       "1         3        2.5  Welcome to this stunning townhouse located in ...   \n",
       "2         4        3.0  Welcome to this charming family home located i...   \n",
       "3         4        3.0  Welcome to this stunning 4 bedroom, 3 bathroom...   \n",
       "4         2        2.0  Welcome to this stunning 2 bedroom, 2 bathroom...   \n",
       "\n",
       "                            neighborhood_description  sqft  \n",
       "0  Experience the best of Kerrisdale living in th...  1200  \n",
       "1  Experience the charm of Kerrisdale living in t...  1500  \n",
       "2  Experience the best of Kerrisdale living in th...  2500  \n",
       "3  Experience the best of Vancouver living in Kit...  2000  \n",
       "4  Experience the vibrant energy of Downtown Vanc...  1100  "
      ]
     },
     "execution_count": 15,
     "metadata": {},
     "output_type": "execute_result"
    }
   ],
   "source": [
    "df_listings.head(5)"
   ]
  },
  {
   "cell_type": "markdown",
   "id": "2f7267d5",
   "metadata": {},
   "source": [
    "# Semantic Search\n",
    "\n",
    "In this section I will experiment with using a vector database to perform semantic search."
   ]
  },
  {
   "cell_type": "markdown",
   "id": "8aa96604",
   "metadata": {},
   "source": [
    "## Creating a Vector Database and Storing Listings\n",
    "Lets show the creation of a vector database and successfully storing real estate listing embeddings within it. The database should effectively store and organize the embeddings generated from the LLM-created listings."
   ]
  },
  {
   "cell_type": "code",
   "execution_count": 7,
   "id": "79696b38-d67a-4ff7-9f60-490e29fa54e7",
   "metadata": {},
   "outputs": [],
   "source": [
    "df_listings = pd.read_json('listings.json')"
   ]
  },
  {
   "cell_type": "code",
   "execution_count": 8,
   "id": "b64eaadb-e875-4267-bebf-28f50e2f3ee7",
   "metadata": {},
   "outputs": [
    {
     "name": "stdout",
     "output_type": "stream",
     "text": [
      "Collection: home-match\n",
      "Number of Items: 20\n",
      "\n",
      "Items in Collection:\n",
      "ids\n",
      "embeddings\n",
      "metadatas\n",
      "documents\n"
     ]
    }
   ],
   "source": [
    "# Create a partial function with the additional input\n",
    "partial_func = partial(load_listing_into_db, collection=collection)\n",
    "\n",
    "# Apply the partial function to each row in the DataFrame\n",
    "df_listings.apply(partial_func, axis=1)\n",
    "\n",
    "see_collection(collection)"
   ]
  },
  {
   "cell_type": "markdown",
   "id": "2b5fb2c6",
   "metadata": {},
   "source": [
    "## Semantic Search of Listings Based on Buyer Preferences\n",
    "\n",
    "Now lets show some functionality where listings are semantically searched based on given buyer preferences. The search should return listings that closely match the input preferences."
   ]
  },
  {
   "cell_type": "code",
   "execution_count": 9,
   "id": "a114d990",
   "metadata": {
    "scrolled": true
   },
   "outputs": [
    {
     "name": "stdout",
     "output_type": "stream",
     "text": [
      "[{'address': '9712 Cypress Ave.',\n",
      "  'bathrooms': 2.0,\n",
      "  'bedrooms': 2,\n",
      "  'description': 'Welcome to this stunning 2 bedroom, 2 bathroom condo located '\n",
      "                 'in the heart of Downtown Vancouver. This modern condo '\n",
      "                 'features an open concept layout with floor-to-ceiling '\n",
      "                 'windows, allowing for plenty of natural light to flow '\n",
      "                 'through the space. The kitchen is equipped with stainless '\n",
      "                 'steel appliances, quartz countertops, and a large island '\n",
      "                 'perfect for entertaining. The master bedroom boasts a '\n",
      "                 'walk-in closet and ensuite bathroom with a luxurious soaking '\n",
      "                 'tub. Enjoy the convenience of in-suite laundry and a private '\n",
      "                 'balcony with city views. This condo is perfect for urban '\n",
      "                 'living at its finest.\\n'\n",
      "                 'Experience the vibrant energy of Downtown Vancouver living '\n",
      "                 'at its best in this prime location. Just steps away from '\n",
      "                 'world-class dining, shopping, entertainment, and public '\n",
      "                 \"transportation. Don't miss out on this opportunity to own a \"\n",
      "                 'piece of luxury in the heart of the city.',\n",
      "  'listing_id': '5',\n",
      "  'neighborhood': 'Downtown Vancouver',\n",
      "  'price': 950000,\n",
      "  'property_type': 'condo',\n",
      "  'sqft': 1100},\n",
      " {'address': '9099 Oceanview Ave.',\n",
      "  'bathrooms': 2.0,\n",
      "  'bedrooms': 2,\n",
      "  'description': 'Welcome to this luxurious condo located in the heart of '\n",
      "                 'Downtown Vancouver. This stunning unit offers breathtaking '\n",
      "                 'views of the city skyline and waterfront. The open concept '\n",
      "                 'layout is perfect for entertaining, with a modern kitchen '\n",
      "                 'featuring high-end appliances and a spacious living area. '\n",
      "                 'The master bedroom boasts a walk-in closet and en-suite '\n",
      "                 'bathroom with a deep soaking tub. Enjoy the convenience of '\n",
      "                 'being steps away from top restaurants, shopping, and '\n",
      "                 'entertainment. Building amenities include a fitness center, '\n",
      "                 \"pool, and 24-hour concierge service. Don't miss out on this \"\n",
      "                 'rare opportunity to own a piece of urban paradise.\\n'\n",
      "                 'Experience the vibrant energy of Downtown Vancouver in this '\n",
      "                 'prime location. Enjoy easy access to Stanley Park, Yaletown, '\n",
      "                 'and the seawall for outdoor activities. Indulge in '\n",
      "                 'world-class dining, shopping, and cultural attractions right '\n",
      "                 'at your doorstep. This is urban living at its finest, with '\n",
      "                 \"everything you need just moments away. Don't wait, schedule \"\n",
      "                 'a viewing today!',\n",
      "  'listing_id': '13',\n",
      "  'neighborhood': 'Downtown Vancouver',\n",
      "  'price': 950000,\n",
      "  'property_type': 'condo',\n",
      "  'sqft': 1200}]\n"
     ]
    }
   ],
   "source": [
    "query1 = \"I love Open concept\"\n",
    "pprint(get_listings_from_query(user_query=query1, collection=collection))"
   ]
  },
  {
   "cell_type": "code",
   "execution_count": 10,
   "id": "15f0f2d5-538f-40d5-8fa6-561e0d44b88b",
   "metadata": {},
   "outputs": [
    {
     "name": "stdout",
     "output_type": "stream",
     "text": [
      "[{'address': '593 Oceanview Ave.',\n",
      "  'bathrooms': 2.5,\n",
      "  'bedrooms': 3,\n",
      "  'description': 'Welcome to this stunning townhouse located in the heart of '\n",
      "                 'Kitsilano. This beautifully designed home features an open '\n",
      "                 'concept layout with high ceilings, hardwood floors, and '\n",
      "                 'large windows that fill the space with natural light. The '\n",
      "                 'modern kitchen is equipped with stainless steel appliances, '\n",
      "                 'quartz countertops, and a large island perfect for '\n",
      "                 'entertaining. Upstairs, you will find three spacious '\n",
      "                 'bedrooms including a master suite with a walk-in closet and '\n",
      "                 'ensuite bathroom. Enjoy the outdoors on your private patio '\n",
      "                 'or take a short walk to the beach and enjoy all that '\n",
      "                 \"Kitsilano has to offer. Don't miss out on this opportunity \"\n",
      "                 \"to own a piece of paradise in one of Vancouver's most \"\n",
      "                 'desirable neighborhoods.\\n'\n",
      "                 'Experience the best of Kitsilano living in this prime '\n",
      "                 'location. Just steps away from trendy shops, restaurants, '\n",
      "                 \"cafes, and parks, you'll never run out of things to do. Take \"\n",
      "                 'a leisurely stroll along the seawall, relax on the beach, or '\n",
      "                 'explore the vibrant community that makes Kitsilano a '\n",
      "                 'sought-after destination. With easy access to public '\n",
      "                 'transportation and major roadways, commuting to downtown '\n",
      "                 'Vancouver or other parts of the city is a breeze. Come see '\n",
      "                 'why Kitsilano is the perfect place to call home.',\n",
      "  'listing_id': '17',\n",
      "  'neighborhood': 'Kitsilano',\n",
      "  'price': 950000,\n",
      "  'property_type': 'townhouse',\n",
      "  'sqft': 1500},\n",
      " {'address': '2044 Cypress St.',\n",
      "  'bathrooms': 2.5,\n",
      "  'bedrooms': 3,\n",
      "  'description': 'Welcome to this stunning townhouse located in the heart of '\n",
      "                 'Kitsilano. This beautifully designed home features an open '\n",
      "                 'concept living area with high ceilings and large windows '\n",
      "                 'that bring in an abundance of natural light. The modern '\n",
      "                 'kitchen is equipped with stainless steel appliances, quartz '\n",
      "                 'countertops, and a large island perfect for entertaining. '\n",
      "                 'Upstairs, you will find three spacious bedrooms including a '\n",
      "                 'master suite with a walk-in closet and ensuite bathroom. '\n",
      "                 'Enjoy the outdoors on your private patio or take a short '\n",
      "                 \"walk to the beach and local shops. Don't miss out on this \"\n",
      "                 'opportunity to own a piece of paradise in Kitsilano!\\n'\n",
      "                 'Experience the vibrant lifestyle of Kitsilano with its '\n",
      "                 'trendy cafes, boutique shops, and beautiful parks. This '\n",
      "                 'townhouse is conveniently located near public '\n",
      "                 'transportation, top-rated schools, and recreational '\n",
      "                 'facilities. Whether you enjoy biking along the seawall, '\n",
      "                 'relaxing on the beach, or exploring the local markets, '\n",
      "                 \"Kitsilano has something for everyone. Don't miss out on this \"\n",
      "                 \"rare opportunity to live in one of Vancouver's most \"\n",
      "                 'sought-after neighborhoods.',\n",
      "  'listing_id': '18',\n",
      "  'neighborhood': 'Kitsilano',\n",
      "  'price': 950000,\n",
      "  'property_type': 'townhouse',\n",
      "  'sqft': 1500}]\n"
     ]
    }
   ],
   "source": [
    "query2 = \"Close to the beach\"\n",
    "pprint(get_listings_from_query(user_query=query2, collection=collection))"
   ]
  },
  {
   "cell_type": "code",
   "execution_count": 11,
   "id": "c6938640-59c6-4ed8-9084-cad40df3dbcd",
   "metadata": {},
   "outputs": [
    {
     "name": "stdout",
     "output_type": "stream",
     "text": [
      "[{'address': '9412 Cedar St.',\n",
      "  'bathrooms': 2.5,\n",
      "  'bedrooms': 3,\n",
      "  'description': 'Welcome to this stunning townhouse located in the heart of '\n",
      "                 'Mount Pleasant. This beautifully designed home features 3 '\n",
      "                 'spacious bedrooms, 2.5 bathrooms, and a modern open concept '\n",
      "                 'layout. The main floor boasts a gourmet kitchen with '\n",
      "                 'stainless steel appliances, quartz countertops, and a large '\n",
      "                 'island perfect for entertaining. The living room is bright '\n",
      "                 'and airy with large windows that let in plenty of natural '\n",
      "                 \"light. Upstairs, you'll find the luxurious master suite with \"\n",
      "                 'a walk-in closet and ensuite bathroom. The two additional '\n",
      "                 'bedrooms are perfect for guests or a home office. This '\n",
      "                 'townhouse also includes a private patio, perfect for '\n",
      "                 'enjoying your morning coffee or hosting a summer BBQ. '\n",
      "                 'Located just steps away from trendy shops, restaurants, and '\n",
      "                 'parks, this is urban living at its finest.\\n'\n",
      "                 \"Don't miss out on this rare opportunity to own a townhouse \"\n",
      "                 'in the sought-after Mount Pleasant neighborhood. Known for '\n",
      "                 'its vibrant community, excellent schools, and convenient '\n",
      "                 'location, Mount Pleasant offers the perfect blend of urban '\n",
      "                 'living and peaceful surroundings. Enjoy easy access to '\n",
      "                 'public transportation, bike paths, and green spaces, making '\n",
      "                 'it easy to explore everything this neighborhood has to '\n",
      "                 'offer. With its tree-lined streets, historic architecture, '\n",
      "                 'and bustling commercial district, Mount Pleasant is a place '\n",
      "                 'where you can truly live, work, and play. Come see why so '\n",
      "                 'many people are choosing to call Mount Pleasant home!',\n",
      "  'listing_id': '20',\n",
      "  'neighborhood': 'Mount Pleasant',\n",
      "  'price': 950000,\n",
      "  'property_type': 'townhouse',\n",
      "  'sqft': 1500},\n",
      " {'address': '2919 Cypress Ave.',\n",
      "  'bathrooms': 2.5,\n",
      "  'bedrooms': 3,\n",
      "  'description': 'Welcome to this charming townhouse located in the heart of '\n",
      "                 'Kitsilano. This beautifully renovated home features an open '\n",
      "                 'concept living and dining area, perfect for entertaining '\n",
      "                 'guests. The kitchen boasts stainless steel appliances, '\n",
      "                 'granite countertops, and plenty of storage space. Upstairs, '\n",
      "                 \"you'll find three spacious bedrooms including a master suite \"\n",
      "                 'with a walk-in closet and ensuite bathroom. Enjoy the '\n",
      "                 'convenience of a private patio, perfect for summer BBQs. '\n",
      "                 'This townhouse is just steps away from shops, restaurants, '\n",
      "                 'and parks, making it the ideal place to call home.\\n'\n",
      "                 \"Don't miss out on this rare opportunity to own a townhouse \"\n",
      "                 'in Kitsilano. Known for its trendy cafes, boutique shops, '\n",
      "                 'and beautiful beaches, Kitsilano offers the perfect mix of '\n",
      "                 'urban convenience and outdoor recreation. This townhouse is '\n",
      "                 'located in a quiet and family-friendly neighborhood, with '\n",
      "                 'easy access to public transportation and top-rated schools. '\n",
      "                 \"Whether you're a young professional looking for a vibrant \"\n",
      "                 'community or a growing family in need of space, this '\n",
      "                 'townhouse has it all. Schedule a viewing today and '\n",
      "                 'experience the best of Kitsilano living.',\n",
      "  'listing_id': '19',\n",
      "  'neighborhood': 'Kitsilano',\n",
      "  'price': 950000,\n",
      "  'property_type': 'townhouse',\n",
      "  'sqft': 1500}]\n"
     ]
    }
   ],
   "source": [
    "query3 = \"Walking distance to nice restaurants\"\n",
    "pprint(get_listings_from_query(user_query=query3, collection=collection))"
   ]
  },
  {
   "cell_type": "code",
   "execution_count": 12,
   "id": "a55bdf65-56d9-44ac-ba28-2d323f6db2d7",
   "metadata": {},
   "outputs": [
    {
     "name": "stdout",
     "output_type": "stream",
     "text": [
      "[{'address': '9099 Oceanview Ave.',\n",
      "  'bathrooms': 2.0,\n",
      "  'bedrooms': 2,\n",
      "  'description': 'Welcome to this luxurious condo located in the heart of '\n",
      "                 'Downtown Vancouver. This stunning unit offers breathtaking '\n",
      "                 'views of the city skyline and waterfront. The open concept '\n",
      "                 'layout is perfect for entertaining, with a modern kitchen '\n",
      "                 'featuring high-end appliances and a spacious living area. '\n",
      "                 'The master bedroom boasts a walk-in closet and en-suite '\n",
      "                 'bathroom with a deep soaking tub. Enjoy the convenience of '\n",
      "                 'being steps away from top restaurants, shopping, and '\n",
      "                 'entertainment. Building amenities include a fitness center, '\n",
      "                 \"pool, and 24-hour concierge service. Don't miss out on this \"\n",
      "                 'rare opportunity to own a piece of urban paradise.\\n'\n",
      "                 'Experience the vibrant energy of Downtown Vancouver in this '\n",
      "                 'prime location. Enjoy easy access to Stanley Park, Yaletown, '\n",
      "                 'and the seawall for outdoor activities. Indulge in '\n",
      "                 'world-class dining, shopping, and cultural attractions right '\n",
      "                 'at your doorstep. This is urban living at its finest, with '\n",
      "                 \"everything you need just moments away. Don't wait, schedule \"\n",
      "                 'a viewing today!',\n",
      "  'listing_id': '13',\n",
      "  'neighborhood': 'Downtown Vancouver',\n",
      "  'price': 950000,\n",
      "  'property_type': 'condo',\n",
      "  'sqft': 1200},\n",
      " {'address': '7703 Cedar St.',\n",
      "  'bathrooms': 8.0,\n",
      "  'bedrooms': 6,\n",
      "  'description': 'Welcome to this luxurious mansion located in the prestigious '\n",
      "                 'neighborhood of Shaughnessy. This stunning home boasts over '\n",
      "                 '10,000 square feet of living space, featuring 6 spacious '\n",
      "                 'bedrooms, 8 bathrooms, a grand foyer, gourmet kitchen, '\n",
      "                 'formal dining room, home theater, and a private backyard '\n",
      "                 'oasis with a pool and spa. The master suite is a true '\n",
      "                 'retreat with a fireplace, sitting area, and a spa-like '\n",
      "                 'ensuite bathroom. This is the epitome of luxury living in '\n",
      "                 \"Vancouver, don't miss out on this rare opportunity to own a \"\n",
      "                 'piece of paradise.\\n'\n",
      "                 'Shaughnessy is known for its tree-lined streets, grand '\n",
      "                 'heritage homes, and prestigious residents. This neighborhood '\n",
      "                 'offers a peaceful and upscale lifestyle, with easy access to '\n",
      "                 'top-rated schools, parks, shopping, and dining options. '\n",
      "                 \"Don't miss out on this once-in-a-lifetime opportunity to own \"\n",
      "                 \"a mansion in one of Vancouver's most exclusive \"\n",
      "                 'neighborhoods.',\n",
      "  'listing_id': '8',\n",
      "  'neighborhood': 'Shaughnessy',\n",
      "  'price': 5000000,\n",
      "  'property_type': 'mansion',\n",
      "  'sqft': 10000}]\n"
     ]
    }
   ],
   "source": [
    "# This one is cool. The word \"bougie\" is slang and not present in the dataset.\n",
    "query3 = \"Show me the bougie options\"\n",
    "pprint(get_listings_from_query(user_query=query3, collection=collection))"
   ]
  },
  {
   "cell_type": "markdown",
   "id": "81553874",
   "metadata": {},
   "source": [
    "# Augmented Response Generation"
   ]
  },
  {
   "cell_type": "markdown",
   "id": "2ee03399",
   "metadata": {},
   "source": [
    "## Logic for Searching and Augmenting Listing Descriptions\n",
    "I will now demonstrate a logical flow where buyer preferences are used to search and then augment the description of real estate listings. The augmentation should personalize the listing without changing factual information.\n",
    "\n",
    "Lets utilize an LLM to generate personalized descriptions for the real estate listings based on buyer preferences. The descriptions should be unique, appealing, and tailored to the preferences provided."
   ]
  },
  {
   "cell_type": "markdown",
   "id": "17fe29d7-d754-48d2-8103-b9cb0fd9f06e",
   "metadata": {},
   "source": [
    "Lets pretend like we have set up a flow that records the following responses from the human"
   ]
  },
  {
   "cell_type": "code",
   "execution_count": 13,
   "id": "9177aa2b-6a7c-4c62-93eb-fd3e2272d2c1",
   "metadata": {},
   "outputs": [],
   "source": [
    "questions = [\n",
    "    \"What is your name?\",\n",
    "    \"How big do you want your house to be?\",\n",
    "    \"What is the most important thing about your new house\",  \n",
    "    \"Which transportation options are important to you?\",   \n",
    "]\n",
    "answers = [\n",
    "    \"Doug McDude\",\n",
    "    \"A comfortable two-bedroom house with a spacious kitchen and a cozy living room.\",\n",
    "    \"That its bougie.\",\n",
    "    \"Its important that it is close to the outdoors\",\n",
    "]"
   ]
  },
  {
   "cell_type": "markdown",
   "id": "06418100-5832-4657-b6b2-925a172251e6",
   "metadata": {},
   "source": [
    "Now we can get personalized responses."
   ]
  },
  {
   "cell_type": "code",
   "execution_count": 14,
   "id": "5f441bf5-72fd-427c-bd54-136acd19e92e",
   "metadata": {},
   "outputs": [
    {
     "data": {
      "text/plain": [
       "[{'listing_id': '5',\n",
       "  'description': \"Welcome to this stunning 2 bedroom, 2 bathroom condo located in the heart of Downtown Vancouver, Doug McDude. This modern condo is the perfect size for you, with a comfortable two-bedroom layout that includes a spacious kitchen and cozy living room. The open concept design and floor-to-ceiling windows allow for plenty of natural light to flow through the space, creating a warm and inviting atmosphere. \\n\\nThe kitchen is equipped with stainless steel appliances, quartz countertops, and a large island perfect for entertaining - just what you were looking for in a new house. The master bedroom boasts a walk-in closet and ensuite bathroom with a luxurious soaking tub, adding a touch of luxury to your everyday life. \\n\\nYou mentioned that it's important for your new house to be bougie, and this condo certainly fits the bill with its high-end finishes and modern design. Additionally, you value being close to the outdoors, and this condo offers a private balcony with city views where you can relax and enjoy the fresh air.\\n\\nExperience the vibrant energy of Downtown Vancouver living at its best in this prime location. Just steps away from world-class dining, shopping, entertainment, and public transportation - everything you need is right at your doorstep. Don't miss out on this opportunity to own a piece of luxury in the heart of the city.\",\n",
       "  'address': '9712 Cypress Ave.',\n",
       "  'bathrooms': 2.0,\n",
       "  'bedrooms': 2,\n",
       "  'neighborhood': 'Downtown Vancouver',\n",
       "  'price': 950000,\n",
       "  'property_type': 'condo',\n",
       "  'sqft': 1100},\n",
       " {'listing_id': '8',\n",
       "  'description': \"Welcome to this luxurious mansion, Doug McDude, located in the prestigious neighborhood of Shaughnessy. This stunning home boasts over 10,000 square feet of living space, perfect for someone who desires a comfortable two-bedroom house with a spacious kitchen and a cozy living room. The grand foyer, gourmet kitchen, and formal dining room are sure to impress anyone looking for a bougie home. The private backyard oasis with a pool and spa is ideal for someone who values being close to the outdoors.\\n\\nThe master suite in this mansion is a true retreat, featuring a fireplace, sitting area, and a spa-like ensuite bathroom. This property truly embodies luxury living in Vancouver, offering a peaceful and upscale lifestyle that aligns with your preferences. Don't miss out on this rare opportunity to own a piece of paradise in one of Vancouver's most exclusive neighborhoods, known for its tree-lined streets, grand heritage homes, and prestigious residents. This mansion is the perfect fit for someone like you, Doug McDude.\",\n",
       "  'address': '7703 Cedar St.',\n",
       "  'bathrooms': 8.0,\n",
       "  'bedrooms': 6,\n",
       "  'neighborhood': 'Shaughnessy',\n",
       "  'price': 5000000,\n",
       "  'property_type': 'mansion',\n",
       "  'sqft': 10000},\n",
       " {'listing_id': '13',\n",
       "  'description': \"Welcome to this luxurious condo, Doug McDude, located in the heart of Downtown Vancouver. This stunning unit offers breathtaking views of the city skyline and waterfront, perfect for someone who values being close to the outdoors. The open concept layout is ideal for entertaining, with a modern kitchen featuring high-end appliances and a spacious living area, meeting your desire for a spacious kitchen and cozy living room. The master bedroom boasts a walk-in closet and en-suite bathroom with a deep soaking tub, ensuring comfort and luxury in your new home.\\n\\nEnjoy the convenience of being steps away from top restaurants, shopping, and entertainment, perfect for someone who values a bougie lifestyle. Building amenities include a fitness center, pool, and 24-hour concierge service, providing the ultimate in urban living. Don't miss out on this rare opportunity to own a piece of urban paradise that aligns with your preferences.\\n\\nExperience the vibrant energy of Downtown Vancouver in this prime location, with easy access to Stanley Park, Yaletown, and the seawall for outdoor activities. Indulge in world-class dining, shopping, and cultural attractions right at your doorstep, fulfilling your desire for a luxurious lifestyle. This is urban living at its finest, with everything you need just moments away. Don't wait, schedule a viewing today and make this luxurious condo your new home.\",\n",
       "  'address': '9099 Oceanview Ave.',\n",
       "  'bathrooms': 2.0,\n",
       "  'bedrooms': 2,\n",
       "  'neighborhood': 'Downtown Vancouver',\n",
       "  'price': 950000,\n",
       "  'property_type': 'condo',\n",
       "  'sqft': 1200}]"
      ]
     },
     "execution_count": 14,
     "metadata": {},
     "output_type": "execute_result"
    }
   ],
   "source": [
    "get_personalized_listings(questions, answers, llm, collection)"
   ]
  },
  {
   "cell_type": "markdown",
   "id": "b6e058b1-64ef-4915-904c-f985697ad630",
   "metadata": {},
   "source": [
    "We can see the descriptions are now personalized to our user `Doug McDude` and his perferences answered by the questions."
   ]
  },
  {
   "cell_type": "code",
   "execution_count": null,
   "id": "12ecfaee-8c27-44c1-9ee7-879295b7ebc4",
   "metadata": {},
   "outputs": [],
   "source": []
  }
 ],
 "metadata": {
  "kernelspec": {
   "display_name": "Python 3 (ipykernel)",
   "language": "python",
   "name": "python3"
  },
  "language_info": {
   "codemirror_mode": {
    "name": "ipython",
    "version": 3
   },
   "file_extension": ".py",
   "mimetype": "text/x-python",
   "name": "python",
   "nbconvert_exporter": "python",
   "pygments_lexer": "ipython3",
   "version": "3.11.7"
  }
 },
 "nbformat": 4,
 "nbformat_minor": 5
}
