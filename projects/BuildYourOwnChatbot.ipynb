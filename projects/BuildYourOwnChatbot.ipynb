{
 "cells": [
  {
   "cell_type": "markdown",
   "id": "124e5672",
   "metadata": {},
   "source": [
    "# Vancouver Homeless Shelter Chatbot"
   ]
  },
  {
   "cell_type": "markdown",
   "id": "2a4a94b3",
   "metadata": {},
   "source": [
    "The city of vancouver offers many services for low cost food. Unfortunately its often not clear where these services are, if they are still active, and what they offer. It would be convinient to have a chatbot that was able to provide this information to people in need.\n",
    "\n",
    "ChatGPT (version 3.5) is able to provide some of the information needed. I.e if you ask to get a list of free food services on the eastside it will provide a list in the following form:\n",
    "\n",
    "```Harvest Project\n",
    "\n",
    "Location: 3980 Fraser Street\n",
    "Provides low-income individuals and families with groceries and fresh produce.\n",
    "\n",
    "... \n",
    "```\n",
    "\n",
    "However when pressed to provide phone numbers, its sometimes not able to, and as well the list is only up to date for January 2022. As new services come online, it would be ideal for the chatbot to be able to provide information for all of the availibles shelters as well as more information for how to contact them.\n",
    "\n",
    "The datasets that we are using are in the data folder of the Github repo."
   ]
  },
  {
   "cell_type": "markdown",
   "id": "cfaa6f71",
   "metadata": {},
   "source": [
    "# Setup"
   ]
  },
  {
   "cell_type": "code",
   "execution_count": 1,
   "id": "b7a7905e",
   "metadata": {},
   "outputs": [],
   "source": [
    "import openai\n",
    "import pandas as pd\n",
    "import tiktoken\n",
    "\n",
    "pd.set_option('max_colwidth', None) # show full width of showing cols\n",
    "pd.set_option('display.max_columns', 1000)\n",
    "pd.set_option(\"expand_frame_repr\", False) # print cols side by side as it's supposed to be\n",
    "pd.options.display.max_seq_items = 200000\n",
    "pd.options.display.max_rows = 400000\n",
    "\n",
    "\n",
    "DATAFILE = \"data/free-and-low-cost-food-programs-vancouver.json\"\n",
    "openai.api_key = \"<API_TOKEN>\"\n",
    "MODEL_NAME = 'gpt-3.5-turbo-instruct'\n",
    "\n",
    "CONTEXT = \"\"\"\n",
    "Answer the question based on the context below, if it can't be answered using the context, say \"I dont know\".\n",
    "\n",
    "Context: \n",
    "\n",
    "{}\n",
    "\n",
    "---\n",
    "\n",
    "\"\"\"\n",
    "\n",
    "PROMPT_TEMPLATE = \"\"\"{}\n",
    "Question: {}\n",
    "\n",
    "Provide your answer if the following form:\n",
    "\n",
    "Place\n",
    "- Location: <address>\n",
    "- Phone number:\n",
    "- Description:\n",
    "\n",
    "Answer:\"\"\""
   ]
  },
  {
   "cell_type": "markdown",
   "id": "a63d4c5f",
   "metadata": {},
   "source": [
    "## Data Wrangling\n",
    "This section cleans the data and makes a text column"
   ]
  },
  {
   "cell_type": "code",
   "execution_count": 2,
   "id": "be9b671f",
   "metadata": {},
   "outputs": [
    {
     "data": {
      "text/html": [
       "<div>\n",
       "<style scoped>\n",
       "    .dataframe tbody tr th:only-of-type {\n",
       "        vertical-align: middle;\n",
       "    }\n",
       "\n",
       "    .dataframe tbody tr th {\n",
       "        vertical-align: top;\n",
       "    }\n",
       "\n",
       "    .dataframe thead th {\n",
       "        text-align: right;\n",
       "    }\n",
       "</style>\n",
       "<table border=\"1\" class=\"dataframe\">\n",
       "  <thead>\n",
       "    <tr style=\"text-align: right;\">\n",
       "      <th></th>\n",
       "      <th>program_name</th>\n",
       "      <th>description</th>\n",
       "      <th>program_status</th>\n",
       "      <th>organization_name</th>\n",
       "      <th>program_population_served</th>\n",
       "      <th>address_extra_info</th>\n",
       "      <th>location_address</th>\n",
       "      <th>local_areas</th>\n",
       "      <th>provides_meals</th>\n",
       "      <th>provides_hampers</th>\n",
       "      <th>delivery_available</th>\n",
       "      <th>takeout_available</th>\n",
       "      <th>wheelchair_accessible</th>\n",
       "      <th>meal_cost</th>\n",
       "      <th>hamper_cost</th>\n",
       "      <th>signup_required</th>\n",
       "      <th>signup_phone_number</th>\n",
       "      <th>signup_email</th>\n",
       "      <th>requires_referral</th>\n",
       "      <th>referral_agency_name</th>\n",
       "      <th>referral_phone_number</th>\n",
       "      <th>referral_email</th>\n",
       "      <th>latitude</th>\n",
       "      <th>longitude</th>\n",
       "      <th>last_update_date</th>\n",
       "      <th>geom</th>\n",
       "    </tr>\n",
       "  </thead>\n",
       "  <tbody>\n",
       "    <tr>\n",
       "      <th>0</th>\n",
       "      <td>Washington Community Market</td>\n",
       "      <td>Low cost essential food and household supplies, Mon-Sat 9am-5pm. For info contact (604) 683-0073.</td>\n",
       "      <td>Open</td>\n",
       "      <td>Portland Hotel Society (PHS)</td>\n",
       "      <td>None</td>\n",
       "      <td>Ground Floor</td>\n",
       "      <td>179 E Hastings St, Vancouver, BC</td>\n",
       "      <td>Downtown</td>\n",
       "      <td>False</td>\n",
       "      <td>True</td>\n",
       "      <td>No</td>\n",
       "      <td>No</td>\n",
       "      <td>Yes</td>\n",
       "      <td>None</td>\n",
       "      <td>Low cost</td>\n",
       "      <td>No</td>\n",
       "      <td>None</td>\n",
       "      <td>None</td>\n",
       "      <td>No</td>\n",
       "      <td>NaN</td>\n",
       "      <td>NaN</td>\n",
       "      <td>NaN</td>\n",
       "      <td>49.281418</td>\n",
       "      <td>-123.100279</td>\n",
       "      <td>2023-07-31T10:10:06-07:00</td>\n",
       "      <td>{'lon': -123.100279, 'lat': 49.281418}</td>\n",
       "    </tr>\n",
       "    <tr>\n",
       "      <th>1</th>\n",
       "      <td>The Dugout - Hot Breakfast</td>\n",
       "      <td>Daily hot meal at 7:30am. For info call (604) 685-5239.</td>\n",
       "      <td>Open</td>\n",
       "      <td>The Dugout</td>\n",
       "      <td>None</td>\n",
       "      <td>None</td>\n",
       "      <td>59 Powell St, Vancouver, BC</td>\n",
       "      <td>Downtown</td>\n",
       "      <td>True</td>\n",
       "      <td>False</td>\n",
       "      <td>No</td>\n",
       "      <td>Yes</td>\n",
       "      <td>Unknown</td>\n",
       "      <td>Free</td>\n",
       "      <td>None</td>\n",
       "      <td>No</td>\n",
       "      <td>None</td>\n",
       "      <td>None</td>\n",
       "      <td>No</td>\n",
       "      <td>NaN</td>\n",
       "      <td>NaN</td>\n",
       "      <td>NaN</td>\n",
       "      <td>49.283284</td>\n",
       "      <td>-123.102773</td>\n",
       "      <td>2022-08-10T06:56:58-07:00</td>\n",
       "      <td>{'lon': -123.102773, 'lat': 49.283284}</td>\n",
       "    </tr>\n",
       "    <tr>\n",
       "      <th>2</th>\n",
       "      <td>Vancouver Community Fridge – LMNH</td>\n",
       "      <td>Fridge, freezer, and pantry stocked with free food. Temporarily located in front of the Soap Dispensary. Available 24/7. \\r\\nMore info at https://vcfp.square.site/</td>\n",
       "      <td>Open</td>\n",
       "      <td>Vancouver Community Fridge Project</td>\n",
       "      <td>None</td>\n",
       "      <td>In front of the Soap Dispensary</td>\n",
       "      <td>3718 Main Street</td>\n",
       "      <td>Riley Park</td>\n",
       "      <td>False</td>\n",
       "      <td>True</td>\n",
       "      <td>No</td>\n",
       "      <td>Yes</td>\n",
       "      <td>Yes</td>\n",
       "      <td>None</td>\n",
       "      <td>Unknown</td>\n",
       "      <td>No</td>\n",
       "      <td>None</td>\n",
       "      <td>None</td>\n",
       "      <td>No</td>\n",
       "      <td>NaN</td>\n",
       "      <td>NaN</td>\n",
       "      <td>NaN</td>\n",
       "      <td>49.251757</td>\n",
       "      <td>-123.100852</td>\n",
       "      <td>2023-08-28T04:27:30-07:00</td>\n",
       "      <td>{'lon': -123.100852, 'lat': 49.251757}</td>\n",
       "    </tr>\n",
       "  </tbody>\n",
       "</table>\n",
       "</div>"
      ],
      "text/plain": [
       "                        program_name                                                                                                                                                          description program_status                   organization_name program_population_served               address_extra_info                  location_address local_areas provides_meals provides_hampers delivery_available takeout_available wheelchair_accessible meal_cost hamper_cost signup_required signup_phone_number signup_email requires_referral  referral_agency_name  referral_phone_number  referral_email   latitude   longitude           last_update_date                                    geom\n",
       "0        Washington Community Market                                                                    Low cost essential food and household supplies, Mon-Sat 9am-5pm. For info contact (604) 683-0073.           Open        Portland Hotel Society (PHS)                      None                     Ground Floor  179 E Hastings St, Vancouver, BC    Downtown          False             True                 No                No                   Yes      None    Low cost              No                None         None                No                   NaN                    NaN             NaN  49.281418 -123.100279  2023-07-31T10:10:06-07:00  {'lon': -123.100279, 'lat': 49.281418}\n",
       "1         The Dugout - Hot Breakfast                                                                                                              Daily hot meal at 7:30am. For info call (604) 685-5239.           Open                          The Dugout                      None                             None       59 Powell St, Vancouver, BC    Downtown           True            False                 No               Yes               Unknown      Free        None              No                None         None                No                   NaN                    NaN             NaN  49.283284 -123.102773  2022-08-10T06:56:58-07:00  {'lon': -123.102773, 'lat': 49.283284}\n",
       "2  Vancouver Community Fridge – LMNH  Fridge, freezer, and pantry stocked with free food. Temporarily located in front of the Soap Dispensary. Available 24/7. \\r\\nMore info at https://vcfp.square.site/           Open  Vancouver Community Fridge Project                      None  In front of the Soap Dispensary                  3718 Main Street  Riley Park          False             True                 No               Yes                   Yes      None     Unknown              No                None         None                No                   NaN                    NaN             NaN  49.251757 -123.100852  2023-08-28T04:27:30-07:00  {'lon': -123.100852, 'lat': 49.251757}"
      ]
     },
     "execution_count": 2,
     "metadata": {},
     "output_type": "execute_result"
    }
   ],
   "source": [
    "df = pd.read_json(DATAFILE)\n",
    "df.head(3)"
   ]
  },
  {
   "cell_type": "code",
   "execution_count": 3,
   "id": "0a595980",
   "metadata": {},
   "outputs": [
    {
     "name": "stdout",
     "output_type": "stream",
     "text": [
      "Percentage of rows updated after January 2022: 89.9%\n"
     ]
    }
   ],
   "source": [
    "perc_updated = len(df[df.last_update_date > '2022-01-01'])/len(df)\n",
    "print(f\"Percentage of rows updated after January 2022: {round(perc_updated*100.0,1)}%\")"
   ]
  },
  {
   "cell_type": "markdown",
   "id": "94ef6bb2",
   "metadata": {},
   "source": [
    "We can drop a few of the rows columns that aren't needed."
   ]
  },
  {
   "cell_type": "code",
   "execution_count": 4,
   "id": "e7caa27c",
   "metadata": {},
   "outputs": [
    {
     "data": {
      "text/plain": [
       "Index(['program_name', 'description', 'program_status', 'organization_name',\n",
       "       'program_population_served', 'address_extra_info', 'location_address',\n",
       "       'local_areas', 'provides_meals', 'provides_hampers',\n",
       "       'delivery_available', 'takeout_available', 'wheelchair_accessible',\n",
       "       'meal_cost', 'hamper_cost', 'signup_required', 'signup_phone_number',\n",
       "       'signup_email', 'requires_referral', 'referral_agency_name',\n",
       "       'referral_phone_number', 'referral_email', 'latitude', 'longitude',\n",
       "       'last_update_date', 'geom'],\n",
       "      dtype='object')"
      ]
     },
     "execution_count": 4,
     "metadata": {},
     "output_type": "execute_result"
    }
   ],
   "source": [
    "df.columns"
   ]
  },
  {
   "cell_type": "code",
   "execution_count": 5,
   "id": "900bb119",
   "metadata": {},
   "outputs": [],
   "source": [
    "keep_columns = ['program_name', 'description', 'program_status', 'organization_name', 'location_address']\n",
    "\n",
    "df = df[df.program_status == 'Open']\n",
    "df = df[keep_columns]"
   ]
  },
  {
   "cell_type": "markdown",
   "id": "3ad56d6e",
   "metadata": {},
   "source": [
    "Let's make a new column called 'text which has all of the information that we need."
   ]
  },
  {
   "cell_type": "code",
   "execution_count": 6,
   "id": "f30b0015",
   "metadata": {},
   "outputs": [],
   "source": [
    "df['text'] = df.apply(lambda row: ', '.join([f\"{col.upper()}: {row[col]}\" for col in df.columns]), axis=1)"
   ]
  },
  {
   "cell_type": "code",
   "execution_count": 7,
   "id": "bf0d5b3a",
   "metadata": {},
   "outputs": [
    {
     "data": {
      "text/plain": [
       "0    PROGRAM_NAME: Washington Community Market, DESCRIPTION: Low cost essential food and household supplies, Mon-Sat 9am-5pm. For info contact (604) 683-0073., PROGRAM_STATUS: Open, ORGANIZATION_NAME: Portland Hotel Society (PHS), LOCATION_ADDRESS: 179 E Hastings St, Vancouver, BC\n",
       "Name: text, dtype: object"
      ]
     },
     "execution_count": 7,
     "metadata": {},
     "output_type": "execute_result"
    }
   ],
   "source": [
    "df.head(1).text"
   ]
  },
  {
   "cell_type": "markdown",
   "id": "ae769871",
   "metadata": {},
   "source": [
    "## Custom Query Completion\n",
    "\n",
    "This section makes a custom query using embeddings from our dataset and send it to OpenAI"
   ]
  },
  {
   "cell_type": "code",
   "execution_count": 8,
   "id": "5d187d1d",
   "metadata": {},
   "outputs": [],
   "source": [
    "from openai.embeddings_utils import get_embedding, distances_from_embeddings\n",
    "EMBEDDING_MODEL_NAME = \"text-embedding-ada-002\""
   ]
  },
  {
   "cell_type": "code",
   "execution_count": 9,
   "id": "821c08dd",
   "metadata": {},
   "outputs": [],
   "source": [
    "batch_size = 100\n",
    "embeddings = []\n",
    "for i in range(0, len(df), batch_size):\n",
    "    # Send text data to OpenAI model to get embeddings\n",
    "    response = openai.Embedding.create(\n",
    "        input=df.iloc[i:i+batch_size][\"text\"].tolist(),\n",
    "        engine=EMBEDDING_MODEL_NAME\n",
    "    )\n",
    "\n",
    "    # Add embeddings to list\n",
    "    embeddings.extend([data[\"embedding\"] for data in response[\"data\"]])\n",
    "\n",
    "# Add embeddings list to dataframe\n",
    "df[\"embeddings\"] = embeddings\n",
    "df.to_json(\"embeddings.json\")"
   ]
  },
  {
   "cell_type": "code",
   "execution_count": 10,
   "id": "8b6e1f75",
   "metadata": {},
   "outputs": [],
   "source": [
    "def get_rows_sorted_by_relevance(question, df):\n",
    "    \"\"\"\n",
    "    Function that takes in a question string and a dataframe containing\n",
    "    rows of text and associated embeddings, and returns that dataframe\n",
    "    sorted from least to most relevant for that question\n",
    "    \"\"\"\n",
    "\n",
    "    # Get embeddings for the question text\n",
    "    question_embeddings = get_embedding(question, engine=EMBEDDING_MODEL_NAME)\n",
    "\n",
    "    # Make a copy of the dataframe and add a \"distances\" column containing\n",
    "    # the cosine distances between each row's embeddings and the\n",
    "    # embeddings of the question\n",
    "    df_copy = df.copy()\n",
    "    df_copy[\"distances\"] = distances_from_embeddings(\n",
    "        question_embeddings,\n",
    "        df_copy[\"embeddings\"].values,\n",
    "        distance_metric=\"cosine\"\n",
    "    )\n",
    "\n",
    "    # Sort the copied dataframe by the distances and return it\n",
    "    # (shorter distance = more relevant so we sort in ascending order)\n",
    "    df_copy.sort_values(\"distances\", ascending=True, inplace=True)\n",
    "    return df_copy\n",
    "\n",
    "\n",
    "\n",
    "def create_prompt(question, df, max_token_count, ask_with_context=True):\n",
    "    \"\"\"\n",
    "    Given a question and a dataframe containing rows of text and their\n",
    "    embeddings, return a text prompt to send to a Completion model\n",
    "    \"\"\"\n",
    "    \n",
    "    if not ask_with_context:\n",
    "        return PROMPT_TEMPLATE.format('', question)\n",
    "    \n",
    "    \n",
    "    # Create a tokenizer that is designed to align with our embeddings\n",
    "    tokenizer = tiktoken.get_encoding(\"cl100k_base\")\n",
    "\n",
    "    # Count the number of tokens in the prompt template and question\n",
    "    current_token_count = len(tokenizer.encode(PROMPT_TEMPLATE)) + \\\n",
    "                            len(tokenizer.encode(question))\n",
    "\n",
    "    context = []\n",
    "    for text in get_rows_sorted_by_relevance(question, df)[\"text\"].values:\n",
    "\n",
    "        # Increase the counter based on the number of tokens in this row\n",
    "        text_token_count = len(tokenizer.encode(text))\n",
    "        current_token_count += text_token_count\n",
    "\n",
    "        # Add the row of text to the list if we haven't exceeded the max\n",
    "        if current_token_count <= max_token_count:\n",
    "            context.append(text)\n",
    "        else:\n",
    "            break\n",
    "                                 \n",
    "    context_string = CONTEXT.format(\"\\n\\n###\\n\\n\".join(context))\n",
    "    return PROMPT_TEMPLATE.format(context_string, question)\n",
    "\n",
    "def answer_question(\n",
    "    question, df, max_prompt_tokens=500, max_answer_tokens=500, ask_with_context=True\n",
    "):\n",
    "    \"\"\"\n",
    "    Given a question, a dataframe containing rows of text, and a maximum\n",
    "    number of desired tokens in the prompt and response, return the\n",
    "    answer to the question according to an OpenAI Completion model\n",
    "\n",
    "    If the model produces an error, return an empty string\n",
    "    \"\"\"\n",
    "\n",
    "\n",
    "    prompt = create_prompt(question, df, max_prompt_tokens, ask_with_context)\n",
    "#     print(f\"PROMPT: {prompt}\")\n",
    "\n",
    "    try:\n",
    "        response = openai.Completion.create(\n",
    "            model=MODEL_NAME,\n",
    "            prompt=prompt,\n",
    "            max_tokens=max_answer_tokens\n",
    "        )\n",
    "        return response[\"choices\"][0][\"text\"].strip()\n",
    "    except Exception as e:\n",
    "        print(e)\n",
    "        return \"\""
   ]
  },
  {
   "cell_type": "markdown",
   "id": "1783f146",
   "metadata": {},
   "source": [
    "## Custom Performance Demonstration\n",
    "\n",
    "TODO: In the cells below, demonstrate the performance of your custom query using at least 2 questions. For each question, show the answer from a basic `Completion` model query as well as the answer from your custom query."
   ]
  },
  {
   "cell_type": "code",
   "execution_count": 11,
   "id": "c403f543",
   "metadata": {},
   "outputs": [],
   "source": [
    "df = pd.read_json(\"embeddings.json\")"
   ]
  },
  {
   "cell_type": "markdown",
   "id": "4f11fdc0",
   "metadata": {},
   "source": [
    "### Question 1"
   ]
  },
  {
   "cell_type": "code",
   "execution_count": 12,
   "id": "4901c850",
   "metadata": {},
   "outputs": [],
   "source": [
    "question_1 = \"Are there any places to get free food on Kaslo street in Vancouver\""
   ]
  },
  {
   "cell_type": "code",
   "execution_count": 13,
   "id": "bd7a093b",
   "metadata": {},
   "outputs": [
    {
     "name": "stdout",
     "output_type": "stream",
     "text": [
      "Yes\n",
      "\n",
      "Place\n",
      "- Location: 1275 Kaslo St\n",
      "- Phone number: (604) 701-1123\n",
      "- Description: Nanaimo Community Food - Provides free food and household supplies for those in need on Nanaimo Street, open Monday-Saturday 9am-5pm. Contact (604) 701-1123 for more information.\n"
     ]
    }
   ],
   "source": [
    "print(answer_question(question_1, df))"
   ]
  },
  {
   "cell_type": "markdown",
   "id": "c7de2e84",
   "metadata": {},
   "source": [
    "This is the correct place to go get supplies."
   ]
  },
  {
   "cell_type": "code",
   "execution_count": 14,
   "id": "193cf651",
   "metadata": {},
   "outputs": [
    {
     "name": "stdout",
     "output_type": "stream",
     "text": [
      "Place:\n",
      "- Location: Kaslo Street Food Hub - 2855 Kaslo Street, Vancouver, BC V5M 3H6\n",
      "- Phone number: (778) 997-9106\n",
      "- Description: This food hub provides free fresh produce and grocery items to community members in need every Friday from 12-3pm. They also offer free hot meals and snacks throughout the week.\n"
     ]
    }
   ],
   "source": [
    "print(answer_question(question_1, df, ask_with_context=False))"
   ]
  },
  {
   "cell_type": "markdown",
   "id": "27653a39",
   "metadata": {},
   "source": [
    "There is no Kaslo Street Food Hub on Kaslo. This is a hallucination."
   ]
  },
  {
   "cell_type": "markdown",
   "id": "6e86e37c",
   "metadata": {},
   "source": [
    "### Question 2"
   ]
  },
  {
   "cell_type": "code",
   "execution_count": 15,
   "id": "6f646989",
   "metadata": {},
   "outputs": [],
   "source": [
    "question_2 = \"Are there any places to get free food on Rupert street in Vancouver\""
   ]
  },
  {
   "cell_type": "code",
   "execution_count": 16,
   "id": "11c07a54",
   "metadata": {},
   "outputs": [
    {
     "name": "stdout",
     "output_type": "stream",
     "text": [
      "Place\n",
      "- Location: 5381 Rupert Street\n",
      "- Phone number: (604) 683-0073\n",
      "- Description: Low cost essential food and household supplies available Mon-Sat 9am-5pm through Rupert Neighborhood House operated by The Universal Church.\n"
     ]
    }
   ],
   "source": [
    "print(answer_question(question_2, df))"
   ]
  },
  {
   "cell_type": "markdown",
   "id": "bbcd226c",
   "metadata": {},
   "source": [
    "Again, this is a correct place that you can go get low cost food."
   ]
  },
  {
   "cell_type": "code",
   "execution_count": 17,
   "id": "e8d45f74",
   "metadata": {},
   "outputs": [
    {
     "name": "stdout",
     "output_type": "stream",
     "text": [
      "There are no specific places on Rupert Street in Vancouver that offer free food. However, there are some nearby options that may provide food assistance or offer free meals at certain times. These include:\n",
      "\n",
      "Place 1\n",
      "- Location: 288 East Hastings St, Vancouver, BC V6A 1P2\n",
      "- Phone number: (604) 255-3097\n",
      "- Description: The Salvation Army Harbour Light offers a daily hot meal program for those in need of food assistance. They also provide a food bank service for registered individuals.\n",
      "\n",
      "Place 2\n",
      "- Location: 1211 Thurlow St, Vancouver, BC V6E 1X5\n",
      "- Phone number: (604) 605-2994\n",
      "- Description: The First Baptist Church offers a free community meal every Thursday evening at 6:15pm. This is open to anyone in need of a meal.\n",
      "\n",
      "Place 3\n",
      "- Location: 468 Powell St, Vancouver, BC V6A 1G9\n",
      "- Phone number: (604) 605-7138\n",
      "- Description: The Ray-Cam Community Centre offers a food bank service on Tuesdays and Thursdays for residents in the downtown eastside. They also have a daily hot meals program that is free for children under the age of 16.\n"
     ]
    }
   ],
   "source": [
    "print(answer_question(question_2, df, ask_with_context=False))"
   ]
  },
  {
   "cell_type": "markdown",
   "id": "e6f35e68",
   "metadata": {},
   "source": [
    "It looks like ChatGPT was not able to produce any places to go get free food on Rupert Street."
   ]
  }
 ],
 "metadata": {
  "kernelspec": {
   "display_name": "Python 3 (ipykernel)",
   "language": "python",
   "name": "python3"
  },
  "language_info": {
   "codemirror_mode": {
    "name": "ipython",
    "version": 3
   },
   "file_extension": ".py",
   "mimetype": "text/x-python",
   "name": "python",
   "nbconvert_exporter": "python",
   "pygments_lexer": "ipython3",
   "version": "3.9.18"
  }
 },
 "nbformat": 4,
 "nbformat_minor": 5
}
